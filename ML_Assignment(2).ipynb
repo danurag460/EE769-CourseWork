{
  "nbformat": 4,
  "nbformat_minor": 0,
  "metadata": {
    "colab": {
      "name": "ML_Assignment(2)",
      "provenance": [],
      "collapsed_sections": []
    },
    "kernelspec": {
      "display_name": "Python 3",
      "name": "python3"
    }
  },
  "cells": [
    {
      "cell_type": "markdown",
      "metadata": {
        "id": "m6ykqiFdtkP4"
      },
      "source": [
        "Problem:-The ministry of water of an African country has made a data set of pumps\n",
        "installed in various places in the country to serve the water for their countrymen. It is a\n",
        "tedious and expensive task to maintain these pumps. This data set contains information\n",
        "such as the kind of pump, when it was installed, and how it is managed. Can you predict\n",
        "which pumps require repairs and which are not functional by using the given data set? A\n",
        "smart understanding of water point failure can improve maintenance operations and ensure\n",
        "that clean and safe water is available to these communities. Experiment with a few methods\n",
        "such as tree based methods, bagging, boosting method, support vector machine etc. and\n",
        "comment on the suitability of the method to predict the classes. Before implementing any\n",
        "model, visualize the data and comment on the data statistics."
      ]
    },
    {
      "cell_type": "markdown",
      "metadata": {
        "id": "Aq3lq_SFtzgD"
      },
      "source": [
        "1) Data exploration and visualization with insightful commentary to determine potentially\n",
        "useful variables"
      ]
    },
    {
      "cell_type": "code",
      "metadata": {
        "id": "Gi7MN3R8s_ir"
      },
      "source": [
        "# Importing the required libraries\n",
        "\n",
        "import numpy as np\n",
        "import pandas as pd\n",
        "import seaborn as sns\n",
        "import matplotlib.pyplot as plt\n",
        "import matplotlib.pylab as pylab\n",
        "%matplotlib inline\n",
        "\n",
        "from sklearn.metrics import accuracy_score"
      ],
      "execution_count": null,
      "outputs": []
    },
    {
      "cell_type": "code",
      "metadata": {
        "id": "LiVBqqLMu-5h"
      },
      "source": [
        "#Reading the files into train_df and test_df\n",
        "train_df = pd.read_csv('/content/sample_data/Train.csv')\n",
        "test_df = pd.read_csv('/content/sample_data/test.csv')"
      ],
      "execution_count": null,
      "outputs": []
    },
    {
      "cell_type": "markdown",
      "metadata": {
        "id": "BLvFYAndv9a8"
      },
      "source": [
        "Descrptive Statistics"
      ]
    },
    {
      "cell_type": "code",
      "metadata": {
        "id": "dfkkPjijv7yA",
        "colab": {
          "base_uri": "https://localhost:8080/",
          "height": 384
        },
        "outputId": "3d6adba9-cf73-4029-c8d8-8407b81c2613"
      },
      "source": [
        "train_df.head()"
      ],
      "execution_count": null,
      "outputs": [
        {
          "output_type": "execute_result",
          "data": {
            "text/html": [
              "<div>\n",
              "<style scoped>\n",
              "    .dataframe tbody tr th:only-of-type {\n",
              "        vertical-align: middle;\n",
              "    }\n",
              "\n",
              "    .dataframe tbody tr th {\n",
              "        vertical-align: top;\n",
              "    }\n",
              "\n",
              "    .dataframe thead th {\n",
              "        text-align: right;\n",
              "    }\n",
              "</style>\n",
              "<table border=\"1\" class=\"dataframe\">\n",
              "  <thead>\n",
              "    <tr style=\"text-align: right;\">\n",
              "      <th></th>\n",
              "      <th>id</th>\n",
              "      <th>amount_tsh</th>\n",
              "      <th>date_recorded</th>\n",
              "      <th>funder</th>\n",
              "      <th>gps_height</th>\n",
              "      <th>installer</th>\n",
              "      <th>longitude</th>\n",
              "      <th>latitude</th>\n",
              "      <th>wpt_name</th>\n",
              "      <th>num_private</th>\n",
              "      <th>basin</th>\n",
              "      <th>subvillage</th>\n",
              "      <th>region</th>\n",
              "      <th>region_code</th>\n",
              "      <th>district_code</th>\n",
              "      <th>lga</th>\n",
              "      <th>ward</th>\n",
              "      <th>population</th>\n",
              "      <th>public_meeting</th>\n",
              "      <th>recorded_by</th>\n",
              "      <th>scheme_management</th>\n",
              "      <th>scheme_name</th>\n",
              "      <th>permit</th>\n",
              "      <th>construction_year</th>\n",
              "      <th>extraction_type</th>\n",
              "      <th>extraction_type_group</th>\n",
              "      <th>extraction_type_class</th>\n",
              "      <th>management</th>\n",
              "      <th>management_group</th>\n",
              "      <th>payment</th>\n",
              "      <th>payment_type</th>\n",
              "      <th>water_quality</th>\n",
              "      <th>quality_group</th>\n",
              "      <th>quantity</th>\n",
              "      <th>quantity_group</th>\n",
              "      <th>source</th>\n",
              "      <th>source_type</th>\n",
              "      <th>source_class</th>\n",
              "      <th>waterpoint_type</th>\n",
              "      <th>waterpoint_type_group</th>\n",
              "      <th>status_group</th>\n",
              "    </tr>\n",
              "  </thead>\n",
              "  <tbody>\n",
              "    <tr>\n",
              "      <th>0</th>\n",
              "      <td>7411</td>\n",
              "      <td>7.0</td>\n",
              "      <td>2013-03-20</td>\n",
              "      <td>Germany Republi</td>\n",
              "      <td>1203</td>\n",
              "      <td>CES</td>\n",
              "      <td>37.228664</td>\n",
              "      <td>-3.256505</td>\n",
              "      <td>Kwa Abdalla</td>\n",
              "      <td>0</td>\n",
              "      <td>Pangani</td>\n",
              "      <td>Mafurini</td>\n",
              "      <td>Kilimanjaro</td>\n",
              "      <td>3</td>\n",
              "      <td>5</td>\n",
              "      <td>Hai</td>\n",
              "      <td>Machame Kaskazini</td>\n",
              "      <td>90</td>\n",
              "      <td>True</td>\n",
              "      <td>GeoData Consultants Ltd</td>\n",
              "      <td>Water Board</td>\n",
              "      <td>Machame water supply</td>\n",
              "      <td>True</td>\n",
              "      <td>2008</td>\n",
              "      <td>gravity</td>\n",
              "      <td>gravity</td>\n",
              "      <td>gravity</td>\n",
              "      <td>water board</td>\n",
              "      <td>user-group</td>\n",
              "      <td>pay per bucket</td>\n",
              "      <td>per bucket</td>\n",
              "      <td>soft</td>\n",
              "      <td>good</td>\n",
              "      <td>enough</td>\n",
              "      <td>enough</td>\n",
              "      <td>spring</td>\n",
              "      <td>spring</td>\n",
              "      <td>groundwater</td>\n",
              "      <td>communal standpipe</td>\n",
              "      <td>communal standpipe</td>\n",
              "      <td>functional</td>\n",
              "    </tr>\n",
              "    <tr>\n",
              "      <th>1</th>\n",
              "      <td>18014</td>\n",
              "      <td>0.0</td>\n",
              "      <td>2011-02-21</td>\n",
              "      <td>Cdtf</td>\n",
              "      <td>1409</td>\n",
              "      <td>CDTF</td>\n",
              "      <td>34.615481</td>\n",
              "      <td>-9.972601</td>\n",
              "      <td>none</td>\n",
              "      <td>0</td>\n",
              "      <td>Lake Nyasa</td>\n",
              "      <td>Ituni</td>\n",
              "      <td>Iringa</td>\n",
              "      <td>11</td>\n",
              "      <td>5</td>\n",
              "      <td>Ludewa</td>\n",
              "      <td>Luana</td>\n",
              "      <td>70</td>\n",
              "      <td>False</td>\n",
              "      <td>GeoData Consultants Ltd</td>\n",
              "      <td>Private operator</td>\n",
              "      <td>Mgowel</td>\n",
              "      <td>False</td>\n",
              "      <td>1984</td>\n",
              "      <td>gravity</td>\n",
              "      <td>gravity</td>\n",
              "      <td>gravity</td>\n",
              "      <td>private operator</td>\n",
              "      <td>commercial</td>\n",
              "      <td>never pay</td>\n",
              "      <td>never pay</td>\n",
              "      <td>soft</td>\n",
              "      <td>good</td>\n",
              "      <td>enough</td>\n",
              "      <td>enough</td>\n",
              "      <td>spring</td>\n",
              "      <td>spring</td>\n",
              "      <td>groundwater</td>\n",
              "      <td>communal standpipe</td>\n",
              "      <td>communal standpipe</td>\n",
              "      <td>functional</td>\n",
              "    </tr>\n",
              "    <tr>\n",
              "      <th>2</th>\n",
              "      <td>26103</td>\n",
              "      <td>0.0</td>\n",
              "      <td>2013-01-04</td>\n",
              "      <td>Government Of Tanzania</td>\n",
              "      <td>1572</td>\n",
              "      <td>DWE</td>\n",
              "      <td>36.658778</td>\n",
              "      <td>-3.321529</td>\n",
              "      <td>Kwa Loishiye</td>\n",
              "      <td>0</td>\n",
              "      <td>Pangani</td>\n",
              "      <td>Melebuki</td>\n",
              "      <td>Arusha</td>\n",
              "      <td>2</td>\n",
              "      <td>2</td>\n",
              "      <td>Arusha Rural</td>\n",
              "      <td>Kimnyaki</td>\n",
              "      <td>150</td>\n",
              "      <td>True</td>\n",
              "      <td>GeoData Consultants Ltd</td>\n",
              "      <td>VWC</td>\n",
              "      <td>Saitero olosaita pipe line</td>\n",
              "      <td>True</td>\n",
              "      <td>2002</td>\n",
              "      <td>gravity</td>\n",
              "      <td>gravity</td>\n",
              "      <td>gravity</td>\n",
              "      <td>vwc</td>\n",
              "      <td>user-group</td>\n",
              "      <td>never pay</td>\n",
              "      <td>never pay</td>\n",
              "      <td>soft</td>\n",
              "      <td>good</td>\n",
              "      <td>insufficient</td>\n",
              "      <td>insufficient</td>\n",
              "      <td>spring</td>\n",
              "      <td>spring</td>\n",
              "      <td>groundwater</td>\n",
              "      <td>communal standpipe</td>\n",
              "      <td>communal standpipe</td>\n",
              "      <td>non functional</td>\n",
              "    </tr>\n",
              "    <tr>\n",
              "      <th>3</th>\n",
              "      <td>31140</td>\n",
              "      <td>0.0</td>\n",
              "      <td>2011-04-03</td>\n",
              "      <td>District Council</td>\n",
              "      <td>0</td>\n",
              "      <td>District Council</td>\n",
              "      <td>33.628025</td>\n",
              "      <td>-8.860795</td>\n",
              "      <td>Mwanzechele</td>\n",
              "      <td>0</td>\n",
              "      <td>Rufiji</td>\n",
              "      <td>Darajani</td>\n",
              "      <td>Mbeya</td>\n",
              "      <td>12</td>\n",
              "      <td>2</td>\n",
              "      <td>Mbeya Rural</td>\n",
              "      <td>Inyala</td>\n",
              "      <td>0</td>\n",
              "      <td>True</td>\n",
              "      <td>GeoData Consultants Ltd</td>\n",
              "      <td>VWC</td>\n",
              "      <td>NaN</td>\n",
              "      <td>True</td>\n",
              "      <td>0</td>\n",
              "      <td>gravity</td>\n",
              "      <td>gravity</td>\n",
              "      <td>gravity</td>\n",
              "      <td>wug</td>\n",
              "      <td>user-group</td>\n",
              "      <td>pay annually</td>\n",
              "      <td>annually</td>\n",
              "      <td>soft</td>\n",
              "      <td>good</td>\n",
              "      <td>insufficient</td>\n",
              "      <td>insufficient</td>\n",
              "      <td>river</td>\n",
              "      <td>river/lake</td>\n",
              "      <td>surface</td>\n",
              "      <td>communal standpipe</td>\n",
              "      <td>communal standpipe</td>\n",
              "      <td>functional</td>\n",
              "    </tr>\n",
              "    <tr>\n",
              "      <th>4</th>\n",
              "      <td>12286</td>\n",
              "      <td>300.0</td>\n",
              "      <td>2013-03-08</td>\n",
              "      <td>District Council</td>\n",
              "      <td>1283</td>\n",
              "      <td>District Council</td>\n",
              "      <td>37.655509</td>\n",
              "      <td>-3.669777</td>\n",
              "      <td>Kwa Kidaya</td>\n",
              "      <td>0</td>\n",
              "      <td>Pangani</td>\n",
              "      <td>Mwira A</td>\n",
              "      <td>Kilimanjaro</td>\n",
              "      <td>3</td>\n",
              "      <td>2</td>\n",
              "      <td>Mwanga</td>\n",
              "      <td>Shinghatini</td>\n",
              "      <td>34</td>\n",
              "      <td>True</td>\n",
              "      <td>GeoData Consultants Ltd</td>\n",
              "      <td>VWC</td>\n",
              "      <td>Churu water supply</td>\n",
              "      <td>False</td>\n",
              "      <td>2007</td>\n",
              "      <td>gravity</td>\n",
              "      <td>gravity</td>\n",
              "      <td>gravity</td>\n",
              "      <td>vwc</td>\n",
              "      <td>user-group</td>\n",
              "      <td>pay monthly</td>\n",
              "      <td>monthly</td>\n",
              "      <td>soft</td>\n",
              "      <td>good</td>\n",
              "      <td>insufficient</td>\n",
              "      <td>insufficient</td>\n",
              "      <td>spring</td>\n",
              "      <td>spring</td>\n",
              "      <td>groundwater</td>\n",
              "      <td>communal standpipe</td>\n",
              "      <td>communal standpipe</td>\n",
              "      <td>functional</td>\n",
              "    </tr>\n",
              "  </tbody>\n",
              "</table>\n",
              "</div>"
            ],
            "text/plain": [
              "      id  amount_tsh  ... waterpoint_type_group    status_group\n",
              "0   7411         7.0  ...    communal standpipe      functional\n",
              "1  18014         0.0  ...    communal standpipe      functional\n",
              "2  26103         0.0  ...    communal standpipe  non functional\n",
              "3  31140         0.0  ...    communal standpipe      functional\n",
              "4  12286       300.0  ...    communal standpipe      functional\n",
              "\n",
              "[5 rows x 41 columns]"
            ]
          },
          "metadata": {
            "tags": []
          },
          "execution_count": 457
        }
      ]
    },
    {
      "cell_type": "code",
      "metadata": {
        "id": "TFDvl0z72N5r",
        "colab": {
          "base_uri": "https://localhost:8080/",
          "height": 401
        },
        "outputId": "6fa6907b-39b3-4030-8c85-4630432318b7"
      },
      "source": [
        "train_df.tail()"
      ],
      "execution_count": null,
      "outputs": [
        {
          "output_type": "execute_result",
          "data": {
            "text/html": [
              "<div>\n",
              "<style scoped>\n",
              "    .dataframe tbody tr th:only-of-type {\n",
              "        vertical-align: middle;\n",
              "    }\n",
              "\n",
              "    .dataframe tbody tr th {\n",
              "        vertical-align: top;\n",
              "    }\n",
              "\n",
              "    .dataframe thead th {\n",
              "        text-align: right;\n",
              "    }\n",
              "</style>\n",
              "<table border=\"1\" class=\"dataframe\">\n",
              "  <thead>\n",
              "    <tr style=\"text-align: right;\">\n",
              "      <th></th>\n",
              "      <th>id</th>\n",
              "      <th>amount_tsh</th>\n",
              "      <th>date_recorded</th>\n",
              "      <th>funder</th>\n",
              "      <th>gps_height</th>\n",
              "      <th>installer</th>\n",
              "      <th>longitude</th>\n",
              "      <th>latitude</th>\n",
              "      <th>wpt_name</th>\n",
              "      <th>num_private</th>\n",
              "      <th>basin</th>\n",
              "      <th>subvillage</th>\n",
              "      <th>region</th>\n",
              "      <th>region_code</th>\n",
              "      <th>district_code</th>\n",
              "      <th>lga</th>\n",
              "      <th>ward</th>\n",
              "      <th>population</th>\n",
              "      <th>public_meeting</th>\n",
              "      <th>recorded_by</th>\n",
              "      <th>scheme_management</th>\n",
              "      <th>scheme_name</th>\n",
              "      <th>permit</th>\n",
              "      <th>construction_year</th>\n",
              "      <th>extraction_type</th>\n",
              "      <th>extraction_type_group</th>\n",
              "      <th>extraction_type_class</th>\n",
              "      <th>management</th>\n",
              "      <th>management_group</th>\n",
              "      <th>payment</th>\n",
              "      <th>payment_type</th>\n",
              "      <th>water_quality</th>\n",
              "      <th>quality_group</th>\n",
              "      <th>quantity</th>\n",
              "      <th>quantity_group</th>\n",
              "      <th>source</th>\n",
              "      <th>source_type</th>\n",
              "      <th>source_class</th>\n",
              "      <th>waterpoint_type</th>\n",
              "      <th>waterpoint_type_group</th>\n",
              "      <th>status_group</th>\n",
              "    </tr>\n",
              "  </thead>\n",
              "  <tbody>\n",
              "    <tr>\n",
              "      <th>44545</th>\n",
              "      <td>43878</td>\n",
              "      <td>0.0</td>\n",
              "      <td>2013-01-23</td>\n",
              "      <td>World Vision</td>\n",
              "      <td>0</td>\n",
              "      <td>TAWASA</td>\n",
              "      <td>32.383715</td>\n",
              "      <td>-3.457624</td>\n",
              "      <td>Imalabuluhi</td>\n",
              "      <td>0</td>\n",
              "      <td>Lake Tanganyika</td>\n",
              "      <td>Bukenge</td>\n",
              "      <td>Shinyanga</td>\n",
              "      <td>17</td>\n",
              "      <td>3</td>\n",
              "      <td>Kahama</td>\n",
              "      <td>Segese</td>\n",
              "      <td>0</td>\n",
              "      <td>True</td>\n",
              "      <td>GeoData Consultants Ltd</td>\n",
              "      <td>NaN</td>\n",
              "      <td>NaN</td>\n",
              "      <td>True</td>\n",
              "      <td>0</td>\n",
              "      <td>nira/tanira</td>\n",
              "      <td>nira/tanira</td>\n",
              "      <td>handpump</td>\n",
              "      <td>wug</td>\n",
              "      <td>user-group</td>\n",
              "      <td>unknown</td>\n",
              "      <td>unknown</td>\n",
              "      <td>milky</td>\n",
              "      <td>milky</td>\n",
              "      <td>enough</td>\n",
              "      <td>enough</td>\n",
              "      <td>shallow well</td>\n",
              "      <td>shallow well</td>\n",
              "      <td>groundwater</td>\n",
              "      <td>hand pump</td>\n",
              "      <td>hand pump</td>\n",
              "      <td>functional</td>\n",
              "    </tr>\n",
              "    <tr>\n",
              "      <th>44546</th>\n",
              "      <td>50718</td>\n",
              "      <td>0.0</td>\n",
              "      <td>2011-07-25</td>\n",
              "      <td>Ded</td>\n",
              "      <td>0</td>\n",
              "      <td>DED</td>\n",
              "      <td>31.615509</td>\n",
              "      <td>-2.738682</td>\n",
              "      <td>Ilyamchele Center</td>\n",
              "      <td>0</td>\n",
              "      <td>Lake Victoria</td>\n",
              "      <td>Ilyamchele Center</td>\n",
              "      <td>Kagera</td>\n",
              "      <td>18</td>\n",
              "      <td>8</td>\n",
              "      <td>Chato</td>\n",
              "      <td>Katende</td>\n",
              "      <td>0</td>\n",
              "      <td>True</td>\n",
              "      <td>GeoData Consultants Ltd</td>\n",
              "      <td>WUA</td>\n",
              "      <td>NaN</td>\n",
              "      <td>True</td>\n",
              "      <td>0</td>\n",
              "      <td>afridev</td>\n",
              "      <td>afridev</td>\n",
              "      <td>handpump</td>\n",
              "      <td>wua</td>\n",
              "      <td>user-group</td>\n",
              "      <td>pay monthly</td>\n",
              "      <td>monthly</td>\n",
              "      <td>soft</td>\n",
              "      <td>good</td>\n",
              "      <td>enough</td>\n",
              "      <td>enough</td>\n",
              "      <td>hand dtw</td>\n",
              "      <td>borehole</td>\n",
              "      <td>groundwater</td>\n",
              "      <td>hand pump</td>\n",
              "      <td>hand pump</td>\n",
              "      <td>non functional</td>\n",
              "    </tr>\n",
              "    <tr>\n",
              "      <th>44547</th>\n",
              "      <td>67177</td>\n",
              "      <td>0.0</td>\n",
              "      <td>2013-02-23</td>\n",
              "      <td>Government Of Tanzania</td>\n",
              "      <td>969</td>\n",
              "      <td>Government</td>\n",
              "      <td>35.134412</td>\n",
              "      <td>-10.676062</td>\n",
              "      <td>Kwa Mzee Maondo</td>\n",
              "      <td>0</td>\n",
              "      <td>Ruvuma / Southern Coast</td>\n",
              "      <td>Masango</td>\n",
              "      <td>Ruvuma</td>\n",
              "      <td>10</td>\n",
              "      <td>3</td>\n",
              "      <td>Mbinga</td>\n",
              "      <td>Kigonsera</td>\n",
              "      <td>60</td>\n",
              "      <td>NaN</td>\n",
              "      <td>GeoData Consultants Ltd</td>\n",
              "      <td>VWC</td>\n",
              "      <td>Government</td>\n",
              "      <td>NaN</td>\n",
              "      <td>1977</td>\n",
              "      <td>gravity</td>\n",
              "      <td>gravity</td>\n",
              "      <td>gravity</td>\n",
              "      <td>vwc</td>\n",
              "      <td>user-group</td>\n",
              "      <td>unknown</td>\n",
              "      <td>unknown</td>\n",
              "      <td>soft</td>\n",
              "      <td>good</td>\n",
              "      <td>seasonal</td>\n",
              "      <td>seasonal</td>\n",
              "      <td>spring</td>\n",
              "      <td>spring</td>\n",
              "      <td>groundwater</td>\n",
              "      <td>communal standpipe</td>\n",
              "      <td>communal standpipe</td>\n",
              "      <td>functional</td>\n",
              "    </tr>\n",
              "    <tr>\n",
              "      <th>44548</th>\n",
              "      <td>2744</td>\n",
              "      <td>200.0</td>\n",
              "      <td>2013-03-26</td>\n",
              "      <td>Adra</td>\n",
              "      <td>1269</td>\n",
              "      <td>ADRA/Government</td>\n",
              "      <td>37.886287</td>\n",
              "      <td>-4.390882</td>\n",
              "      <td>Miembeni</td>\n",
              "      <td>0</td>\n",
              "      <td>Pangani</td>\n",
              "      <td>Mng'Ende</td>\n",
              "      <td>Kilimanjaro</td>\n",
              "      <td>3</td>\n",
              "      <td>3</td>\n",
              "      <td>Same</td>\n",
              "      <td>Suji</td>\n",
              "      <td>80</td>\n",
              "      <td>True</td>\n",
              "      <td>GeoData Consultants Ltd</td>\n",
              "      <td>Water authority</td>\n",
              "      <td>Kiumba water supply</td>\n",
              "      <td>True</td>\n",
              "      <td>2011</td>\n",
              "      <td>gravity</td>\n",
              "      <td>gravity</td>\n",
              "      <td>gravity</td>\n",
              "      <td>vwc</td>\n",
              "      <td>user-group</td>\n",
              "      <td>pay monthly</td>\n",
              "      <td>monthly</td>\n",
              "      <td>soft</td>\n",
              "      <td>good</td>\n",
              "      <td>insufficient</td>\n",
              "      <td>insufficient</td>\n",
              "      <td>spring</td>\n",
              "      <td>spring</td>\n",
              "      <td>groundwater</td>\n",
              "      <td>communal standpipe</td>\n",
              "      <td>communal standpipe</td>\n",
              "      <td>functional</td>\n",
              "    </tr>\n",
              "    <tr>\n",
              "      <th>44549</th>\n",
              "      <td>10262</td>\n",
              "      <td>0.0</td>\n",
              "      <td>2013-01-26</td>\n",
              "      <td>World Vision</td>\n",
              "      <td>0</td>\n",
              "      <td>Consulting Engineer</td>\n",
              "      <td>32.976560</td>\n",
              "      <td>-4.262149</td>\n",
              "      <td>Itunda A Mkwajuni</td>\n",
              "      <td>0</td>\n",
              "      <td>Lake Tanganyika</td>\n",
              "      <td>Itunda A</td>\n",
              "      <td>Tabora</td>\n",
              "      <td>14</td>\n",
              "      <td>1</td>\n",
              "      <td>Nzega</td>\n",
              "      <td>Karitu</td>\n",
              "      <td>0</td>\n",
              "      <td>True</td>\n",
              "      <td>GeoData Consultants Ltd</td>\n",
              "      <td>VWC</td>\n",
              "      <td>NaN</td>\n",
              "      <td>False</td>\n",
              "      <td>0</td>\n",
              "      <td>nira/tanira</td>\n",
              "      <td>nira/tanira</td>\n",
              "      <td>handpump</td>\n",
              "      <td>vwc</td>\n",
              "      <td>user-group</td>\n",
              "      <td>pay when scheme fails</td>\n",
              "      <td>on failure</td>\n",
              "      <td>soft</td>\n",
              "      <td>good</td>\n",
              "      <td>enough</td>\n",
              "      <td>enough</td>\n",
              "      <td>shallow well</td>\n",
              "      <td>shallow well</td>\n",
              "      <td>groundwater</td>\n",
              "      <td>hand pump</td>\n",
              "      <td>hand pump</td>\n",
              "      <td>functional</td>\n",
              "    </tr>\n",
              "  </tbody>\n",
              "</table>\n",
              "</div>"
            ],
            "text/plain": [
              "          id  amount_tsh  ... waterpoint_type_group    status_group\n",
              "44545  43878         0.0  ...             hand pump      functional\n",
              "44546  50718         0.0  ...             hand pump  non functional\n",
              "44547  67177         0.0  ...    communal standpipe      functional\n",
              "44548   2744       200.0  ...    communal standpipe      functional\n",
              "44549  10262         0.0  ...             hand pump      functional\n",
              "\n",
              "[5 rows x 41 columns]"
            ]
          },
          "metadata": {
            "tags": []
          },
          "execution_count": 458
        }
      ]
    },
    {
      "cell_type": "code",
      "metadata": {
        "id": "Ou9YxQziwTwr",
        "colab": {
          "base_uri": "https://localhost:8080/",
          "height": 307
        },
        "outputId": "bd4d41c3-bb1b-4155-a693-b927a2ed6c27"
      },
      "source": [
        "train_df.describe()"
      ],
      "execution_count": null,
      "outputs": [
        {
          "output_type": "execute_result",
          "data": {
            "text/html": [
              "<div>\n",
              "<style scoped>\n",
              "    .dataframe tbody tr th:only-of-type {\n",
              "        vertical-align: middle;\n",
              "    }\n",
              "\n",
              "    .dataframe tbody tr th {\n",
              "        vertical-align: top;\n",
              "    }\n",
              "\n",
              "    .dataframe thead th {\n",
              "        text-align: right;\n",
              "    }\n",
              "</style>\n",
              "<table border=\"1\" class=\"dataframe\">\n",
              "  <thead>\n",
              "    <tr style=\"text-align: right;\">\n",
              "      <th></th>\n",
              "      <th>id</th>\n",
              "      <th>amount_tsh</th>\n",
              "      <th>gps_height</th>\n",
              "      <th>longitude</th>\n",
              "      <th>latitude</th>\n",
              "      <th>num_private</th>\n",
              "      <th>region_code</th>\n",
              "      <th>district_code</th>\n",
              "      <th>population</th>\n",
              "      <th>construction_year</th>\n",
              "    </tr>\n",
              "  </thead>\n",
              "  <tbody>\n",
              "    <tr>\n",
              "      <th>count</th>\n",
              "      <td>44550.000000</td>\n",
              "      <td>44550.000000</td>\n",
              "      <td>44550.000000</td>\n",
              "      <td>44550.000000</td>\n",
              "      <td>4.455000e+04</td>\n",
              "      <td>44550.000000</td>\n",
              "      <td>44550.000000</td>\n",
              "      <td>44550.000000</td>\n",
              "      <td>44550.000000</td>\n",
              "      <td>44550.000000</td>\n",
              "    </tr>\n",
              "    <tr>\n",
              "      <th>mean</th>\n",
              "      <td>37192.623681</td>\n",
              "      <td>307.623224</td>\n",
              "      <td>665.490774</td>\n",
              "      <td>34.084084</td>\n",
              "      <td>-5.721980e+00</td>\n",
              "      <td>0.521549</td>\n",
              "      <td>15.338563</td>\n",
              "      <td>5.678967</td>\n",
              "      <td>179.112750</td>\n",
              "      <td>1295.782155</td>\n",
              "    </tr>\n",
              "    <tr>\n",
              "      <th>std</th>\n",
              "      <td>21399.827198</td>\n",
              "      <td>2402.742799</td>\n",
              "      <td>693.653179</td>\n",
              "      <td>6.555924</td>\n",
              "      <td>2.948828e+00</td>\n",
              "      <td>13.835868</td>\n",
              "      <td>17.672144</td>\n",
              "      <td>9.724205</td>\n",
              "      <td>478.995645</td>\n",
              "      <td>953.183961</td>\n",
              "    </tr>\n",
              "    <tr>\n",
              "      <th>min</th>\n",
              "      <td>1.000000</td>\n",
              "      <td>0.000000</td>\n",
              "      <td>-90.000000</td>\n",
              "      <td>0.000000</td>\n",
              "      <td>-1.164838e+01</td>\n",
              "      <td>0.000000</td>\n",
              "      <td>1.000000</td>\n",
              "      <td>0.000000</td>\n",
              "      <td>0.000000</td>\n",
              "      <td>0.000000</td>\n",
              "    </tr>\n",
              "    <tr>\n",
              "      <th>25%</th>\n",
              "      <td>18723.250000</td>\n",
              "      <td>0.000000</td>\n",
              "      <td>0.000000</td>\n",
              "      <td>33.105585</td>\n",
              "      <td>-8.574241e+00</td>\n",
              "      <td>0.000000</td>\n",
              "      <td>5.000000</td>\n",
              "      <td>2.000000</td>\n",
              "      <td>0.000000</td>\n",
              "      <td>0.000000</td>\n",
              "    </tr>\n",
              "    <tr>\n",
              "      <th>50%</th>\n",
              "      <td>37183.500000</td>\n",
              "      <td>0.000000</td>\n",
              "      <td>363.000000</td>\n",
              "      <td>34.905600</td>\n",
              "      <td>-5.045611e+00</td>\n",
              "      <td>0.000000</td>\n",
              "      <td>12.000000</td>\n",
              "      <td>3.000000</td>\n",
              "      <td>25.000000</td>\n",
              "      <td>1985.000000</td>\n",
              "    </tr>\n",
              "    <tr>\n",
              "      <th>75%</th>\n",
              "      <td>55647.500000</td>\n",
              "      <td>20.000000</td>\n",
              "      <td>1318.000000</td>\n",
              "      <td>37.176859</td>\n",
              "      <td>-3.327795e+00</td>\n",
              "      <td>0.000000</td>\n",
              "      <td>17.000000</td>\n",
              "      <td>5.000000</td>\n",
              "      <td>210.000000</td>\n",
              "      <td>2004.000000</td>\n",
              "    </tr>\n",
              "    <tr>\n",
              "      <th>max</th>\n",
              "      <td>74247.000000</td>\n",
              "      <td>170000.000000</td>\n",
              "      <td>2770.000000</td>\n",
              "      <td>40.345193</td>\n",
              "      <td>-2.000000e-08</td>\n",
              "      <td>1776.000000</td>\n",
              "      <td>99.000000</td>\n",
              "      <td>80.000000</td>\n",
              "      <td>30500.000000</td>\n",
              "      <td>2013.000000</td>\n",
              "    </tr>\n",
              "  </tbody>\n",
              "</table>\n",
              "</div>"
            ],
            "text/plain": [
              "                 id     amount_tsh  ...    population  construction_year\n",
              "count  44550.000000   44550.000000  ...  44550.000000       44550.000000\n",
              "mean   37192.623681     307.623224  ...    179.112750        1295.782155\n",
              "std    21399.827198    2402.742799  ...    478.995645         953.183961\n",
              "min        1.000000       0.000000  ...      0.000000           0.000000\n",
              "25%    18723.250000       0.000000  ...      0.000000           0.000000\n",
              "50%    37183.500000       0.000000  ...     25.000000        1985.000000\n",
              "75%    55647.500000      20.000000  ...    210.000000        2004.000000\n",
              "max    74247.000000  170000.000000  ...  30500.000000        2013.000000\n",
              "\n",
              "[8 rows x 10 columns]"
            ]
          },
          "metadata": {
            "tags": []
          },
          "execution_count": 459
        }
      ]
    },
    {
      "cell_type": "code",
      "metadata": {
        "id": "AiLSn9cIwWzs",
        "colab": {
          "base_uri": "https://localhost:8080/"
        },
        "outputId": "3e6417ae-645a-40c6-c7e0-1ad02fcfcd79"
      },
      "source": [
        "train_df.info()"
      ],
      "execution_count": null,
      "outputs": [
        {
          "output_type": "stream",
          "text": [
            "<class 'pandas.core.frame.DataFrame'>\n",
            "RangeIndex: 44550 entries, 0 to 44549\n",
            "Data columns (total 41 columns):\n",
            " #   Column                 Non-Null Count  Dtype  \n",
            "---  ------                 --------------  -----  \n",
            " 0   id                     44550 non-null  int64  \n",
            " 1   amount_tsh             44550 non-null  float64\n",
            " 2   date_recorded          44550 non-null  object \n",
            " 3   funder                 41757 non-null  object \n",
            " 4   gps_height             44550 non-null  int64  \n",
            " 5   installer              41743 non-null  object \n",
            " 6   longitude              44550 non-null  float64\n",
            " 7   latitude               44550 non-null  float64\n",
            " 8   wpt_name               44550 non-null  object \n",
            " 9   num_private            44550 non-null  int64  \n",
            " 10  basin                  44550 non-null  object \n",
            " 11  subvillage             44263 non-null  object \n",
            " 12  region                 44550 non-null  object \n",
            " 13  region_code            44550 non-null  int64  \n",
            " 14  district_code          44550 non-null  int64  \n",
            " 15  lga                    44550 non-null  object \n",
            " 16  ward                   44550 non-null  object \n",
            " 17  population             44550 non-null  int64  \n",
            " 18  public_meeting         42059 non-null  object \n",
            " 19  recorded_by            44550 non-null  object \n",
            " 20  scheme_management      41718 non-null  object \n",
            " 21  scheme_name            23440 non-null  object \n",
            " 22  permit                 42214 non-null  object \n",
            " 23  construction_year      44550 non-null  int64  \n",
            " 24  extraction_type        44550 non-null  object \n",
            " 25  extraction_type_group  44550 non-null  object \n",
            " 26  extraction_type_class  44550 non-null  object \n",
            " 27  management             44550 non-null  object \n",
            " 28  management_group       44550 non-null  object \n",
            " 29  payment                44550 non-null  object \n",
            " 30  payment_type           44550 non-null  object \n",
            " 31  water_quality          44550 non-null  object \n",
            " 32  quality_group          44550 non-null  object \n",
            " 33  quantity               44550 non-null  object \n",
            " 34  quantity_group         44550 non-null  object \n",
            " 35  source                 44550 non-null  object \n",
            " 36  source_type            44550 non-null  object \n",
            " 37  source_class           44550 non-null  object \n",
            " 38  waterpoint_type        44550 non-null  object \n",
            " 39  waterpoint_type_group  44550 non-null  object \n",
            " 40  status_group           44550 non-null  object \n",
            "dtypes: float64(3), int64(7), object(31)\n",
            "memory usage: 13.9+ MB\n"
          ],
          "name": "stdout"
        }
      ]
    },
    {
      "cell_type": "code",
      "metadata": {
        "id": "Hwjw28yAwgUB",
        "colab": {
          "base_uri": "https://localhost:8080/"
        },
        "outputId": "9283b26c-ae42-4c13-c4d1-22332044856e"
      },
      "source": [
        "train_df.shape"
      ],
      "execution_count": null,
      "outputs": [
        {
          "output_type": "execute_result",
          "data": {
            "text/plain": [
              "(44550, 41)"
            ]
          },
          "metadata": {
            "tags": []
          },
          "execution_count": 461
        }
      ]
    },
    {
      "cell_type": "markdown",
      "metadata": {
        "id": "IG9lEWqhwjBE"
      },
      "source": [
        "The train data set has 44550 observations and 41 columns.\n",
        "\n",
        "The \"status_group\" shows the label or target for each pump.The other 40 columns are features, out of which 10 are numerical and 30 are categorical variables"
      ]
    },
    {
      "cell_type": "markdown",
      "metadata": {
        "id": "90hHwNt51NTZ"
      },
      "source": [
        "Preliminary accuracy score"
      ]
    },
    {
      "cell_type": "code",
      "metadata": {
        "id": "Wp_0doasxULl",
        "colab": {
          "base_uri": "https://localhost:8080/",
          "height": 352
        },
        "outputId": "d66af115-63d1-4a6c-f7bd-5cb4e90ea13d"
      },
      "source": [
        "label_dic = {\"functional\" : 2, \"functional needs repair\" : 1, \"non functional\" : 0}\n",
        "train_df['label'] = train_df['status_group'].map(label_dic)\n",
        "sns.distplot(train_df['label'], kde = True)"
      ],
      "execution_count": null,
      "outputs": [
        {
          "output_type": "stream",
          "text": [
            "/usr/local/lib/python3.7/dist-packages/seaborn/distributions.py:2557: FutureWarning: `distplot` is a deprecated function and will be removed in a future version. Please adapt your code to use either `displot` (a figure-level function with similar flexibility) or `histplot` (an axes-level function for histograms).\n",
            "  warnings.warn(msg, FutureWarning)\n"
          ],
          "name": "stderr"
        },
        {
          "output_type": "execute_result",
          "data": {
            "text/plain": [
              "<matplotlib.axes._subplots.AxesSubplot at 0x7f10e279e090>"
            ]
          },
          "metadata": {
            "tags": []
          },
          "execution_count": 462
        },
        {
          "output_type": "display_data",
          "data": {
            "image/png": "[encoded data removed]",
            "text/plain": [
              "<Figure size 432x288 with 1 Axes>"
            ]
          },
          "metadata": {
            "tags": [],
            "needs_background": "light"
          }
        }
      ]
    },
    {
      "cell_type": "code",
      "metadata": {
        "id": "aTSueLTL1LMl",
        "colab": {
          "base_uri": "https://localhost:8080/"
        },
        "outputId": "7f132002-a427-4aac-b75d-0c0586c450d2"
      },
      "source": [
        "major_cls = train_df['status_group'].mode()[0]\n",
        "print(\"The most frequent label is\", major_cls)"
      ],
      "execution_count": null,
      "outputs": [
        {
          "output_type": "stream",
          "text": [
            "The most frequent label is functional\n"
          ],
          "name": "stdout"
        }
      ]
    },
    {
      "cell_type": "code",
      "metadata": {
        "id": "yxbIVFTc2yQS",
        "colab": {
          "base_uri": "https://localhost:8080/"
        },
        "outputId": "0fa69ef0-4e5c-460d-bc34-1f2ccddce144"
      },
      "source": [
        "y_prilem_pred = np.full(shape=train_df[\"status_group\"].shape, fill_value=major_cls)\n",
        "accuracy_score(train_df[\"status_group\"],y_prilem_pred)"
      ],
      "execution_count": null,
      "outputs": [
        {
          "output_type": "execute_result",
          "data": {
            "text/plain": [
              "0.5430751964085297"
            ]
          },
          "metadata": {
            "tags": []
          },
          "execution_count": 464
        }
      ]
    },
    {
      "cell_type": "markdown",
      "metadata": {
        "id": "fDoa_iEd3t4O"
      },
      "source": [
        "It means that we can make a preliminary estimate of 54.31% chance of a random pump from this database to be functional. This number will be a baseline for the future model predictions."
      ]
    },
    {
      "cell_type": "code",
      "metadata": {
        "id": "z1VZCpKU3vtY",
        "colab": {
          "base_uri": "https://localhost:8080/"
        },
        "outputId": "7ce827da-46cb-44f7-e931-03d58b6c01f7"
      },
      "source": [
        "#select numeriacl columns\n",
        "num_vars = [col for col in train_df.columns if train_df[col].dtype in ['int64','float64']]\n",
        "print(num_vars)"
      ],
      "execution_count": null,
      "outputs": [
        {
          "output_type": "stream",
          "text": [
            "['id', 'amount_tsh', 'gps_height', 'longitude', 'latitude', 'num_private', 'region_code', 'district_code', 'population', 'construction_year', 'label']\n"
          ],
          "name": "stdout"
        }
      ]
    },
    {
      "cell_type": "code",
      "metadata": {
        "id": "S9-z73UV6608",
        "colab": {
          "base_uri": "https://localhost:8080/",
          "height": 964
        },
        "outputId": "bed80fc1-a2c9-4eeb-cdf9-5a7a5e8929e3"
      },
      "source": [
        "# Plotting construction_year vs status_group \n",
        "fig_dims = (15,15)\n",
        "fig, ax = plt.subplots(figsize=fig_dims)\n",
        "\n",
        "\n",
        "sns.countplot(x=train_df[\"construction_year\"], hue=train_df[\"status_group\"])\n",
        "\n",
        "\n",
        "\n",
        "\n",
        "plt.xticks(rotation=45, horizontalalignment='right')"
      ],
      "execution_count": null,
      "outputs": [
        {
          "output_type": "execute_result",
          "data": {
            "text/plain": [
              "(array([ 0,  1,  2,  3,  4,  5,  6,  7,  8,  9, 10, 11, 12, 13, 14, 15, 16,\n",
              "        17, 18, 19, 20, 21, 22, 23, 24, 25, 26, 27, 28, 29, 30, 31, 32, 33,\n",
              "        34, 35, 36, 37, 38, 39, 40, 41, 42, 43, 44, 45, 46, 47, 48, 49, 50,\n",
              "        51, 52, 53, 54]), <a list of 55 Text major ticklabel objects>)"
            ]
          },
          "metadata": {
            "tags": []
          },
          "execution_count": 466
        },
        {
          "output_type": "display_data",
          "data": {
            "image/png": "[encoded data removed]",
            "text/plain": [
              "<Figure size 1080x1080 with 1 Axes>"
            ]
          },
          "metadata": {
            "tags": [],
            "needs_background": "light"
          }
        }
      ]
    },
    {
      "cell_type": "markdown",
      "metadata": {
        "id": "UNU7TEBU--ou"
      },
      "source": [
        "We can see that most pumps that were built between 1970 to 1985 are non functional, whereas the more recent pumps tend to be functional. It means that the \"construction_year\" feature could be very useful in our prediction model. The number of pumps that needs repair seems not very high and quite stable over the years. The rows with 0 construction year need to be checked."
      ]
    },
    {
      "cell_type": "code",
      "metadata": {
        "id": "S1AkWt3-_ZG6",
        "colab": {
          "base_uri": "https://localhost:8080/",
          "height": 282
        },
        "outputId": "71a078c8-126e-4751-8992-1f2587804d88"
      },
      "source": [
        "#Scatter plot of amount_tsh vs status_group\n",
        "plt.scatter(y=train_df[\"amount_tsh\"], x=train_df[\"status_group\"])"
      ],
      "execution_count": null,
      "outputs": [
        {
          "output_type": "execute_result",
          "data": {
            "text/plain": [
              "<matplotlib.collections.PathCollection at 0x7f10e09fb6d0>"
            ]
          },
          "metadata": {
            "tags": []
          },
          "execution_count": 467
        },
        {
          "output_type": "display_data",
          "data": {
            "image/png": "[encoded data removed]",
            "text/plain": [
              "<Figure size 432x288 with 1 Axes>"
            ]
          },
          "metadata": {
            "tags": [],
            "needs_background": "light"
          }
        }
      ]
    },
    {
      "cell_type": "markdown",
      "metadata": {
        "id": "FCjMM5HeA3y7"
      },
      "source": [
        "If the \"amount_tsh\" > 200000 then most likely the pump is functional."
      ]
    },
    {
      "cell_type": "code",
      "metadata": {
        "id": "UA5ysaYYA9v5",
        "colab": {
          "base_uri": "https://localhost:8080/",
          "height": 827
        },
        "outputId": "4b7a9b7f-8f62-4358-e17d-547b715290b4"
      },
      "source": [
        "#Finding the numerical variables distributions\n",
        "fig = plt.figure(figsize=(16,18))\n",
        "sns.distributions._has_statsmodels=False\n",
        "for i in range(len(num_vars)):\n",
        "    fig.add_subplot(9,4,i+1)\n",
        "    sns.distplot(train_df[num_vars].iloc[:,i].dropna())\n",
        "    plt.xlabel(num_vars[i])\n",
        "\n",
        "plt.tight_layout()\n",
        "plt.show()"
      ],
      "execution_count": null,
      "outputs": [
        {
          "output_type": "stream",
          "text": [
            "/usr/local/lib/python3.7/dist-packages/seaborn/distributions.py:2557: FutureWarning: `distplot` is a deprecated function and will be removed in a future version. Please adapt your code to use either `displot` (a figure-level function with similar flexibility) or `histplot` (an axes-level function for histograms).\n",
            "  warnings.warn(msg, FutureWarning)\n",
            "/usr/local/lib/python3.7/dist-packages/seaborn/distributions.py:2557: FutureWarning: `distplot` is a deprecated function and will be removed in a future version. Please adapt your code to use either `displot` (a figure-level function with similar flexibility) or `histplot` (an axes-level function for histograms).\n",
            "  warnings.warn(msg, FutureWarning)\n",
            "/usr/local/lib/python3.7/dist-packages/seaborn/distributions.py:2557: FutureWarning: `distplot` is a deprecated function and will be removed in a future version. Please adapt your code to use either `displot` (a figure-level function with similar flexibility) or `histplot` (an axes-level function for histograms).\n",
            "  warnings.warn(msg, FutureWarning)\n",
            "/usr/local/lib/python3.7/dist-packages/seaborn/distributions.py:2557: FutureWarning: `distplot` is a deprecated function and will be removed in a future version. Please adapt your code to use either `displot` (a figure-level function with similar flexibility) or `histplot` (an axes-level function for histograms).\n",
            "  warnings.warn(msg, FutureWarning)\n",
            "/usr/local/lib/python3.7/dist-packages/seaborn/distributions.py:2557: FutureWarning: `distplot` is a deprecated function and will be removed in a future version. Please adapt your code to use either `displot` (a figure-level function with similar flexibility) or `histplot` (an axes-level function for histograms).\n",
            "  warnings.warn(msg, FutureWarning)\n",
            "/usr/local/lib/python3.7/dist-packages/seaborn/distributions.py:2557: FutureWarning: `distplot` is a deprecated function and will be removed in a future version. Please adapt your code to use either `displot` (a figure-level function with similar flexibility) or `histplot` (an axes-level function for histograms).\n",
            "  warnings.warn(msg, FutureWarning)\n",
            "/usr/local/lib/python3.7/dist-packages/seaborn/distributions.py:2557: FutureWarning: `distplot` is a deprecated function and will be removed in a future version. Please adapt your code to use either `displot` (a figure-level function with similar flexibility) or `histplot` (an axes-level function for histograms).\n",
            "  warnings.warn(msg, FutureWarning)\n",
            "/usr/local/lib/python3.7/dist-packages/seaborn/distributions.py:2557: FutureWarning: `distplot` is a deprecated function and will be removed in a future version. Please adapt your code to use either `displot` (a figure-level function with similar flexibility) or `histplot` (an axes-level function for histograms).\n",
            "  warnings.warn(msg, FutureWarning)\n",
            "/usr/local/lib/python3.7/dist-packages/seaborn/distributions.py:2557: FutureWarning: `distplot` is a deprecated function and will be removed in a future version. Please adapt your code to use either `displot` (a figure-level function with similar flexibility) or `histplot` (an axes-level function for histograms).\n",
            "  warnings.warn(msg, FutureWarning)\n",
            "/usr/local/lib/python3.7/dist-packages/seaborn/distributions.py:2557: FutureWarning: `distplot` is a deprecated function and will be removed in a future version. Please adapt your code to use either `displot` (a figure-level function with similar flexibility) or `histplot` (an axes-level function for histograms).\n",
            "  warnings.warn(msg, FutureWarning)\n",
            "/usr/local/lib/python3.7/dist-packages/seaborn/distributions.py:2557: FutureWarning: `distplot` is a deprecated function and will be removed in a future version. Please adapt your code to use either `displot` (a figure-level function with similar flexibility) or `histplot` (an axes-level function for histograms).\n",
            "  warnings.warn(msg, FutureWarning)\n"
          ],
          "name": "stderr"
        },
        {
          "output_type": "display_data",
          "data": {
            "image/png": "[encoded data removed]",
            "text/plain": [
              "<Figure size 1152x1296 with 11 Axes>"
            ]
          },
          "metadata": {
            "tags": [],
            "needs_background": "light"
          }
        }
      ]
    },
    {
      "cell_type": "markdown",
      "metadata": {
        "id": "DOWqtR71nW3X"
      },
      "source": [
        "Uni-modal, skewed distributions could potentially be log transformed:\n",
        "\n",
        "GPS_hight,  \n",
        "Longtitude,              \n",
        "Region_code,  \n",
        "District_code,\n"
      ]
    },
    {
      "cell_type": "markdown",
      "metadata": {
        "id": "KG-aTdFOp0Vv"
      },
      "source": [
        "Finding outliers"
      ]
    },
    {
      "cell_type": "code",
      "metadata": {
        "id": "YnNsvZuLnXjW",
        "colab": {
          "base_uri": "https://localhost:8080/",
          "height": 403
        },
        "outputId": "cc25014f-584b-4259-ab6c-e64889bef51d"
      },
      "source": [
        "#Univariate analysis-Box plots for numerical variables\n",
        "fig = plt.figure(figsize=(16, 18))\n",
        "\n",
        "for i in range(len(num_vars)):\n",
        "    fig.add_subplot(9, 4, i+1)\n",
        "    sns.boxplot(y=train_df[num_vars].iloc[:,i])\n",
        "\n",
        "plt.tight_layout()\n",
        "plt.show()"
      ],
      "execution_count": null,
      "outputs": [
        {
          "output_type": "display_data",
          "data": {
            "image/png": "[encoded data removed]",
            "text/plain": [
              "<Figure size 1152x1296 with 11 Axes>"
            ]
          },
          "metadata": {
            "tags": [],
            "needs_background": "light"
          }
        }
      ]
    },
    {
      "cell_type": "code",
      "metadata": {
        "id": "aGmPkq77qSq0",
        "colab": {
          "base_uri": "https://localhost:8080/",
          "height": 917
        },
        "outputId": "6da0dcef-0f76-451c-db2b-8228aae1952c"
      },
      "source": [
        "#Bivariate analysis-Scatter plots target vs numerical variables\n",
        "f = plt.figure(figsize=(14,20))\n",
        "\n",
        "for i in range(len(num_vars)):\n",
        "    f.add_subplot(9, 4, i+1)\n",
        "    sns.scatterplot(train_df[num_vars].iloc[:,i], train_df[\"label\"])\n",
        "    \n",
        "plt.tight_layout()\n",
        "plt.show()"
      ],
      "execution_count": null,
      "outputs": [
        {
          "output_type": "stream",
          "text": [
            "/usr/local/lib/python3.7/dist-packages/seaborn/_decorators.py:43: FutureWarning: Pass the following variables as keyword args: x, y. From version 0.12, the only valid positional argument will be `data`, and passing other arguments without an explicit keyword will result in an error or misinterpretation.\n",
            "  FutureWarning\n",
            "/usr/local/lib/python3.7/dist-packages/seaborn/_decorators.py:43: FutureWarning: Pass the following variables as keyword args: x, y. From version 0.12, the only valid positional argument will be `data`, and passing other arguments without an explicit keyword will result in an error or misinterpretation.\n",
            "  FutureWarning\n",
            "/usr/local/lib/python3.7/dist-packages/seaborn/_decorators.py:43: FutureWarning: Pass the following variables as keyword args: x, y. From version 0.12, the only valid positional argument will be `data`, and passing other arguments without an explicit keyword will result in an error or misinterpretation.\n",
            "  FutureWarning\n",
            "/usr/local/lib/python3.7/dist-packages/seaborn/_decorators.py:43: FutureWarning: Pass the following variables as keyword args: x, y. From version 0.12, the only valid positional argument will be `data`, and passing other arguments without an explicit keyword will result in an error or misinterpretation.\n",
            "  FutureWarning\n",
            "/usr/local/lib/python3.7/dist-packages/seaborn/_decorators.py:43: FutureWarning: Pass the following variables as keyword args: x, y. From version 0.12, the only valid positional argument will be `data`, and passing other arguments without an explicit keyword will result in an error or misinterpretation.\n",
            "  FutureWarning\n",
            "/usr/local/lib/python3.7/dist-packages/seaborn/_decorators.py:43: FutureWarning: Pass the following variables as keyword args: x, y. From version 0.12, the only valid positional argument will be `data`, and passing other arguments without an explicit keyword will result in an error or misinterpretation.\n",
            "  FutureWarning\n",
            "/usr/local/lib/python3.7/dist-packages/seaborn/_decorators.py:43: FutureWarning: Pass the following variables as keyword args: x, y. From version 0.12, the only valid positional argument will be `data`, and passing other arguments without an explicit keyword will result in an error or misinterpretation.\n",
            "  FutureWarning\n",
            "/usr/local/lib/python3.7/dist-packages/seaborn/_decorators.py:43: FutureWarning: Pass the following variables as keyword args: x, y. From version 0.12, the only valid positional argument will be `data`, and passing other arguments without an explicit keyword will result in an error or misinterpretation.\n",
            "  FutureWarning\n",
            "/usr/local/lib/python3.7/dist-packages/seaborn/_decorators.py:43: FutureWarning: Pass the following variables as keyword args: x, y. From version 0.12, the only valid positional argument will be `data`, and passing other arguments without an explicit keyword will result in an error or misinterpretation.\n",
            "  FutureWarning\n",
            "/usr/local/lib/python3.7/dist-packages/seaborn/_decorators.py:43: FutureWarning: Pass the following variables as keyword args: x, y. From version 0.12, the only valid positional argument will be `data`, and passing other arguments without an explicit keyword will result in an error or misinterpretation.\n",
            "  FutureWarning\n",
            "/usr/local/lib/python3.7/dist-packages/seaborn/_decorators.py:43: FutureWarning: Pass the following variables as keyword args: x, y. From version 0.12, the only valid positional argument will be `data`, and passing other arguments without an explicit keyword will result in an error or misinterpretation.\n",
            "  FutureWarning\n"
          ],
          "name": "stderr"
        },
        {
          "output_type": "display_data",
          "data": {
            "image/png": "[encoded data removed]",
            "text/plain": [
              "<Figure size 1008x1440 with 11 Axes>"
            ]
          },
          "metadata": {
            "tags": [],
            "needs_background": "light"
          }
        }
      ]
    },
    {
      "cell_type": "markdown",
      "metadata": {
        "id": "X9HDaR0kr_sV"
      },
      "source": [
        "Finding correlation among variables"
      ]
    },
    {
      "cell_type": "code",
      "metadata": {
        "id": "PSWfveFasGiN",
        "colab": {
          "base_uri": "https://localhost:8080/",
          "height": 486
        },
        "outputId": "6d88c1c9-409b-436e-af8c-e09d0b7bb4a6"
      },
      "source": [
        "correlation = train_df.corr()\n",
        "\n",
        "f, ax = plt.subplots(figsize=(8,6))\n",
        "plt.title('Correlation among variables', size=12)\n",
        "sns.heatmap(correlation,xticklabels=correlation.columns, yticklabels=correlation.columns, annot=True)"
      ],
      "execution_count": null,
      "outputs": [
        {
          "output_type": "execute_result",
          "data": {
            "text/plain": [
              "<matplotlib.axes._subplots.AxesSubplot at 0x7f10f5007690>"
            ]
          },
          "metadata": {
            "tags": []
          },
          "execution_count": 471
        },
        {
          "output_type": "display_data",
          "data": {
            "image/png": "[encoded data removed]",
            "text/plain": [
              "<Figure size 576x432 with 2 Axes>"
            ]
          },
          "metadata": {
            "tags": [],
            "needs_background": "light"
          }
        }
      ]
    },
    {
      "cell_type": "markdown",
      "metadata": {
        "id": "tlDIa45stQ02"
      },
      "source": [
        "The correlation between \"district_code\" and \"region_code\" is quite high. Consider removing one of them.\n",
        "\n",
        "The correlation between \"construction_year\" and \"gps_height\" is also high, but these 2 variables don't have any obvious connection, so explore this correlation further to take a decision.\n",
        "\n",
        "With reference to the target Label, the top correlated attributes are:"
      ]
    },
    {
      "cell_type": "code",
      "metadata": {
        "id": "B__rQKeetSrR",
        "colab": {
          "base_uri": "https://localhost:8080/"
        },
        "outputId": "8738b1bd-1444-4fed-cb0b-ebcad8dbdfd8"
      },
      "source": [
        "correlation['label'].sort_values(ascending=False)"
      ],
      "execution_count": null,
      "outputs": [
        {
          "output_type": "execute_result",
          "data": {
            "text/plain": [
              "label                1.000000\n",
              "gps_height           0.118613\n",
              "amount_tsh           0.063735\n",
              "construction_year    0.048077\n",
              "population           0.022086\n",
              "latitude             0.015839\n",
              "num_private          0.005713\n",
              "longitude           -0.004987\n",
              "id                  -0.006501\n",
              "district_code       -0.063177\n",
              "region_code         -0.105216\n",
              "Name: label, dtype: float64"
            ]
          },
          "metadata": {
            "tags": []
          },
          "execution_count": 472
        }
      ]
    },
    {
      "cell_type": "markdown",
      "metadata": {
        "id": "TzoVkSv7tgb_"
      },
      "source": [
        "The negative correlation to the target variable of the \"region_code\" is higher than that of the \"district_code\". Keep the variable with higher correlation to the target.\n",
        "\n",
        "Linear correlation to the target is quite low for all variables but it might mean that there exists a non-linear correlation instead."
      ]
    },
    {
      "cell_type": "markdown",
      "metadata": {
        "id": "lWDDK-MMtpSY"
      },
      "source": [
        " Missing/null values in numerical columns"
      ]
    },
    {
      "cell_type": "code",
      "metadata": {
        "id": "8tuzeevKtZu4",
        "colab": {
          "base_uri": "https://localhost:8080/"
        },
        "outputId": "35c5fa54-5bbc-4298-afea-0114d2733ead"
      },
      "source": [
        "train_df[num_vars].isnull().sum().sort_values(ascending=False)\n"
      ],
      "execution_count": null,
      "outputs": [
        {
          "output_type": "execute_result",
          "data": {
            "text/plain": [
              "label                0\n",
              "construction_year    0\n",
              "population           0\n",
              "district_code        0\n",
              "region_code          0\n",
              "num_private          0\n",
              "latitude             0\n",
              "longitude            0\n",
              "gps_height           0\n",
              "amount_tsh           0\n",
              "id                   0\n",
              "dtype: int64"
            ]
          },
          "metadata": {
            "tags": []
          },
          "execution_count": 473
        }
      ]
    },
    {
      "cell_type": "code",
      "metadata": {
        "id": "2itIE25YuTHv",
        "colab": {
          "base_uri": "https://localhost:8080/"
        },
        "outputId": "fa309423-f034-4da3-e2e2-81aa28812380"
      },
      "source": [
        "len(train_df.population[train_df.population == 0])"
      ],
      "execution_count": null,
      "outputs": [
        {
          "output_type": "execute_result",
          "data": {
            "text/plain": [
              "16150"
            ]
          },
          "metadata": {
            "tags": []
          },
          "execution_count": 474
        }
      ]
    },
    {
      "cell_type": "markdown",
      "metadata": {
        "id": "L8rkEPlLt0JK"
      },
      "source": [
        "Categorical columns:-"
      ]
    },
    {
      "cell_type": "code",
      "metadata": {
        "id": "_UzuKwjIt0-N",
        "colab": {
          "base_uri": "https://localhost:8080/"
        },
        "outputId": "9f4a3050-5ff0-40ee-9732-7163e604c4de"
      },
      "source": [
        "cat_vars = train_df.select_dtypes(include='object').columns\n",
        "print(cat_vars)"
      ],
      "execution_count": null,
      "outputs": [
        {
          "output_type": "stream",
          "text": [
            "Index(['date_recorded', 'funder', 'installer', 'wpt_name', 'basin',\n",
            "       'subvillage', 'region', 'lga', 'ward', 'public_meeting', 'recorded_by',\n",
            "       'scheme_management', 'scheme_name', 'permit', 'extraction_type',\n",
            "       'extraction_type_group', 'extraction_type_class', 'management',\n",
            "       'management_group', 'payment', 'payment_type', 'water_quality',\n",
            "       'quality_group', 'quantity', 'quantity_group', 'source', 'source_type',\n",
            "       'source_class', 'waterpoint_type', 'waterpoint_type_group',\n",
            "       'status_group'],\n",
            "      dtype='object')\n"
          ],
          "name": "stdout"
        }
      ]
    },
    {
      "cell_type": "markdown",
      "metadata": {
        "id": "YYnSHwpMt6yA"
      },
      "source": [
        "Missing/null values in categorical columns"
      ]
    },
    {
      "cell_type": "code",
      "metadata": {
        "id": "gv6_atYLt7rp",
        "colab": {
          "base_uri": "https://localhost:8080/"
        },
        "outputId": "ac538dfd-0a88-4bd2-d786-6fe51c2ccdad"
      },
      "source": [
        "train_df[cat_vars].isnull().sum().sort_values(ascending=False)\n"
      ],
      "execution_count": null,
      "outputs": [
        {
          "output_type": "execute_result",
          "data": {
            "text/plain": [
              "scheme_name              21110\n",
              "scheme_management         2832\n",
              "installer                 2807\n",
              "funder                    2793\n",
              "public_meeting            2491\n",
              "permit                    2336\n",
              "subvillage                 287\n",
              "status_group                 0\n",
              "extraction_type              0\n",
              "wpt_name                     0\n",
              "basin                        0\n",
              "region                       0\n",
              "lga                          0\n",
              "ward                         0\n",
              "recorded_by                  0\n",
              "extraction_type_group        0\n",
              "waterpoint_type_group        0\n",
              "extraction_type_class        0\n",
              "management                   0\n",
              "management_group             0\n",
              "payment                      0\n",
              "payment_type                 0\n",
              "water_quality                0\n",
              "quality_group                0\n",
              "quantity                     0\n",
              "quantity_group               0\n",
              "source                       0\n",
              "source_type                  0\n",
              "source_class                 0\n",
              "waterpoint_type              0\n",
              "date_recorded                0\n",
              "dtype: int64"
            ]
          },
          "metadata": {
            "tags": []
          },
          "execution_count": 476
        }
      ]
    },
    {
      "cell_type": "markdown",
      "metadata": {
        "id": "aEDy77yGw5dr"
      },
      "source": [
        "2) Variable transformation, feature engineering, feature selection or elimination."
      ]
    },
    {
      "cell_type": "code",
      "metadata": {
        "id": "vAOZnRblxFJz",
        "colab": {
          "base_uri": "https://localhost:8080/"
        },
        "outputId": "87b984c0-c98e-49c7-dfd0-92f7c305359f"
      },
      "source": [
        "train_df.nunique(axis=0)"
      ],
      "execution_count": null,
      "outputs": [
        {
          "output_type": "execute_result",
          "data": {
            "text/plain": [
              "id                       44550\n",
              "amount_tsh                  85\n",
              "date_recorded              346\n",
              "funder                    1651\n",
              "gps_height                2396\n",
              "installer                 1854\n",
              "longitude                43155\n",
              "latitude                 43155\n",
              "wpt_name                 28991\n",
              "num_private                 59\n",
              "basin                        9\n",
              "subvillage               16617\n",
              "region                      21\n",
              "region_code                 27\n",
              "district_code               20\n",
              "lga                        125\n",
              "ward                      2080\n",
              "population                 956\n",
              "public_meeting               2\n",
              "recorded_by                  1\n",
              "scheme_management           12\n",
              "scheme_name               2506\n",
              "permit                       2\n",
              "construction_year           55\n",
              "extraction_type             18\n",
              "extraction_type_group       13\n",
              "extraction_type_class        7\n",
              "management                  12\n",
              "management_group             5\n",
              "payment                      7\n",
              "payment_type                 7\n",
              "water_quality                8\n",
              "quality_group                6\n",
              "quantity                     5\n",
              "quantity_group               5\n",
              "source                      10\n",
              "source_type                  7\n",
              "source_class                 3\n",
              "waterpoint_type              7\n",
              "waterpoint_type_group        6\n",
              "status_group                 3\n",
              "label                        3\n",
              "dtype: int64"
            ]
          },
          "metadata": {
            "tags": []
          },
          "execution_count": 477
        }
      ]
    },
    {
      "cell_type": "markdown",
      "metadata": {
        "id": "9wooIBkF0ZFL"
      },
      "source": [
        "Dropping similar features:-           \n",
        "The following groups of features\n",
        "\n",
        "(extraction_type, extraction_type_group, extraction_type_class),\n",
        "(payment, payment_type),            \n",
        "(water_quality, quality_group),         \n",
        "(source, source_class),     \n",
        "(subvillage, region, region_code, district_code, lga, ward),         \n",
        "(waterpoint_type, waterpoint_type_group)       \n",
        "(scheme_name, scheme_management)    \n",
        "\n",
        "contain very similar information, so the correlation between them is high. This way we are risking overfitting the training data by including all the features in our analysis.\n",
        "\n",
        "And num_private is ~99% zeros and has no description\n",
        "\n"
      ]
    },
    {
      "cell_type": "code",
      "metadata": {
        "id": "MLvGsCFm8zwl",
        "colab": {
          "base_uri": "https://localhost:8080/",
          "height": 131
        },
        "outputId": "984ac3e5-b6b3-4936-a86a-f46e41ede486"
      },
      "source": [
        "train_df.head(1)"
      ],
      "execution_count": null,
      "outputs": [
        {
          "output_type": "execute_result",
          "data": {
            "text/html": [
              "<div>\n",
              "<style scoped>\n",
              "    .dataframe tbody tr th:only-of-type {\n",
              "        vertical-align: middle;\n",
              "    }\n",
              "\n",
              "    .dataframe tbody tr th {\n",
              "        vertical-align: top;\n",
              "    }\n",
              "\n",
              "    .dataframe thead th {\n",
              "        text-align: right;\n",
              "    }\n",
              "</style>\n",
              "<table border=\"1\" class=\"dataframe\">\n",
              "  <thead>\n",
              "    <tr style=\"text-align: right;\">\n",
              "      <th></th>\n",
              "      <th>id</th>\n",
              "      <th>amount_tsh</th>\n",
              "      <th>date_recorded</th>\n",
              "      <th>funder</th>\n",
              "      <th>gps_height</th>\n",
              "      <th>installer</th>\n",
              "      <th>longitude</th>\n",
              "      <th>latitude</th>\n",
              "      <th>wpt_name</th>\n",
              "      <th>num_private</th>\n",
              "      <th>basin</th>\n",
              "      <th>subvillage</th>\n",
              "      <th>region</th>\n",
              "      <th>region_code</th>\n",
              "      <th>district_code</th>\n",
              "      <th>lga</th>\n",
              "      <th>ward</th>\n",
              "      <th>population</th>\n",
              "      <th>public_meeting</th>\n",
              "      <th>recorded_by</th>\n",
              "      <th>scheme_management</th>\n",
              "      <th>scheme_name</th>\n",
              "      <th>permit</th>\n",
              "      <th>construction_year</th>\n",
              "      <th>extraction_type</th>\n",
              "      <th>extraction_type_group</th>\n",
              "      <th>extraction_type_class</th>\n",
              "      <th>management</th>\n",
              "      <th>management_group</th>\n",
              "      <th>payment</th>\n",
              "      <th>payment_type</th>\n",
              "      <th>water_quality</th>\n",
              "      <th>quality_group</th>\n",
              "      <th>quantity</th>\n",
              "      <th>quantity_group</th>\n",
              "      <th>source</th>\n",
              "      <th>source_type</th>\n",
              "      <th>source_class</th>\n",
              "      <th>waterpoint_type</th>\n",
              "      <th>waterpoint_type_group</th>\n",
              "      <th>status_group</th>\n",
              "      <th>label</th>\n",
              "    </tr>\n",
              "  </thead>\n",
              "  <tbody>\n",
              "    <tr>\n",
              "      <th>0</th>\n",
              "      <td>7411</td>\n",
              "      <td>7.0</td>\n",
              "      <td>2013-03-20</td>\n",
              "      <td>Germany Republi</td>\n",
              "      <td>1203</td>\n",
              "      <td>CES</td>\n",
              "      <td>37.228664</td>\n",
              "      <td>-3.256505</td>\n",
              "      <td>Kwa Abdalla</td>\n",
              "      <td>0</td>\n",
              "      <td>Pangani</td>\n",
              "      <td>Mafurini</td>\n",
              "      <td>Kilimanjaro</td>\n",
              "      <td>3</td>\n",
              "      <td>5</td>\n",
              "      <td>Hai</td>\n",
              "      <td>Machame Kaskazini</td>\n",
              "      <td>90</td>\n",
              "      <td>True</td>\n",
              "      <td>GeoData Consultants Ltd</td>\n",
              "      <td>Water Board</td>\n",
              "      <td>Machame water supply</td>\n",
              "      <td>True</td>\n",
              "      <td>2008</td>\n",
              "      <td>gravity</td>\n",
              "      <td>gravity</td>\n",
              "      <td>gravity</td>\n",
              "      <td>water board</td>\n",
              "      <td>user-group</td>\n",
              "      <td>pay per bucket</td>\n",
              "      <td>per bucket</td>\n",
              "      <td>soft</td>\n",
              "      <td>good</td>\n",
              "      <td>enough</td>\n",
              "      <td>enough</td>\n",
              "      <td>spring</td>\n",
              "      <td>spring</td>\n",
              "      <td>groundwater</td>\n",
              "      <td>communal standpipe</td>\n",
              "      <td>communal standpipe</td>\n",
              "      <td>functional</td>\n",
              "      <td>2</td>\n",
              "    </tr>\n",
              "  </tbody>\n",
              "</table>\n",
              "</div>"
            ],
            "text/plain": [
              "     id  amount_tsh date_recorded  ... waterpoint_type_group  status_group label\n",
              "0  7411         7.0    2013-03-20  ...    communal standpipe    functional     2\n",
              "\n",
              "[1 rows x 42 columns]"
            ]
          },
          "metadata": {
            "tags": []
          },
          "execution_count": 478
        }
      ]
    },
    {
      "cell_type": "code",
      "metadata": {
        "id": "hUKvqYVv87Hb"
      },
      "source": [
        "train_df = train_df.drop(['id','installer','wpt_name','num_private','subvillage',\n",
        "               'region','district_code','lga','ward','scheme_name',\n",
        "               'extraction_type_group','extraction_type_class','management_group','payment','water_quality',\n",
        "               'quantity','source_type','waterpoint_type_group','status_group'], axis =1)"
      ],
      "execution_count": null,
      "outputs": []
    },
    {
      "cell_type": "code",
      "metadata": {
        "id": "wk-_2tfZEUwu",
        "colab": {
          "base_uri": "https://localhost:8080/",
          "height": 384
        },
        "outputId": "213fa1b4-90f3-44ae-aaa4-770971c9cb60"
      },
      "source": [
        "train_df.head()"
      ],
      "execution_count": null,
      "outputs": [
        {
          "output_type": "execute_result",
          "data": {
            "text/html": [
              "<div>\n",
              "<style scoped>\n",
              "    .dataframe tbody tr th:only-of-type {\n",
              "        vertical-align: middle;\n",
              "    }\n",
              "\n",
              "    .dataframe tbody tr th {\n",
              "        vertical-align: top;\n",
              "    }\n",
              "\n",
              "    .dataframe thead th {\n",
              "        text-align: right;\n",
              "    }\n",
              "</style>\n",
              "<table border=\"1\" class=\"dataframe\">\n",
              "  <thead>\n",
              "    <tr style=\"text-align: right;\">\n",
              "      <th></th>\n",
              "      <th>amount_tsh</th>\n",
              "      <th>date_recorded</th>\n",
              "      <th>funder</th>\n",
              "      <th>gps_height</th>\n",
              "      <th>longitude</th>\n",
              "      <th>latitude</th>\n",
              "      <th>basin</th>\n",
              "      <th>region_code</th>\n",
              "      <th>population</th>\n",
              "      <th>public_meeting</th>\n",
              "      <th>recorded_by</th>\n",
              "      <th>scheme_management</th>\n",
              "      <th>permit</th>\n",
              "      <th>construction_year</th>\n",
              "      <th>extraction_type</th>\n",
              "      <th>management</th>\n",
              "      <th>payment_type</th>\n",
              "      <th>quality_group</th>\n",
              "      <th>quantity_group</th>\n",
              "      <th>source</th>\n",
              "      <th>source_class</th>\n",
              "      <th>waterpoint_type</th>\n",
              "      <th>label</th>\n",
              "    </tr>\n",
              "  </thead>\n",
              "  <tbody>\n",
              "    <tr>\n",
              "      <th>0</th>\n",
              "      <td>7.0</td>\n",
              "      <td>2013-03-20</td>\n",
              "      <td>Germany Republi</td>\n",
              "      <td>1203</td>\n",
              "      <td>37.228664</td>\n",
              "      <td>-3.256505</td>\n",
              "      <td>Pangani</td>\n",
              "      <td>3</td>\n",
              "      <td>90</td>\n",
              "      <td>True</td>\n",
              "      <td>GeoData Consultants Ltd</td>\n",
              "      <td>Water Board</td>\n",
              "      <td>True</td>\n",
              "      <td>2008</td>\n",
              "      <td>gravity</td>\n",
              "      <td>water board</td>\n",
              "      <td>per bucket</td>\n",
              "      <td>good</td>\n",
              "      <td>enough</td>\n",
              "      <td>spring</td>\n",
              "      <td>groundwater</td>\n",
              "      <td>communal standpipe</td>\n",
              "      <td>2</td>\n",
              "    </tr>\n",
              "    <tr>\n",
              "      <th>1</th>\n",
              "      <td>0.0</td>\n",
              "      <td>2011-02-21</td>\n",
              "      <td>Cdtf</td>\n",
              "      <td>1409</td>\n",
              "      <td>34.615481</td>\n",
              "      <td>-9.972601</td>\n",
              "      <td>Lake Nyasa</td>\n",
              "      <td>11</td>\n",
              "      <td>70</td>\n",
              "      <td>False</td>\n",
              "      <td>GeoData Consultants Ltd</td>\n",
              "      <td>Private operator</td>\n",
              "      <td>False</td>\n",
              "      <td>1984</td>\n",
              "      <td>gravity</td>\n",
              "      <td>private operator</td>\n",
              "      <td>never pay</td>\n",
              "      <td>good</td>\n",
              "      <td>enough</td>\n",
              "      <td>spring</td>\n",
              "      <td>groundwater</td>\n",
              "      <td>communal standpipe</td>\n",
              "      <td>2</td>\n",
              "    </tr>\n",
              "    <tr>\n",
              "      <th>2</th>\n",
              "      <td>0.0</td>\n",
              "      <td>2013-01-04</td>\n",
              "      <td>Government Of Tanzania</td>\n",
              "      <td>1572</td>\n",
              "      <td>36.658778</td>\n",
              "      <td>-3.321529</td>\n",
              "      <td>Pangani</td>\n",
              "      <td>2</td>\n",
              "      <td>150</td>\n",
              "      <td>True</td>\n",
              "      <td>GeoData Consultants Ltd</td>\n",
              "      <td>VWC</td>\n",
              "      <td>True</td>\n",
              "      <td>2002</td>\n",
              "      <td>gravity</td>\n",
              "      <td>vwc</td>\n",
              "      <td>never pay</td>\n",
              "      <td>good</td>\n",
              "      <td>insufficient</td>\n",
              "      <td>spring</td>\n",
              "      <td>groundwater</td>\n",
              "      <td>communal standpipe</td>\n",
              "      <td>0</td>\n",
              "    </tr>\n",
              "    <tr>\n",
              "      <th>3</th>\n",
              "      <td>0.0</td>\n",
              "      <td>2011-04-03</td>\n",
              "      <td>District Council</td>\n",
              "      <td>0</td>\n",
              "      <td>33.628025</td>\n",
              "      <td>-8.860795</td>\n",
              "      <td>Rufiji</td>\n",
              "      <td>12</td>\n",
              "      <td>0</td>\n",
              "      <td>True</td>\n",
              "      <td>GeoData Consultants Ltd</td>\n",
              "      <td>VWC</td>\n",
              "      <td>True</td>\n",
              "      <td>0</td>\n",
              "      <td>gravity</td>\n",
              "      <td>wug</td>\n",
              "      <td>annually</td>\n",
              "      <td>good</td>\n",
              "      <td>insufficient</td>\n",
              "      <td>river</td>\n",
              "      <td>surface</td>\n",
              "      <td>communal standpipe</td>\n",
              "      <td>2</td>\n",
              "    </tr>\n",
              "    <tr>\n",
              "      <th>4</th>\n",
              "      <td>300.0</td>\n",
              "      <td>2013-03-08</td>\n",
              "      <td>District Council</td>\n",
              "      <td>1283</td>\n",
              "      <td>37.655509</td>\n",
              "      <td>-3.669777</td>\n",
              "      <td>Pangani</td>\n",
              "      <td>3</td>\n",
              "      <td>34</td>\n",
              "      <td>True</td>\n",
              "      <td>GeoData Consultants Ltd</td>\n",
              "      <td>VWC</td>\n",
              "      <td>False</td>\n",
              "      <td>2007</td>\n",
              "      <td>gravity</td>\n",
              "      <td>vwc</td>\n",
              "      <td>monthly</td>\n",
              "      <td>good</td>\n",
              "      <td>insufficient</td>\n",
              "      <td>spring</td>\n",
              "      <td>groundwater</td>\n",
              "      <td>communal standpipe</td>\n",
              "      <td>2</td>\n",
              "    </tr>\n",
              "  </tbody>\n",
              "</table>\n",
              "</div>"
            ],
            "text/plain": [
              "   amount_tsh date_recorded  ...     waterpoint_type  label\n",
              "0         7.0    2013-03-20  ...  communal standpipe      2\n",
              "1         0.0    2011-02-21  ...  communal standpipe      2\n",
              "2         0.0    2013-01-04  ...  communal standpipe      0\n",
              "3         0.0    2011-04-03  ...  communal standpipe      2\n",
              "4       300.0    2013-03-08  ...  communal standpipe      2\n",
              "\n",
              "[5 rows x 23 columns]"
            ]
          },
          "metadata": {
            "tags": []
          },
          "execution_count": 480
        }
      ]
    },
    {
      "cell_type": "code",
      "metadata": {
        "id": "2s8uq4teEiRt",
        "colab": {
          "base_uri": "https://localhost:8080/"
        },
        "outputId": "865db7bc-6964-4407-d925-1528288cd63d"
      },
      "source": [
        "train_df.shape"
      ],
      "execution_count": null,
      "outputs": [
        {
          "output_type": "execute_result",
          "data": {
            "text/plain": [
              "(44550, 23)"
            ]
          },
          "metadata": {
            "tags": []
          },
          "execution_count": 481
        }
      ]
    },
    {
      "cell_type": "code",
      "metadata": {
        "id": "23L0Zi6rCuWH"
      },
      "source": [
        "test_df = test_df.drop(['id','installer','wpt_name','num_private','subvillage',\n",
        "               'region','district_code','lga','ward','scheme_name',\n",
        "               'extraction_type_group','extraction_type_class','management_group','payment','water_quality',\n",
        "               'quantity','source_type','waterpoint_type_group'], axis =1)"
      ],
      "execution_count": null,
      "outputs": []
    },
    {
      "cell_type": "code",
      "metadata": {
        "id": "P_Q4yE14EaCJ",
        "colab": {
          "base_uri": "https://localhost:8080/",
          "height": 401
        },
        "outputId": "22c64c8a-02f2-4241-ad30-62e4f7f7d8a3"
      },
      "source": [
        "test_df.head()"
      ],
      "execution_count": null,
      "outputs": [
        {
          "output_type": "execute_result",
          "data": {
            "text/html": [
              "<div>\n",
              "<style scoped>\n",
              "    .dataframe tbody tr th:only-of-type {\n",
              "        vertical-align: middle;\n",
              "    }\n",
              "\n",
              "    .dataframe tbody tr th {\n",
              "        vertical-align: top;\n",
              "    }\n",
              "\n",
              "    .dataframe thead th {\n",
              "        text-align: right;\n",
              "    }\n",
              "</style>\n",
              "<table border=\"1\" class=\"dataframe\">\n",
              "  <thead>\n",
              "    <tr style=\"text-align: right;\">\n",
              "      <th></th>\n",
              "      <th>Unnamed: 0</th>\n",
              "      <th>amount_tsh</th>\n",
              "      <th>date_recorded</th>\n",
              "      <th>funder</th>\n",
              "      <th>gps_height</th>\n",
              "      <th>longitude</th>\n",
              "      <th>latitude</th>\n",
              "      <th>basin</th>\n",
              "      <th>region_code</th>\n",
              "      <th>population</th>\n",
              "      <th>public_meeting</th>\n",
              "      <th>recorded_by</th>\n",
              "      <th>scheme_management</th>\n",
              "      <th>permit</th>\n",
              "      <th>construction_year</th>\n",
              "      <th>extraction_type</th>\n",
              "      <th>management</th>\n",
              "      <th>payment_type</th>\n",
              "      <th>quality_group</th>\n",
              "      <th>quantity_group</th>\n",
              "      <th>source</th>\n",
              "      <th>source_class</th>\n",
              "      <th>waterpoint_type</th>\n",
              "    </tr>\n",
              "  </thead>\n",
              "  <tbody>\n",
              "    <tr>\n",
              "      <th>0</th>\n",
              "      <td>0</td>\n",
              "      <td>0.0</td>\n",
              "      <td>2011-02-25</td>\n",
              "      <td>Kuamu</td>\n",
              "      <td>1676</td>\n",
              "      <td>35.247289</td>\n",
              "      <td>-8.113243</td>\n",
              "      <td>Rufiji</td>\n",
              "      <td>11</td>\n",
              "      <td>769</td>\n",
              "      <td>True</td>\n",
              "      <td>GeoData Consultants Ltd</td>\n",
              "      <td>VWC</td>\n",
              "      <td>True</td>\n",
              "      <td>2004</td>\n",
              "      <td>gravity</td>\n",
              "      <td>vwc</td>\n",
              "      <td>never pay</td>\n",
              "      <td>good</td>\n",
              "      <td>dry</td>\n",
              "      <td>spring</td>\n",
              "      <td>groundwater</td>\n",
              "      <td>communal standpipe</td>\n",
              "    </tr>\n",
              "    <tr>\n",
              "      <th>1</th>\n",
              "      <td>1</td>\n",
              "      <td>0.0</td>\n",
              "      <td>2011-04-17</td>\n",
              "      <td>Kirde</td>\n",
              "      <td>0</td>\n",
              "      <td>36.163435</td>\n",
              "      <td>-5.218454</td>\n",
              "      <td>Wami / Ruvu</td>\n",
              "      <td>1</td>\n",
              "      <td>0</td>\n",
              "      <td>True</td>\n",
              "      <td>GeoData Consultants Ltd</td>\n",
              "      <td>VWC</td>\n",
              "      <td>False</td>\n",
              "      <td>0</td>\n",
              "      <td>mono</td>\n",
              "      <td>vwc</td>\n",
              "      <td>never pay</td>\n",
              "      <td>good</td>\n",
              "      <td>enough</td>\n",
              "      <td>machine dbh</td>\n",
              "      <td>groundwater</td>\n",
              "      <td>communal standpipe</td>\n",
              "    </tr>\n",
              "    <tr>\n",
              "      <th>2</th>\n",
              "      <td>2</td>\n",
              "      <td>0.0</td>\n",
              "      <td>2011-03-27</td>\n",
              "      <td>Water</td>\n",
              "      <td>0</td>\n",
              "      <td>36.363337</td>\n",
              "      <td>-7.297600</td>\n",
              "      <td>Rufiji</td>\n",
              "      <td>1</td>\n",
              "      <td>0</td>\n",
              "      <td>True</td>\n",
              "      <td>GeoData Consultants Ltd</td>\n",
              "      <td>VWC</td>\n",
              "      <td>True</td>\n",
              "      <td>0</td>\n",
              "      <td>nira/tanira</td>\n",
              "      <td>vwc</td>\n",
              "      <td>never pay</td>\n",
              "      <td>good</td>\n",
              "      <td>enough</td>\n",
              "      <td>shallow well</td>\n",
              "      <td>groundwater</td>\n",
              "      <td>hand pump</td>\n",
              "    </tr>\n",
              "    <tr>\n",
              "      <th>3</th>\n",
              "      <td>3</td>\n",
              "      <td>0.0</td>\n",
              "      <td>2011-07-14</td>\n",
              "      <td>Ka</td>\n",
              "      <td>0</td>\n",
              "      <td>31.496315</td>\n",
              "      <td>-2.167140</td>\n",
              "      <td>Lake Victoria</td>\n",
              "      <td>18</td>\n",
              "      <td>0</td>\n",
              "      <td>True</td>\n",
              "      <td>GeoData Consultants Ltd</td>\n",
              "      <td>VWC</td>\n",
              "      <td>True</td>\n",
              "      <td>0</td>\n",
              "      <td>other</td>\n",
              "      <td>vwc</td>\n",
              "      <td>never pay</td>\n",
              "      <td>good</td>\n",
              "      <td>enough</td>\n",
              "      <td>shallow well</td>\n",
              "      <td>groundwater</td>\n",
              "      <td>hand pump</td>\n",
              "    </tr>\n",
              "    <tr>\n",
              "      <th>4</th>\n",
              "      <td>4</td>\n",
              "      <td>0.0</td>\n",
              "      <td>2011-07-31</td>\n",
              "      <td>World Vision</td>\n",
              "      <td>0</td>\n",
              "      <td>31.843905</td>\n",
              "      <td>-1.244841</td>\n",
              "      <td>Lake Victoria</td>\n",
              "      <td>18</td>\n",
              "      <td>0</td>\n",
              "      <td>True</td>\n",
              "      <td>GeoData Consultants Ltd</td>\n",
              "      <td>VWC</td>\n",
              "      <td>True</td>\n",
              "      <td>0</td>\n",
              "      <td>gravity</td>\n",
              "      <td>vwc</td>\n",
              "      <td>never pay</td>\n",
              "      <td>good</td>\n",
              "      <td>insufficient</td>\n",
              "      <td>rainwater harvesting</td>\n",
              "      <td>surface</td>\n",
              "      <td>communal standpipe</td>\n",
              "    </tr>\n",
              "  </tbody>\n",
              "</table>\n",
              "</div>"
            ],
            "text/plain": [
              "   Unnamed: 0  amount_tsh  ... source_class     waterpoint_type\n",
              "0           0         0.0  ...  groundwater  communal standpipe\n",
              "1           1         0.0  ...  groundwater  communal standpipe\n",
              "2           2         0.0  ...  groundwater           hand pump\n",
              "3           3         0.0  ...  groundwater           hand pump\n",
              "4           4         0.0  ...      surface  communal standpipe\n",
              "\n",
              "[5 rows x 23 columns]"
            ]
          },
          "metadata": {
            "tags": []
          },
          "execution_count": 483
        }
      ]
    },
    {
      "cell_type": "code",
      "metadata": {
        "id": "7-tdym-bEl-e",
        "colab": {
          "base_uri": "https://localhost:8080/"
        },
        "outputId": "a844fb4f-30c3-42b9-c21f-1fbcc568cd60"
      },
      "source": [
        "test_df.shape"
      ],
      "execution_count": null,
      "outputs": [
        {
          "output_type": "execute_result",
          "data": {
            "text/plain": [
              "(14850, 23)"
            ]
          },
          "metadata": {
            "tags": []
          },
          "execution_count": 484
        }
      ]
    },
    {
      "cell_type": "markdown",
      "metadata": {
        "id": "UyfJBvwvClzb"
      },
      "source": [
        "Dealing with missing values"
      ]
    },
    {
      "cell_type": "code",
      "metadata": {
        "id": "PRptPTPRCOAc",
        "colab": {
          "base_uri": "https://localhost:8080/"
        },
        "outputId": "b0d15a87-5180-4e52-9908-8070c2b418af"
      },
      "source": [
        "train_df.isnull().sum()"
      ],
      "execution_count": null,
      "outputs": [
        {
          "output_type": "execute_result",
          "data": {
            "text/plain": [
              "amount_tsh              0\n",
              "date_recorded           0\n",
              "funder               2793\n",
              "gps_height              0\n",
              "longitude               0\n",
              "latitude                0\n",
              "basin                   0\n",
              "region_code             0\n",
              "population              0\n",
              "public_meeting       2491\n",
              "recorded_by             0\n",
              "scheme_management    2832\n",
              "permit               2336\n",
              "construction_year       0\n",
              "extraction_type         0\n",
              "management              0\n",
              "payment_type            0\n",
              "quality_group           0\n",
              "quantity_group          0\n",
              "source                  0\n",
              "source_class            0\n",
              "waterpoint_type         0\n",
              "label                   0\n",
              "dtype: int64"
            ]
          },
          "metadata": {
            "tags": []
          },
          "execution_count": 485
        }
      ]
    },
    {
      "cell_type": "code",
      "metadata": {
        "id": "RZioqPGbDn9O",
        "colab": {
          "base_uri": "https://localhost:8080/"
        },
        "outputId": "040e430e-36ca-4c38-ecd7-b6d63b284d4a"
      },
      "source": [
        "test_df.isnull().sum()"
      ],
      "execution_count": null,
      "outputs": [
        {
          "output_type": "execute_result",
          "data": {
            "text/plain": [
              "Unnamed: 0              0\n",
              "amount_tsh              0\n",
              "date_recorded           0\n",
              "funder                842\n",
              "gps_height              0\n",
              "longitude               0\n",
              "latitude                0\n",
              "basin                   0\n",
              "region_code             0\n",
              "population              0\n",
              "public_meeting        843\n",
              "recorded_by             0\n",
              "scheme_management    1045\n",
              "permit                720\n",
              "construction_year       0\n",
              "extraction_type         0\n",
              "management              0\n",
              "payment_type            0\n",
              "quality_group           0\n",
              "quantity_group          0\n",
              "source                  0\n",
              "source_class            0\n",
              "waterpoint_type         0\n",
              "dtype: int64"
            ]
          },
          "metadata": {
            "tags": []
          },
          "execution_count": 486
        }
      ]
    },
    {
      "cell_type": "code",
      "metadata": {
        "id": "TAurE37gEzwq"
      },
      "source": [
        "# Null scheme_management, funder, public_meeting and permit values replace with \"unknown\" text\n",
        "train_df[\"scheme_management\"].fillna(\"unknown\", inplace = True)\n",
        "train_df[\"public_meeting\"].fillna(\"unknown\", inplace = True)\n",
        "train_df[\"permit\"].fillna(\"unknown\", inplace = True)\n",
        "train_df[\"funder\"].fillna(\"unknown\", inplace = True)\n",
        "\n",
        "test_df[\"scheme_management\"].fillna(\"unknown\", inplace = True)\n",
        "test_df[\"public_meeting\"].fillna(\"unknown\", inplace = True)\n",
        "test_df[\"permit\"].fillna(\"unknown\", inplace = True)\n",
        "test_df[\"funder\"].fillna(\"unknown\", inplace = True)\n"
      ],
      "execution_count": null,
      "outputs": []
    },
    {
      "cell_type": "code",
      "metadata": {
        "id": "T-ZAohjIFK6d",
        "colab": {
          "base_uri": "https://localhost:8080/"
        },
        "outputId": "12461085-5b1e-4d8b-b934-f5ba21a4d9ec"
      },
      "source": [
        "train_df.isnull().sum().sort_values(ascending = False)"
      ],
      "execution_count": null,
      "outputs": [
        {
          "output_type": "execute_result",
          "data": {
            "text/plain": [
              "label                0\n",
              "recorded_by          0\n",
              "date_recorded        0\n",
              "funder               0\n",
              "gps_height           0\n",
              "longitude            0\n",
              "latitude             0\n",
              "basin                0\n",
              "region_code          0\n",
              "population           0\n",
              "public_meeting       0\n",
              "scheme_management    0\n",
              "waterpoint_type      0\n",
              "permit               0\n",
              "construction_year    0\n",
              "extraction_type      0\n",
              "management           0\n",
              "payment_type         0\n",
              "quality_group        0\n",
              "quantity_group       0\n",
              "source               0\n",
              "source_class         0\n",
              "amount_tsh           0\n",
              "dtype: int64"
            ]
          },
          "metadata": {
            "tags": []
          },
          "execution_count": 488
        }
      ]
    },
    {
      "cell_type": "code",
      "metadata": {
        "id": "e6t4iZ9HFUMF",
        "colab": {
          "base_uri": "https://localhost:8080/"
        },
        "outputId": "52263af6-7406-4f74-ebbf-0e2086db3291"
      },
      "source": [
        "test_df.isnull().sum().sort_values(ascending = False)"
      ],
      "execution_count": null,
      "outputs": [
        {
          "output_type": "execute_result",
          "data": {
            "text/plain": [
              "waterpoint_type      0\n",
              "public_meeting       0\n",
              "amount_tsh           0\n",
              "date_recorded        0\n",
              "funder               0\n",
              "gps_height           0\n",
              "longitude            0\n",
              "latitude             0\n",
              "basin                0\n",
              "region_code          0\n",
              "population           0\n",
              "recorded_by          0\n",
              "source_class         0\n",
              "scheme_management    0\n",
              "permit               0\n",
              "construction_year    0\n",
              "extraction_type      0\n",
              "management           0\n",
              "payment_type         0\n",
              "quality_group        0\n",
              "quantity_group       0\n",
              "source               0\n",
              "Unnamed: 0           0\n",
              "dtype: int64"
            ]
          },
          "metadata": {
            "tags": []
          },
          "execution_count": 489
        }
      ]
    },
    {
      "cell_type": "markdown",
      "metadata": {
        "id": "HtRFX2SiGJLB"
      },
      "source": [
        "Reducing cardinality"
      ]
    },
    {
      "cell_type": "markdown",
      "metadata": {
        "id": "pbjXnN1BGLJ1"
      },
      "source": [
        "selecting features"
      ]
    },
    {
      "cell_type": "code",
      "metadata": {
        "id": "uGPOM1z5GOJa",
        "colab": {
          "base_uri": "https://localhost:8080/"
        },
        "outputId": "a2bd0062-bae1-4b0e-da6b-1a526272c069"
      },
      "source": [
        "# Get number of unique entries in each column with categorical data\n",
        "\n",
        "cat_vars = train_df.select_dtypes(include='object').columns\n",
        "object_nunique = list(map(lambda col: train_df[col].nunique(), cat_vars))\n",
        "d = dict(zip(cat_vars, object_nunique))\n",
        "\n",
        "# Print number of unique entries by column, in ascending order\n",
        "sorted(d.items(), key=lambda x: x[1])"
      ],
      "execution_count": null,
      "outputs": [
        {
          "output_type": "execute_result",
          "data": {
            "text/plain": [
              "[('recorded_by', 1),\n",
              " ('public_meeting', 3),\n",
              " ('permit', 3),\n",
              " ('source_class', 3),\n",
              " ('quantity_group', 5),\n",
              " ('quality_group', 6),\n",
              " ('payment_type', 7),\n",
              " ('waterpoint_type', 7),\n",
              " ('basin', 9),\n",
              " ('source', 10),\n",
              " ('management', 12),\n",
              " ('scheme_management', 13),\n",
              " ('extraction_type', 18),\n",
              " ('date_recorded', 346),\n",
              " ('funder', 1652)]"
            ]
          },
          "metadata": {
            "tags": []
          },
          "execution_count": 490
        }
      ]
    },
    {
      "cell_type": "markdown",
      "metadata": {
        "id": "fz3JIPR9GvdV"
      },
      "source": [
        "Based on the above analysis:\n",
        "\n",
        "The \"recorded_by\" feature can be dropped as there is only 1 unique value, it doesn't help in predicting.\n",
        "\n",
        "The columns in which values can be ordered we can perform an Ordinal encoding:\n",
        "\n",
        "quality_group   \n",
        "quantity_group   \n",
        "payment_type\n",
        "\n",
        "The cardinality of the following 2 features should be reduced to 10 and then one-hot encode them or try Binary encoding:\n",
        "\n",
        "scheme_managenemt   \n",
        "extraction_type   \n",
        "\n",
        "The cardinality of \"funder\" is too high, will drop at the first model run, later could try Frequency encoding,Binary encoding if reduce cardinality to at least 100.\n",
        "\n",
        "The rest can be one-hot encoded as the cardinality is lower than 10:\n",
        "\n",
        "public_meeting # later -> Binary?    \n",
        "permit # later-> Binary?   \n",
        "source_class   \n",
        "management_group    \n",
        "waterpoint_type_group    \n",
        "source_type    \n",
        "basin"
      ]
    },
    {
      "cell_type": "code",
      "metadata": {
        "id": "kC8q8z3DGwJY"
      },
      "source": [
        "train_df = train_df.drop('recorded_by', axis = 1)\n"
      ],
      "execution_count": null,
      "outputs": []
    },
    {
      "cell_type": "code",
      "metadata": {
        "id": "fMlbC57ZrwYe"
      },
      "source": [
        "test_df = test_df.drop('recorded_by', axis = 1)"
      ],
      "execution_count": null,
      "outputs": []
    },
    {
      "cell_type": "markdown",
      "metadata": {
        "id": "aRT0-C8sq9s5"
      },
      "source": [
        "Ordinal encoding of categerical data:-"
      ]
    },
    {
      "cell_type": "markdown",
      "metadata": {
        "id": "pEH8b_o9rN80"
      },
      "source": [
        "Quality_group"
      ]
    },
    {
      "cell_type": "code",
      "metadata": {
        "id": "US1PUYO8q8VA",
        "colab": {
          "base_uri": "https://localhost:8080/"
        },
        "outputId": "3893b177-56d2-4521-d827-bbd5a551f689"
      },
      "source": [
        "train_df.quality_group.value_counts()"
      ],
      "execution_count": null,
      "outputs": [
        {
          "output_type": "execute_result",
          "data": {
            "text/plain": [
              "good        38093\n",
              "salty        3932\n",
              "unknown      1397\n",
              "milky         606\n",
              "colored       364\n",
              "fluoride      158\n",
              "Name: quality_group, dtype: int64"
            ]
          },
          "metadata": {
            "tags": []
          },
          "execution_count": 493
        }
      ]
    },
    {
      "cell_type": "code",
      "metadata": {
        "id": "zPtGlFoRrS_H"
      },
      "source": [
        "order_dict_quality = {\"good\":3,\"salty\":2,\"milky\":2,\"colored\":2,\"fluoride\":2,\"unknown\":1}\n",
        "train_df[\"quality_group_code\"] = [order_dict_quality[item] for item in train_df.quality_group]\n",
        "del train_df[\"quality_group\"]\n",
        "\n",
        "test_df[\"quality_group_code\"] = [order_dict_quality[item] for item in test_df.quality_group]\n",
        "del test_df[\"quality_group\"]"
      ],
      "execution_count": null,
      "outputs": []
    },
    {
      "cell_type": "markdown",
      "metadata": {
        "id": "6Uq05c2zsC0g"
      },
      "source": [
        "Quantity_group"
      ]
    },
    {
      "cell_type": "code",
      "metadata": {
        "id": "gYT-YgmAsF6-",
        "colab": {
          "base_uri": "https://localhost:8080/"
        },
        "outputId": "720e8d87-d082-4b86-f46d-56772e2f85a8"
      },
      "source": [
        "train_df.quantity_group.value_counts()"
      ],
      "execution_count": null,
      "outputs": [
        {
          "output_type": "execute_result",
          "data": {
            "text/plain": [
              "enough          24821\n",
              "insufficient    11367\n",
              "dry              4725\n",
              "seasonal         3049\n",
              "unknown           588\n",
              "Name: quantity_group, dtype: int64"
            ]
          },
          "metadata": {
            "tags": []
          },
          "execution_count": 495
        }
      ]
    },
    {
      "cell_type": "code",
      "metadata": {
        "id": "gf8UrJrksJYv"
      },
      "source": [
        "order_dict_quantity = {\"enough\":3,\"insufficient\":2,\"dry\":2,\"seasonal\":2,\"unknown\":1}\n",
        "train_df[\"quantity_group_code\"] = [order_dict_quantity[item] for item in train_df.quantity_group] \n",
        "del train_df[\"quantity_group\"]\n",
        "\n",
        "test_df[\"quantity_group_code\"] = [order_dict_quantity[item] for item in test_df.quantity_group] \n",
        "del test_df[\"quantity_group\"]\n"
      ],
      "execution_count": null,
      "outputs": []
    },
    {
      "cell_type": "markdown",
      "metadata": {
        "id": "Whv839jtsXkT"
      },
      "source": [
        "Payment_type"
      ]
    },
    {
      "cell_type": "code",
      "metadata": {
        "id": "PYZ6RUaRsaVJ",
        "colab": {
          "base_uri": "https://localhost:8080/"
        },
        "outputId": "8c7bb773-a0cc-4906-afd9-43ac17bd422a"
      },
      "source": [
        "train_df.payment_type.value_counts()"
      ],
      "execution_count": null,
      "outputs": [
        {
          "output_type": "execute_result",
          "data": {
            "text/plain": [
              "never pay     19002\n",
              "per bucket     6808\n",
              "monthly        6182\n",
              "unknown        6104\n",
              "on failure     2941\n",
              "annually       2717\n",
              "other           796\n",
              "Name: payment_type, dtype: int64"
            ]
          },
          "metadata": {
            "tags": []
          },
          "execution_count": 497
        }
      ]
    },
    {
      "cell_type": "code",
      "metadata": {
        "id": "BV09EDZQsnqR"
      },
      "source": [
        "order_dict_payment = {\"monthly\":4,\"annually\":4,\"on failure\":3,\"per bucket\":3,\"never pay\":2,\"unknown\":1,\"other\":1}\n",
        "train_df[\"payment_code\"] = [order_dict_payment[item] for item in train_df.payment_type] \n",
        "del train_df[\"payment_type\"]\n",
        "\n",
        "test_df[\"payment_code\"] = [order_dict_payment[item] for item in test_df.payment_type] \n",
        "del test_df[\"payment_type\"]"
      ],
      "execution_count": null,
      "outputs": []
    },
    {
      "cell_type": "markdown",
      "metadata": {
        "id": "EJ3BfXatthUb"
      },
      "source": [
        "Public_meeting"
      ]
    },
    {
      "cell_type": "code",
      "metadata": {
        "id": "bc76aPOttiSM",
        "colab": {
          "base_uri": "https://localhost:8080/"
        },
        "outputId": "90480c8d-68c9-4174-c7c3-a19cf965bb71"
      },
      "source": [
        "train_df.public_meeting.value_counts()"
      ],
      "execution_count": null,
      "outputs": [
        {
          "output_type": "execute_result",
          "data": {
            "text/plain": [
              "True       38212\n",
              "False       3847\n",
              "unknown     2491\n",
              "Name: public_meeting, dtype: int64"
            ]
          },
          "metadata": {
            "tags": []
          },
          "execution_count": 499
        }
      ]
    },
    {
      "cell_type": "code",
      "metadata": {
        "id": "H2kPW-nxtknp"
      },
      "source": [
        "order_dict_pub_meet = {True:2,False:1,\"unknown\":0}\n",
        "train_df[\"public_meeting_code\"] = [order_dict_pub_meet[item] for item in train_df.public_meeting] \n",
        "del train_df[\"public_meeting\"]\n",
        "\n",
        "test_df[\"public_meeting_code\"] = [order_dict_pub_meet[item] for item in test_df.public_meeting] \n",
        "del test_df[\"public_meeting\"]\n"
      ],
      "execution_count": null,
      "outputs": []
    },
    {
      "cell_type": "markdown",
      "metadata": {
        "id": "TH-lIleJtnUx"
      },
      "source": [
        "Permit"
      ]
    },
    {
      "cell_type": "code",
      "metadata": {
        "id": "yvUV0TjCtrAB",
        "colab": {
          "base_uri": "https://localhost:8080/"
        },
        "outputId": "819d0804-85e7-4478-9b04-2ebcfd8ca011"
      },
      "source": [
        "train_df.permit.value_counts()"
      ],
      "execution_count": null,
      "outputs": [
        {
          "output_type": "execute_result",
          "data": {
            "text/plain": [
              "True       29057\n",
              "False      13157\n",
              "unknown     2336\n",
              "Name: permit, dtype: int64"
            ]
          },
          "metadata": {
            "tags": []
          },
          "execution_count": 501
        }
      ]
    },
    {
      "cell_type": "code",
      "metadata": {
        "id": "GZtFczkGttxi"
      },
      "source": [
        "order_dict_permit = {True:2,False:1,\"unknown\":0}\n",
        "train_df[\"permit_code\"] = [order_dict_pub_meet[item] for item in train_df.permit] \n",
        "del train_df[\"permit\"]\n",
        "\n",
        "test_df[\"permit_code\"] = [order_dict_pub_meet[item] for item in test_df.permit] \n",
        "del test_df[\"permit\"]"
      ],
      "execution_count": null,
      "outputs": []
    },
    {
      "cell_type": "markdown",
      "metadata": {
        "id": "cXF9Q2WFue8S"
      },
      "source": [
        "One hot encoding"
      ]
    },
    {
      "cell_type": "markdown",
      "metadata": {
        "id": "n34JVmVBuhCm"
      },
      "source": [
        "Scheme_managment"
      ]
    },
    {
      "cell_type": "code",
      "metadata": {
        "id": "-Y8lkMQauj1J",
        "colab": {
          "base_uri": "https://localhost:8080/"
        },
        "outputId": "1d888837-b822-404b-dd59-766727b4a3be"
      },
      "source": [
        "train_df.scheme_management.value_counts()"
      ],
      "execution_count": null,
      "outputs": [
        {
          "output_type": "execute_result",
          "data": {
            "text/plain": [
              "VWC                 27651\n",
              "WUG                  3906\n",
              "unknown              2832\n",
              "Water authority      2361\n",
              "WUA                  2166\n",
              "Water Board          2078\n",
              "Parastatal           1272\n",
              "Private operator      792\n",
              "Company               790\n",
              "Other                 575\n",
              "SWC                    69\n",
              "Trust                  57\n",
              "None                    1\n",
              "Name: scheme_management, dtype: int64"
            ]
          },
          "metadata": {
            "tags": []
          },
          "execution_count": 503
        }
      ]
    },
    {
      "cell_type": "code",
      "metadata": {
        "id": "ELc4V_rwusLd"
      },
      "source": [
        "def scheme_wrangler(row):\n",
        "    if row['scheme_management']=='VWC':\n",
        "        return 'vwc'\n",
        "    elif row['scheme_management']=='WUG':\n",
        "        return 'wug'\n",
        "    elif row['scheme_management']=='Water authority':\n",
        "        return 'wtr_auth'\n",
        "    elif row['scheme_management']=='WUA':\n",
        "        return 'wua'\n",
        "    elif row['scheme_management']=='Water Board':\n",
        "        return 'wtr_brd'\n",
        "    elif row['scheme_management']=='Parastatal':\n",
        "        return 'parastatal'\n",
        "    elif row['scheme_management']=='Private operator':\n",
        "        return 'pri_optr'\n",
        "    elif row['scheme_management']=='SWC':\n",
        "        return 'swc'\n",
        "    elif row['scheme_management']=='Company':\n",
        "        return 'company'\n",
        "    else:\n",
        "        return 'other'\n",
        "train_df['scheme_management'] = train_df.apply(lambda row: scheme_wrangler(row), axis=1)\n",
        "test_df['scheme_management'] = test_df.apply(lambda row: scheme_wrangler(row), axis=1)"
      ],
      "execution_count": null,
      "outputs": []
    },
    {
      "cell_type": "markdown",
      "metadata": {
        "id": "c45ScPlpu5yj"
      },
      "source": [
        "Extraction_type"
      ]
    },
    {
      "cell_type": "code",
      "metadata": {
        "id": "ET5Mb63bu6qO",
        "colab": {
          "base_uri": "https://localhost:8080/"
        },
        "outputId": "19e751b4-1485-4151-e7cd-2975851710ae"
      },
      "source": [
        "train_df.extraction_type.value_counts()"
      ],
      "execution_count": null,
      "outputs": [
        {
          "output_type": "execute_result",
          "data": {
            "text/plain": [
              "gravity                      20127\n",
              "nira/tanira                   6130\n",
              "other                         4768\n",
              "submersible                   3560\n",
              "swn 80                        2771\n",
              "mono                          2164\n",
              "india mark ii                 1768\n",
              "afridev                       1339\n",
              "ksb                           1043\n",
              "other - rope pump              335\n",
              "other - swn 81                 177\n",
              "windmill                        89\n",
              "india mark iii                  77\n",
              "cemo                            70\n",
              "other - play pump               65\n",
              "walimi                          39\n",
              "climax                          26\n",
              "other - mkulima/shinyanga        2\n",
              "Name: extraction_type, dtype: int64"
            ]
          },
          "metadata": {
            "tags": []
          },
          "execution_count": 505
        }
      ]
    },
    {
      "cell_type": "code",
      "metadata": {
        "id": "eoccg-Odu9Y_"
      },
      "source": [
        "def extraction_wrangler(row):\n",
        "    if row['extraction_type']=='gravity':\n",
        "        return 'gravity'\n",
        "    elif row['extraction_type']=='nira/tanira':\n",
        "        return 'nira/tanira'\n",
        "    elif row['extraction_type']=='submersible':\n",
        "        return 'submersible'\n",
        "    elif row['extraction_type']=='swn 80':\n",
        "        return 'swn_80'\n",
        "    elif row['extraction_type']=='mono':\n",
        "        return 'mono'\n",
        "    elif row['extraction_type']=='india mark ii':\n",
        "        return 'india_mark_ii'\n",
        "    elif row['extraction_type']=='afridev':\n",
        "        return 'afridev'\n",
        "    elif row['extraction_type']=='ksb':\n",
        "        return 'ksb'\n",
        "    elif row['extraction_type']=='windmill':\n",
        "        return 'windmill'\n",
        "    else:\n",
        "        return 'other'\n",
        "train_df['extraction_type'] = train_df.apply(lambda row: extraction_wrangler(row), axis=1)\n",
        "test_df['extraction_type'] = test_df.apply(lambda row: extraction_wrangler(row), axis=1)"
      ],
      "execution_count": null,
      "outputs": []
    },
    {
      "cell_type": "markdown",
      "metadata": {
        "id": "ldOdsMBqvFtr"
      },
      "source": [
        "Funder"
      ]
    },
    {
      "cell_type": "code",
      "metadata": {
        "id": "HR0hfkfxvIL6",
        "colab": {
          "base_uri": "https://localhost:8080/"
        },
        "outputId": "5d7f8f3b-9cf6-44a3-bf1d-50809aa8bd46"
      },
      "source": [
        "train_df.funder.value_counts()"
      ],
      "execution_count": null,
      "outputs": [
        {
          "output_type": "execute_result",
          "data": {
            "text/plain": [
              "Government Of Tanzania    6780\n",
              "unknown                   2793\n",
              "Danida                    2362\n",
              "Hesawa                    1639\n",
              "Rwssp                     1032\n",
              "                          ... \n",
              "Kc                           1\n",
              "Norad/japan                  1\n",
              "Meko Balo                    1\n",
              "Artisan                      1\n",
              "College                      1\n",
              "Name: funder, Length: 1652, dtype: int64"
            ]
          },
          "metadata": {
            "tags": []
          },
          "execution_count": 507
        }
      ]
    },
    {
      "cell_type": "code",
      "metadata": {
        "id": "vEXLynf5vOK7"
      },
      "source": [
        "def funder_wrangler(row):  \n",
        "    '''Keep top 8 values and set the rest to 'other'''\n",
        "\n",
        "    if row['funder']=='Government Of Tanzania':\n",
        "        return 'gov'\n",
        "    elif row['funder']=='Danida':\n",
        "        return 'danida'\n",
        "    elif row['funder']=='Hesawa':\n",
        "        return 'hesawa'\n",
        "    elif row['funder']=='Rwssp':\n",
        "        return 'rwssp'\n",
        "    elif row['funder']=='World Bank':\n",
        "        return 'world_bank'   \n",
        "    elif row['funder']=='Kkkt':\n",
        "        return 'kkkt'   \n",
        "    elif row['funder']=='World Vision':\n",
        "        return 'world_vision'  \n",
        "    elif row['funder']=='Unicef':\n",
        "        return 'unicef'\n",
        "    else:\n",
        "        return 'other'\n",
        "train_df['funder'] = train_df.apply(lambda row: funder_wrangler(row), axis=1)\n",
        "test_df['funder'] = test_df.apply(lambda row: funder_wrangler(row), axis=1)"
      ],
      "execution_count": null,
      "outputs": []
    },
    {
      "cell_type": "markdown",
      "metadata": {
        "id": "XrovQOlrwDqa"
      },
      "source": [
        "Feature Engineering\n"
      ]
    },
    {
      "cell_type": "markdown",
      "metadata": {
        "id": "p83NrbflwNB7"
      },
      "source": [
        "Amount_tsh:-  \n",
        "Based on the plot amount_tsh vs status_group ,if amount_tsh > 200000 are most likely to be functional\n"
      ]
    },
    {
      "cell_type": "code",
      "metadata": {
        "id": "p6PZ_RE4wN-S"
      },
      "source": [
        "train_df.loc[train_df['amount_tsh'] < 200000, 'amount_tsh'] = 0\n",
        "train_df.loc[train_df['amount_tsh'] >= 200000, 'amount_tsh'] = 1\n",
        "\n",
        "test_df.loc[train_df['amount_tsh'] < 200000, 'amount_tsh'] = 0\n",
        "test_df.loc[train_df['amount_tsh'] >= 200000, 'amount_tsh'] = 1\n"
      ],
      "execution_count": null,
      "outputs": []
    },
    {
      "cell_type": "markdown",
      "metadata": {
        "id": "JcINODAxxyCX"
      },
      "source": [
        "Linear Discriminant Analysis (LDA):-\n",
        "\n",
        "latitude    \n",
        "longitude   \n",
        "gps_height"
      ]
    },
    {
      "cell_type": "code",
      "metadata": {
        "id": "RkTFx6hxyqsn"
      },
      "source": [
        "LDA_cols = [\"latitude\",\"longitude\",\"gps_height\"]\n",
        "\n",
        "from sklearn.preprocessing import StandardScaler\n",
        "sc = StandardScaler()\n",
        "\n",
        "train_df_sc = sc.fit_transform(train_df[LDA_cols])\n",
        "test_df_sc = sc.transform(test_df[LDA_cols])\n",
        "\n",
        "from sklearn.discriminant_analysis import LinearDiscriminantAnalysis as LDA\n",
        "lda = LDA(n_components=None)\n",
        "\n",
        "train_df_lda = lda.fit_transform(train_df_sc, train_df.label.values.ravel())\n",
        "test_df_lda = lda.transform(test_df_sc)\n",
        "\n",
        "train_df = pd.concat((pd.DataFrame(train_df_lda), train_df), axis=1)\n",
        "test_df = pd.concat((pd.DataFrame(test_df_lda), test_df), axis=1)\n",
        "\n",
        "for i in LDA_cols:\n",
        "    del train_df[i]\n",
        "    del test_df[i]"
      ],
      "execution_count": null,
      "outputs": []
    },
    {
      "cell_type": "code",
      "metadata": {
        "id": "ImElGbBbzCGU"
      },
      "source": [
        "train_df.rename(columns={0: \"LDA_0\",1:\"LDA_1\"},inplace=True)\n",
        "test_df.rename(columns={0: \"LDA_0\",1:\"LDA_1\"},inplace=True)"
      ],
      "execution_count": null,
      "outputs": []
    },
    {
      "cell_type": "markdown",
      "metadata": {
        "id": "s4VKw6vuzC6v"
      },
      "source": [
        "Construction year:-    \n",
        "We will turn construction_year into a categorical column with bins containing the following values: '60s', '70s', '80s', '90s, '00s', '10s', 'unknown'."
      ]
    },
    {
      "cell_type": "code",
      "metadata": {
        "id": "YW78mR6SzNS_"
      },
      "source": [
        "def construction_wrangler(row):\n",
        "    if row['construction_year'] >= 1960 and row['construction_year'] < 1970:\n",
        "        return '60s'\n",
        "    elif row['construction_year'] >= 1970 and row['construction_year'] < 1980:\n",
        "        return '70s'\n",
        "    elif row['construction_year'] >= 1980 and row['construction_year'] < 1990:\n",
        "        return '80s'\n",
        "    elif row['construction_year'] >= 1990 and row['construction_year'] < 2000:\n",
        "        return '90s'\n",
        "    elif row['construction_year'] >= 2000 and row['construction_year'] < 2010:\n",
        "        return '00s'\n",
        "    elif row['construction_year'] >= 2010:\n",
        "        return '10s'\n",
        "    else:\n",
        "        return 'unknown'\n",
        "train_df['construction_year'] = train_df.apply(lambda row: construction_wrangler(row), axis=1)\n",
        "test_df['construction_year'] = test_df.apply(lambda row: construction_wrangler(row), axis=1)\n"
      ],
      "execution_count": null,
      "outputs": []
    },
    {
      "cell_type": "markdown",
      "metadata": {
        "id": "KTsBTbpnzW0B"
      },
      "source": [
        " Date_recorded:-    \n",
        " We will calculate the number of days past since the date_recorded of a particular pump till the most recent date of the dataset. The idea being that more recently recorded pumps might be more likely to be functional than non-functional.\n",
        "\n"
      ]
    },
    {
      "cell_type": "code",
      "metadata": {
        "id": "tGSyeLoPzrie",
        "colab": {
          "base_uri": "https://localhost:8080/"
        },
        "outputId": "a9762ea0-9701-41d5-f467-ace875e3d9c2"
      },
      "source": [
        "train_df.date_recorded = pd.to_datetime(train_df.date_recorded)\n",
        "test_df.date_recorded = pd.to_datetime(test_df.date_recorded)\n",
        "\n",
        "train_df.date_recorded.describe()\n"
      ],
      "execution_count": null,
      "outputs": [
        {
          "output_type": "stream",
          "text": [
            "/usr/local/lib/python3.7/dist-packages/ipykernel_launcher.py:4: FutureWarning: Treating datetime data as categorical rather than numeric in `.describe` is deprecated and will be removed in a future version of pandas. Specify `datetime_is_numeric=True` to silence this warning and adopt the future behavior now.\n",
            "  after removing the cwd from sys.path.\n"
          ],
          "name": "stderr"
        },
        {
          "output_type": "execute_result",
          "data": {
            "text/plain": [
              "count                   44550\n",
              "unique                    346\n",
              "top       2011-03-15 00:00:00\n",
              "freq                      423\n",
              "first     2002-10-14 00:00:00\n",
              "last      2013-12-03 00:00:00\n",
              "Name: date_recorded, dtype: object"
            ]
          },
          "metadata": {
            "tags": []
          },
          "execution_count": 513
        }
      ]
    },
    {
      "cell_type": "markdown",
      "metadata": {
        "id": "jK5o3co9z02q"
      },
      "source": [
        "The most recent data is 2013-12-03. Subtract each date from this point to obtain a 'days_since_recorded' column."
      ]
    },
    {
      "cell_type": "code",
      "metadata": {
        "id": "DapFkppvzuud",
        "colab": {
          "base_uri": "https://localhost:8080/"
        },
        "outputId": "d551dcdb-ae7a-4b72-9db2-ebcbaae18e71"
      },
      "source": [
        "train_df['days_since_recorded'] = pd.datetime(2013, 12, 3) - pd.to_datetime(train_df.date_recorded)\n",
        "train_df['days_since_recorded'] = train_df['days_since_recorded'].astype('timedelta64[D]').astype(int)\n",
        "\n",
        "test_df['days_since_recorded'] = pd.datetime(2013, 12, 3) - pd.to_datetime(test_df.date_recorded)\n",
        "test_df['days_since_recorded'] = test_df['days_since_recorded'].astype('timedelta64[D]').astype(int)"
      ],
      "execution_count": null,
      "outputs": [
        {
          "output_type": "stream",
          "text": [
            "/usr/local/lib/python3.7/dist-packages/ipykernel_launcher.py:1: FutureWarning: The pandas.datetime class is deprecated and will be removed from pandas in a future version. Import from datetime module instead.\n",
            "  \"\"\"Entry point for launching an IPython kernel.\n",
            "/usr/local/lib/python3.7/dist-packages/ipykernel_launcher.py:4: FutureWarning: The pandas.datetime class is deprecated and will be removed from pandas in a future version. Import from datetime module instead.\n",
            "  after removing the cwd from sys.path.\n"
          ],
          "name": "stderr"
        }
      ]
    },
    {
      "cell_type": "code",
      "metadata": {
        "id": "tNhs6oL80AJ5",
        "colab": {
          "base_uri": "https://localhost:8080/"
        },
        "outputId": "6d59f2b3-cb15-47b0-911e-7c068838c170"
      },
      "source": [
        "train_df['days_since_recorded']"
      ],
      "execution_count": null,
      "outputs": [
        {
          "output_type": "execute_result",
          "data": {
            "text/plain": [
              "0         258\n",
              "1        1016\n",
              "2         333\n",
              "3         975\n",
              "4         270\n",
              "         ... \n",
              "44545     314\n",
              "44546     862\n",
              "44547     283\n",
              "44548     252\n",
              "44549     311\n",
              "Name: days_since_recorded, Length: 44550, dtype: int64"
            ]
          },
          "metadata": {
            "tags": []
          },
          "execution_count": 515
        }
      ]
    },
    {
      "cell_type": "code",
      "metadata": {
        "id": "wQkd7ipU0A8V"
      },
      "source": [
        "train_df = train_df.drop(\"date_recorded\",axis=1)\n",
        "test_df = test_df.drop(\"date_recorded\",axis=1)"
      ],
      "execution_count": null,
      "outputs": []
    },
    {
      "cell_type": "code",
      "metadata": {
        "id": "wuigzlNd1nKP",
        "colab": {
          "base_uri": "https://localhost:8080/",
          "height": 301
        },
        "outputId": "770be375-5929-4216-c2a4-902217af8a76"
      },
      "source": [
        "train_df.head()"
      ],
      "execution_count": null,
      "outputs": [
        {
          "output_type": "execute_result",
          "data": {
            "text/html": [
              "<div>\n",
              "<style scoped>\n",
              "    .dataframe tbody tr th:only-of-type {\n",
              "        vertical-align: middle;\n",
              "    }\n",
              "\n",
              "    .dataframe tbody tr th {\n",
              "        vertical-align: top;\n",
              "    }\n",
              "\n",
              "    .dataframe thead th {\n",
              "        text-align: right;\n",
              "    }\n",
              "</style>\n",
              "<table border=\"1\" class=\"dataframe\">\n",
              "  <thead>\n",
              "    <tr style=\"text-align: right;\">\n",
              "      <th></th>\n",
              "      <th>LDA_0</th>\n",
              "      <th>LDA_1</th>\n",
              "      <th>amount_tsh</th>\n",
              "      <th>funder</th>\n",
              "      <th>basin</th>\n",
              "      <th>region_code</th>\n",
              "      <th>population</th>\n",
              "      <th>scheme_management</th>\n",
              "      <th>construction_year</th>\n",
              "      <th>extraction_type</th>\n",
              "      <th>management</th>\n",
              "      <th>source</th>\n",
              "      <th>source_class</th>\n",
              "      <th>waterpoint_type</th>\n",
              "      <th>label</th>\n",
              "      <th>quality_group_code</th>\n",
              "      <th>quantity_group_code</th>\n",
              "      <th>payment_code</th>\n",
              "      <th>public_meeting_code</th>\n",
              "      <th>permit_code</th>\n",
              "      <th>days_since_recorded</th>\n",
              "    </tr>\n",
              "  </thead>\n",
              "  <tbody>\n",
              "    <tr>\n",
              "      <th>0</th>\n",
              "      <td>0.384948</td>\n",
              "      <td>0.854298</td>\n",
              "      <td>0.0</td>\n",
              "      <td>other</td>\n",
              "      <td>Pangani</td>\n",
              "      <td>3</td>\n",
              "      <td>90</td>\n",
              "      <td>wtr_brd</td>\n",
              "      <td>00s</td>\n",
              "      <td>gravity</td>\n",
              "      <td>water board</td>\n",
              "      <td>spring</td>\n",
              "      <td>groundwater</td>\n",
              "      <td>communal standpipe</td>\n",
              "      <td>2</td>\n",
              "      <td>3</td>\n",
              "      <td>3</td>\n",
              "      <td>3</td>\n",
              "      <td>2</td>\n",
              "      <td>2</td>\n",
              "      <td>258</td>\n",
              "    </tr>\n",
              "    <tr>\n",
              "      <th>1</th>\n",
              "      <td>0.676260</td>\n",
              "      <td>0.647431</td>\n",
              "      <td>0.0</td>\n",
              "      <td>other</td>\n",
              "      <td>Lake Nyasa</td>\n",
              "      <td>11</td>\n",
              "      <td>70</td>\n",
              "      <td>pri_optr</td>\n",
              "      <td>80s</td>\n",
              "      <td>gravity</td>\n",
              "      <td>private operator</td>\n",
              "      <td>spring</td>\n",
              "      <td>groundwater</td>\n",
              "      <td>communal standpipe</td>\n",
              "      <td>2</td>\n",
              "      <td>3</td>\n",
              "      <td>3</td>\n",
              "      <td>2</td>\n",
              "      <td>1</td>\n",
              "      <td>1</td>\n",
              "      <td>1016</td>\n",
              "    </tr>\n",
              "    <tr>\n",
              "      <th>2</th>\n",
              "      <td>0.873908</td>\n",
              "      <td>1.109918</td>\n",
              "      <td>0.0</td>\n",
              "      <td>gov</td>\n",
              "      <td>Pangani</td>\n",
              "      <td>2</td>\n",
              "      <td>150</td>\n",
              "      <td>vwc</td>\n",
              "      <td>00s</td>\n",
              "      <td>gravity</td>\n",
              "      <td>vwc</td>\n",
              "      <td>spring</td>\n",
              "      <td>groundwater</td>\n",
              "      <td>communal standpipe</td>\n",
              "      <td>0</td>\n",
              "      <td>3</td>\n",
              "      <td>2</td>\n",
              "      <td>2</td>\n",
              "      <td>2</td>\n",
              "      <td>2</td>\n",
              "      <td>333</td>\n",
              "    </tr>\n",
              "    <tr>\n",
              "      <th>3</th>\n",
              "      <td>-0.835115</td>\n",
              "      <td>-0.672458</td>\n",
              "      <td>0.0</td>\n",
              "      <td>other</td>\n",
              "      <td>Rufiji</td>\n",
              "      <td>12</td>\n",
              "      <td>0</td>\n",
              "      <td>vwc</td>\n",
              "      <td>unknown</td>\n",
              "      <td>gravity</td>\n",
              "      <td>wug</td>\n",
              "      <td>river</td>\n",
              "      <td>surface</td>\n",
              "      <td>communal standpipe</td>\n",
              "      <td>2</td>\n",
              "      <td>3</td>\n",
              "      <td>2</td>\n",
              "      <td>4</td>\n",
              "      <td>2</td>\n",
              "      <td>2</td>\n",
              "      <td>975</td>\n",
              "    </tr>\n",
              "    <tr>\n",
              "      <th>4</th>\n",
              "      <td>0.420906</td>\n",
              "      <td>0.966124</td>\n",
              "      <td>0.0</td>\n",
              "      <td>other</td>\n",
              "      <td>Pangani</td>\n",
              "      <td>3</td>\n",
              "      <td>34</td>\n",
              "      <td>vwc</td>\n",
              "      <td>00s</td>\n",
              "      <td>gravity</td>\n",
              "      <td>vwc</td>\n",
              "      <td>spring</td>\n",
              "      <td>groundwater</td>\n",
              "      <td>communal standpipe</td>\n",
              "      <td>2</td>\n",
              "      <td>3</td>\n",
              "      <td>2</td>\n",
              "      <td>4</td>\n",
              "      <td>2</td>\n",
              "      <td>1</td>\n",
              "      <td>270</td>\n",
              "    </tr>\n",
              "  </tbody>\n",
              "</table>\n",
              "</div>"
            ],
            "text/plain": [
              "      LDA_0     LDA_1  ...  permit_code days_since_recorded\n",
              "0  0.384948  0.854298  ...            2                 258\n",
              "1  0.676260  0.647431  ...            1                1016\n",
              "2  0.873908  1.109918  ...            2                 333\n",
              "3 -0.835115 -0.672458  ...            2                 975\n",
              "4  0.420906  0.966124  ...            1                 270\n",
              "\n",
              "[5 rows x 21 columns]"
            ]
          },
          "metadata": {
            "tags": []
          },
          "execution_count": 517
        }
      ]
    },
    {
      "cell_type": "code",
      "metadata": {
        "id": "t1Dlqj3J134-",
        "colab": {
          "base_uri": "https://localhost:8080/"
        },
        "outputId": "dba8827f-0da0-4437-f5a5-b89cfdd1dbef"
      },
      "source": [
        "train_df.shape"
      ],
      "execution_count": null,
      "outputs": [
        {
          "output_type": "execute_result",
          "data": {
            "text/plain": [
              "(44550, 21)"
            ]
          },
          "metadata": {
            "tags": []
          },
          "execution_count": 518
        }
      ]
    },
    {
      "cell_type": "code",
      "metadata": {
        "id": "kxk5T_WU17QM",
        "colab": {
          "base_uri": "https://localhost:8080/",
          "height": 317
        },
        "outputId": "235bca30-14fb-4514-d943-3a017852e846"
      },
      "source": [
        "test_df.head()"
      ],
      "execution_count": null,
      "outputs": [
        {
          "output_type": "execute_result",
          "data": {
            "text/html": [
              "<div>\n",
              "<style scoped>\n",
              "    .dataframe tbody tr th:only-of-type {\n",
              "        vertical-align: middle;\n",
              "    }\n",
              "\n",
              "    .dataframe tbody tr th {\n",
              "        vertical-align: top;\n",
              "    }\n",
              "\n",
              "    .dataframe thead th {\n",
              "        text-align: right;\n",
              "    }\n",
              "</style>\n",
              "<table border=\"1\" class=\"dataframe\">\n",
              "  <thead>\n",
              "    <tr style=\"text-align: right;\">\n",
              "      <th></th>\n",
              "      <th>LDA_0</th>\n",
              "      <th>LDA_1</th>\n",
              "      <th>Unnamed: 0</th>\n",
              "      <th>amount_tsh</th>\n",
              "      <th>funder</th>\n",
              "      <th>basin</th>\n",
              "      <th>region_code</th>\n",
              "      <th>population</th>\n",
              "      <th>scheme_management</th>\n",
              "      <th>construction_year</th>\n",
              "      <th>extraction_type</th>\n",
              "      <th>management</th>\n",
              "      <th>source</th>\n",
              "      <th>source_class</th>\n",
              "      <th>waterpoint_type</th>\n",
              "      <th>quality_group_code</th>\n",
              "      <th>quantity_group_code</th>\n",
              "      <th>payment_code</th>\n",
              "      <th>public_meeting_code</th>\n",
              "      <th>permit_code</th>\n",
              "      <th>days_since_recorded</th>\n",
              "    </tr>\n",
              "  </thead>\n",
              "  <tbody>\n",
              "    <tr>\n",
              "      <th>0</th>\n",
              "      <td>0.984555</td>\n",
              "      <td>0.975911</td>\n",
              "      <td>0</td>\n",
              "      <td>0.0</td>\n",
              "      <td>other</td>\n",
              "      <td>Rufiji</td>\n",
              "      <td>11</td>\n",
              "      <td>769</td>\n",
              "      <td>vwc</td>\n",
              "      <td>00s</td>\n",
              "      <td>gravity</td>\n",
              "      <td>vwc</td>\n",
              "      <td>spring</td>\n",
              "      <td>groundwater</td>\n",
              "      <td>communal standpipe</td>\n",
              "      <td>3</td>\n",
              "      <td>2</td>\n",
              "      <td>2</td>\n",
              "      <td>2</td>\n",
              "      <td>2</td>\n",
              "      <td>1012</td>\n",
              "    </tr>\n",
              "    <tr>\n",
              "      <th>1</th>\n",
              "      <td>-0.977980</td>\n",
              "      <td>-0.337494</td>\n",
              "      <td>1</td>\n",
              "      <td>0.0</td>\n",
              "      <td>other</td>\n",
              "      <td>Wami / Ruvu</td>\n",
              "      <td>1</td>\n",
              "      <td>0</td>\n",
              "      <td>vwc</td>\n",
              "      <td>unknown</td>\n",
              "      <td>mono</td>\n",
              "      <td>vwc</td>\n",
              "      <td>machine dbh</td>\n",
              "      <td>groundwater</td>\n",
              "      <td>communal standpipe</td>\n",
              "      <td>3</td>\n",
              "      <td>3</td>\n",
              "      <td>2</td>\n",
              "      <td>2</td>\n",
              "      <td>1</td>\n",
              "      <td>961</td>\n",
              "    </tr>\n",
              "    <tr>\n",
              "      <th>2</th>\n",
              "      <td>-1.066876</td>\n",
              "      <td>-0.343516</td>\n",
              "      <td>2</td>\n",
              "      <td>0.0</td>\n",
              "      <td>other</td>\n",
              "      <td>Rufiji</td>\n",
              "      <td>1</td>\n",
              "      <td>0</td>\n",
              "      <td>vwc</td>\n",
              "      <td>unknown</td>\n",
              "      <td>nira/tanira</td>\n",
              "      <td>vwc</td>\n",
              "      <td>shallow well</td>\n",
              "      <td>groundwater</td>\n",
              "      <td>hand pump</td>\n",
              "      <td>3</td>\n",
              "      <td>3</td>\n",
              "      <td>2</td>\n",
              "      <td>2</td>\n",
              "      <td>2</td>\n",
              "      <td>982</td>\n",
              "    </tr>\n",
              "    <tr>\n",
              "      <th>3</th>\n",
              "      <td>-0.394932</td>\n",
              "      <td>-0.820374</td>\n",
              "      <td>3</td>\n",
              "      <td>0.0</td>\n",
              "      <td>other</td>\n",
              "      <td>Lake Victoria</td>\n",
              "      <td>18</td>\n",
              "      <td>0</td>\n",
              "      <td>vwc</td>\n",
              "      <td>unknown</td>\n",
              "      <td>other</td>\n",
              "      <td>vwc</td>\n",
              "      <td>shallow well</td>\n",
              "      <td>groundwater</td>\n",
              "      <td>hand pump</td>\n",
              "      <td>3</td>\n",
              "      <td>3</td>\n",
              "      <td>2</td>\n",
              "      <td>2</td>\n",
              "      <td>2</td>\n",
              "      <td>873</td>\n",
              "    </tr>\n",
              "    <tr>\n",
              "      <th>4</th>\n",
              "      <td>-0.400643</td>\n",
              "      <td>-0.768655</td>\n",
              "      <td>4</td>\n",
              "      <td>0.0</td>\n",
              "      <td>world_vision</td>\n",
              "      <td>Lake Victoria</td>\n",
              "      <td>18</td>\n",
              "      <td>0</td>\n",
              "      <td>vwc</td>\n",
              "      <td>unknown</td>\n",
              "      <td>gravity</td>\n",
              "      <td>vwc</td>\n",
              "      <td>rainwater harvesting</td>\n",
              "      <td>surface</td>\n",
              "      <td>communal standpipe</td>\n",
              "      <td>3</td>\n",
              "      <td>2</td>\n",
              "      <td>2</td>\n",
              "      <td>2</td>\n",
              "      <td>2</td>\n",
              "      <td>856</td>\n",
              "    </tr>\n",
              "  </tbody>\n",
              "</table>\n",
              "</div>"
            ],
            "text/plain": [
              "      LDA_0     LDA_1  ...  permit_code  days_since_recorded\n",
              "0  0.984555  0.975911  ...            2                 1012\n",
              "1 -0.977980 -0.337494  ...            1                  961\n",
              "2 -1.066876 -0.343516  ...            2                  982\n",
              "3 -0.394932 -0.820374  ...            2                  873\n",
              "4 -0.400643 -0.768655  ...            2                  856\n",
              "\n",
              "[5 rows x 21 columns]"
            ]
          },
          "metadata": {
            "tags": []
          },
          "execution_count": 519
        }
      ]
    },
    {
      "cell_type": "code",
      "metadata": {
        "id": "ol46YcXY6djJ",
        "colab": {
          "base_uri": "https://localhost:8080/"
        },
        "outputId": "20537b4d-5ae0-46b7-e7d3-3b012f75ee6d"
      },
      "source": [
        "test_df.columns"
      ],
      "execution_count": null,
      "outputs": [
        {
          "output_type": "execute_result",
          "data": {
            "text/plain": [
              "Index(['LDA_0', 'LDA_1', 'Unnamed: 0', 'amount_tsh', 'funder', 'basin',\n",
              "       'region_code', 'population', 'scheme_management', 'construction_year',\n",
              "       'extraction_type', 'management', 'source', 'source_class',\n",
              "       'waterpoint_type', 'quality_group_code', 'quantity_group_code',\n",
              "       'payment_code', 'public_meeting_code', 'permit_code',\n",
              "       'days_since_recorded'],\n",
              "      dtype='object')"
            ]
          },
          "metadata": {
            "tags": []
          },
          "execution_count": 520
        }
      ]
    },
    {
      "cell_type": "code",
      "metadata": {
        "id": "zIOFEfXv68TS"
      },
      "source": [
        "test_df = test_df.drop('Unnamed: 0', axis = 1)"
      ],
      "execution_count": null,
      "outputs": []
    },
    {
      "cell_type": "code",
      "metadata": {
        "id": "DltXify31-Ew",
        "colab": {
          "base_uri": "https://localhost:8080/"
        },
        "outputId": "04509d61-54ce-4ebc-a421-6e3c564e27ee"
      },
      "source": [
        "test_df.shape"
      ],
      "execution_count": null,
      "outputs": [
        {
          "output_type": "execute_result",
          "data": {
            "text/plain": [
              "(14850, 20)"
            ]
          },
          "metadata": {
            "tags": []
          },
          "execution_count": 522
        }
      ]
    },
    {
      "cell_type": "markdown",
      "metadata": {
        "id": "EpVcOQAq4BrG"
      },
      "source": [
        "One-hot encoding of categorical features"
      ]
    },
    {
      "cell_type": "code",
      "metadata": {
        "id": "-AbMw7FK4Ct_",
        "colab": {
          "base_uri": "https://localhost:8080/"
        },
        "outputId": "0645e8fd-63ea-4741-ba40-474162c632dc"
      },
      "source": [
        "cat_vars = train_df.select_dtypes(include='object').columns\n",
        "print(cat_vars)\n",
        "len(cat_vars)"
      ],
      "execution_count": null,
      "outputs": [
        {
          "output_type": "stream",
          "text": [
            "Index(['funder', 'basin', 'scheme_management', 'construction_year',\n",
            "       'extraction_type', 'management', 'source', 'source_class',\n",
            "       'waterpoint_type'],\n",
            "      dtype='object')\n"
          ],
          "name": "stdout"
        },
        {
          "output_type": "execute_result",
          "data": {
            "text/plain": [
              "9"
            ]
          },
          "metadata": {
            "tags": []
          },
          "execution_count": 523
        }
      ]
    },
    {
      "cell_type": "code",
      "metadata": {
        "id": "8Ok0gL2e4Kjg"
      },
      "source": [
        "from sklearn.preprocessing import OneHotEncoder\n",
        "\n",
        "# Apply one-hot encoder to each column with categorical data\n",
        "OH_encoder = OneHotEncoder(handle_unknown='ignore', sparse=False)\n",
        "OH_cols_train = pd.DataFrame(OH_encoder.fit_transform(train_df[cat_vars])).astype(np.int64)\n",
        "OH_cols_test = pd.DataFrame(OH_encoder.transform(test_df[cat_vars])).astype(np.int64)\n",
        "\n",
        "# One-hot encoding removed index; put it back\n",
        "OH_cols_train.index = train_df.index\n",
        "OH_cols_test.index = test_df.index\n",
        "\n",
        "OH_cols_train.columns = OH_encoder.get_feature_names(cat_vars)\n",
        "OH_cols_test.columns = OH_encoder.get_feature_names(cat_vars)\n",
        "\n",
        "# Remove categorical columns (will replace with one-hot encoding)\n",
        "num_X_train = train_df.drop(cat_vars, axis=1)\n",
        "num_X_valid = test_df.drop(cat_vars, axis=1)\n",
        "\n",
        "# Add one-hot encoded columns to numerical features\n",
        "OH_train_df = pd.concat([num_X_train, OH_cols_train], axis=1)\n",
        "OH_test_df = pd.concat([num_X_valid, OH_cols_test], axis=1)"
      ],
      "execution_count": null,
      "outputs": []
    },
    {
      "cell_type": "code",
      "metadata": {
        "id": "RXY0FFZi4YNa",
        "colab": {
          "base_uri": "https://localhost:8080/",
          "height": 280
        },
        "outputId": "9894e1a5-9d8f-4ca5-f0dc-4df8527d9511"
      },
      "source": [
        "OH_train_df.head()"
      ],
      "execution_count": null,
      "outputs": [
        {
          "output_type": "execute_result",
          "data": {
            "text/html": [
              "<div>\n",
              "<style scoped>\n",
              "    .dataframe tbody tr th:only-of-type {\n",
              "        vertical-align: middle;\n",
              "    }\n",
              "\n",
              "    .dataframe tbody tr th {\n",
              "        vertical-align: top;\n",
              "    }\n",
              "\n",
              "    .dataframe thead th {\n",
              "        text-align: right;\n",
              "    }\n",
              "</style>\n",
              "<table border=\"1\" class=\"dataframe\">\n",
              "  <thead>\n",
              "    <tr style=\"text-align: right;\">\n",
              "      <th></th>\n",
              "      <th>LDA_0</th>\n",
              "      <th>LDA_1</th>\n",
              "      <th>amount_tsh</th>\n",
              "      <th>region_code</th>\n",
              "      <th>population</th>\n",
              "      <th>label</th>\n",
              "      <th>quality_group_code</th>\n",
              "      <th>quantity_group_code</th>\n",
              "      <th>payment_code</th>\n",
              "      <th>public_meeting_code</th>\n",
              "      <th>permit_code</th>\n",
              "      <th>days_since_recorded</th>\n",
              "      <th>funder_danida</th>\n",
              "      <th>funder_gov</th>\n",
              "      <th>funder_hesawa</th>\n",
              "      <th>funder_kkkt</th>\n",
              "      <th>funder_other</th>\n",
              "      <th>funder_rwssp</th>\n",
              "      <th>funder_unicef</th>\n",
              "      <th>funder_world_bank</th>\n",
              "      <th>funder_world_vision</th>\n",
              "      <th>basin_Internal</th>\n",
              "      <th>basin_Lake Nyasa</th>\n",
              "      <th>basin_Lake Rukwa</th>\n",
              "      <th>basin_Lake Tanganyika</th>\n",
              "      <th>basin_Lake Victoria</th>\n",
              "      <th>basin_Pangani</th>\n",
              "      <th>basin_Rufiji</th>\n",
              "      <th>basin_Ruvuma / Southern Coast</th>\n",
              "      <th>basin_Wami / Ruvu</th>\n",
              "      <th>scheme_management_company</th>\n",
              "      <th>scheme_management_other</th>\n",
              "      <th>scheme_management_parastatal</th>\n",
              "      <th>scheme_management_pri_optr</th>\n",
              "      <th>scheme_management_swc</th>\n",
              "      <th>scheme_management_vwc</th>\n",
              "      <th>scheme_management_wtr_auth</th>\n",
              "      <th>scheme_management_wtr_brd</th>\n",
              "      <th>scheme_management_wua</th>\n",
              "      <th>scheme_management_wug</th>\n",
              "      <th>...</th>\n",
              "      <th>extraction_type_india_mark_ii</th>\n",
              "      <th>extraction_type_ksb</th>\n",
              "      <th>extraction_type_mono</th>\n",
              "      <th>extraction_type_nira/tanira</th>\n",
              "      <th>extraction_type_other</th>\n",
              "      <th>extraction_type_submersible</th>\n",
              "      <th>extraction_type_swn_80</th>\n",
              "      <th>extraction_type_windmill</th>\n",
              "      <th>management_company</th>\n",
              "      <th>management_other</th>\n",
              "      <th>management_other - school</th>\n",
              "      <th>management_parastatal</th>\n",
              "      <th>management_private operator</th>\n",
              "      <th>management_trust</th>\n",
              "      <th>management_unknown</th>\n",
              "      <th>management_vwc</th>\n",
              "      <th>management_water authority</th>\n",
              "      <th>management_water board</th>\n",
              "      <th>management_wua</th>\n",
              "      <th>management_wug</th>\n",
              "      <th>source_dam</th>\n",
              "      <th>source_hand dtw</th>\n",
              "      <th>source_lake</th>\n",
              "      <th>source_machine dbh</th>\n",
              "      <th>source_other</th>\n",
              "      <th>source_rainwater harvesting</th>\n",
              "      <th>source_river</th>\n",
              "      <th>source_shallow well</th>\n",
              "      <th>source_spring</th>\n",
              "      <th>source_unknown</th>\n",
              "      <th>source_class_groundwater</th>\n",
              "      <th>source_class_surface</th>\n",
              "      <th>source_class_unknown</th>\n",
              "      <th>waterpoint_type_cattle trough</th>\n",
              "      <th>waterpoint_type_communal standpipe</th>\n",
              "      <th>waterpoint_type_communal standpipe multiple</th>\n",
              "      <th>waterpoint_type_dam</th>\n",
              "      <th>waterpoint_type_hand pump</th>\n",
              "      <th>waterpoint_type_improved spring</th>\n",
              "      <th>waterpoint_type_other</th>\n",
              "    </tr>\n",
              "  </thead>\n",
              "  <tbody>\n",
              "    <tr>\n",
              "      <th>0</th>\n",
              "      <td>0.384948</td>\n",
              "      <td>0.854298</td>\n",
              "      <td>0.0</td>\n",
              "      <td>3</td>\n",
              "      <td>90</td>\n",
              "      <td>2</td>\n",
              "      <td>3</td>\n",
              "      <td>3</td>\n",
              "      <td>3</td>\n",
              "      <td>2</td>\n",
              "      <td>2</td>\n",
              "      <td>258</td>\n",
              "      <td>0</td>\n",
              "      <td>0</td>\n",
              "      <td>0</td>\n",
              "      <td>0</td>\n",
              "      <td>1</td>\n",
              "      <td>0</td>\n",
              "      <td>0</td>\n",
              "      <td>0</td>\n",
              "      <td>0</td>\n",
              "      <td>0</td>\n",
              "      <td>0</td>\n",
              "      <td>0</td>\n",
              "      <td>0</td>\n",
              "      <td>0</td>\n",
              "      <td>1</td>\n",
              "      <td>0</td>\n",
              "      <td>0</td>\n",
              "      <td>0</td>\n",
              "      <td>0</td>\n",
              "      <td>0</td>\n",
              "      <td>0</td>\n",
              "      <td>0</td>\n",
              "      <td>0</td>\n",
              "      <td>0</td>\n",
              "      <td>0</td>\n",
              "      <td>1</td>\n",
              "      <td>0</td>\n",
              "      <td>0</td>\n",
              "      <td>...</td>\n",
              "      <td>0</td>\n",
              "      <td>0</td>\n",
              "      <td>0</td>\n",
              "      <td>0</td>\n",
              "      <td>0</td>\n",
              "      <td>0</td>\n",
              "      <td>0</td>\n",
              "      <td>0</td>\n",
              "      <td>0</td>\n",
              "      <td>0</td>\n",
              "      <td>0</td>\n",
              "      <td>0</td>\n",
              "      <td>0</td>\n",
              "      <td>0</td>\n",
              "      <td>0</td>\n",
              "      <td>0</td>\n",
              "      <td>0</td>\n",
              "      <td>1</td>\n",
              "      <td>0</td>\n",
              "      <td>0</td>\n",
              "      <td>0</td>\n",
              "      <td>0</td>\n",
              "      <td>0</td>\n",
              "      <td>0</td>\n",
              "      <td>0</td>\n",
              "      <td>0</td>\n",
              "      <td>0</td>\n",
              "      <td>0</td>\n",
              "      <td>1</td>\n",
              "      <td>0</td>\n",
              "      <td>1</td>\n",
              "      <td>0</td>\n",
              "      <td>0</td>\n",
              "      <td>0</td>\n",
              "      <td>1</td>\n",
              "      <td>0</td>\n",
              "      <td>0</td>\n",
              "      <td>0</td>\n",
              "      <td>0</td>\n",
              "      <td>0</td>\n",
              "    </tr>\n",
              "    <tr>\n",
              "      <th>1</th>\n",
              "      <td>0.676260</td>\n",
              "      <td>0.647431</td>\n",
              "      <td>0.0</td>\n",
              "      <td>11</td>\n",
              "      <td>70</td>\n",
              "      <td>2</td>\n",
              "      <td>3</td>\n",
              "      <td>3</td>\n",
              "      <td>2</td>\n",
              "      <td>1</td>\n",
              "      <td>1</td>\n",
              "      <td>1016</td>\n",
              "      <td>0</td>\n",
              "      <td>0</td>\n",
              "      <td>0</td>\n",
              "      <td>0</td>\n",
              "      <td>1</td>\n",
              "      <td>0</td>\n",
              "      <td>0</td>\n",
              "      <td>0</td>\n",
              "      <td>0</td>\n",
              "      <td>0</td>\n",
              "      <td>1</td>\n",
              "      <td>0</td>\n",
              "      <td>0</td>\n",
              "      <td>0</td>\n",
              "      <td>0</td>\n",
              "      <td>0</td>\n",
              "      <td>0</td>\n",
              "      <td>0</td>\n",
              "      <td>0</td>\n",
              "      <td>0</td>\n",
              "      <td>0</td>\n",
              "      <td>1</td>\n",
              "      <td>0</td>\n",
              "      <td>0</td>\n",
              "      <td>0</td>\n",
              "      <td>0</td>\n",
              "      <td>0</td>\n",
              "      <td>0</td>\n",
              "      <td>...</td>\n",
              "      <td>0</td>\n",
              "      <td>0</td>\n",
              "      <td>0</td>\n",
              "      <td>0</td>\n",
              "      <td>0</td>\n",
              "      <td>0</td>\n",
              "      <td>0</td>\n",
              "      <td>0</td>\n",
              "      <td>0</td>\n",
              "      <td>0</td>\n",
              "      <td>0</td>\n",
              "      <td>0</td>\n",
              "      <td>1</td>\n",
              "      <td>0</td>\n",
              "      <td>0</td>\n",
              "      <td>0</td>\n",
              "      <td>0</td>\n",
              "      <td>0</td>\n",
              "      <td>0</td>\n",
              "      <td>0</td>\n",
              "      <td>0</td>\n",
              "      <td>0</td>\n",
              "      <td>0</td>\n",
              "      <td>0</td>\n",
              "      <td>0</td>\n",
              "      <td>0</td>\n",
              "      <td>0</td>\n",
              "      <td>0</td>\n",
              "      <td>1</td>\n",
              "      <td>0</td>\n",
              "      <td>1</td>\n",
              "      <td>0</td>\n",
              "      <td>0</td>\n",
              "      <td>0</td>\n",
              "      <td>1</td>\n",
              "      <td>0</td>\n",
              "      <td>0</td>\n",
              "      <td>0</td>\n",
              "      <td>0</td>\n",
              "      <td>0</td>\n",
              "    </tr>\n",
              "    <tr>\n",
              "      <th>2</th>\n",
              "      <td>0.873908</td>\n",
              "      <td>1.109918</td>\n",
              "      <td>0.0</td>\n",
              "      <td>2</td>\n",
              "      <td>150</td>\n",
              "      <td>0</td>\n",
              "      <td>3</td>\n",
              "      <td>2</td>\n",
              "      <td>2</td>\n",
              "      <td>2</td>\n",
              "      <td>2</td>\n",
              "      <td>333</td>\n",
              "      <td>0</td>\n",
              "      <td>1</td>\n",
              "      <td>0</td>\n",
              "      <td>0</td>\n",
              "      <td>0</td>\n",
              "      <td>0</td>\n",
              "      <td>0</td>\n",
              "      <td>0</td>\n",
              "      <td>0</td>\n",
              "      <td>0</td>\n",
              "      <td>0</td>\n",
              "      <td>0</td>\n",
              "      <td>0</td>\n",
              "      <td>0</td>\n",
              "      <td>1</td>\n",
              "      <td>0</td>\n",
              "      <td>0</td>\n",
              "      <td>0</td>\n",
              "      <td>0</td>\n",
              "      <td>0</td>\n",
              "      <td>0</td>\n",
              "      <td>0</td>\n",
              "      <td>0</td>\n",
              "      <td>1</td>\n",
              "      <td>0</td>\n",
              "      <td>0</td>\n",
              "      <td>0</td>\n",
              "      <td>0</td>\n",
              "      <td>...</td>\n",
              "      <td>0</td>\n",
              "      <td>0</td>\n",
              "      <td>0</td>\n",
              "      <td>0</td>\n",
              "      <td>0</td>\n",
              "      <td>0</td>\n",
              "      <td>0</td>\n",
              "      <td>0</td>\n",
              "      <td>0</td>\n",
              "      <td>0</td>\n",
              "      <td>0</td>\n",
              "      <td>0</td>\n",
              "      <td>0</td>\n",
              "      <td>0</td>\n",
              "      <td>0</td>\n",
              "      <td>1</td>\n",
              "      <td>0</td>\n",
              "      <td>0</td>\n",
              "      <td>0</td>\n",
              "      <td>0</td>\n",
              "      <td>0</td>\n",
              "      <td>0</td>\n",
              "      <td>0</td>\n",
              "      <td>0</td>\n",
              "      <td>0</td>\n",
              "      <td>0</td>\n",
              "      <td>0</td>\n",
              "      <td>0</td>\n",
              "      <td>1</td>\n",
              "      <td>0</td>\n",
              "      <td>1</td>\n",
              "      <td>0</td>\n",
              "      <td>0</td>\n",
              "      <td>0</td>\n",
              "      <td>1</td>\n",
              "      <td>0</td>\n",
              "      <td>0</td>\n",
              "      <td>0</td>\n",
              "      <td>0</td>\n",
              "      <td>0</td>\n",
              "    </tr>\n",
              "    <tr>\n",
              "      <th>3</th>\n",
              "      <td>-0.835115</td>\n",
              "      <td>-0.672458</td>\n",
              "      <td>0.0</td>\n",
              "      <td>12</td>\n",
              "      <td>0</td>\n",
              "      <td>2</td>\n",
              "      <td>3</td>\n",
              "      <td>2</td>\n",
              "      <td>4</td>\n",
              "      <td>2</td>\n",
              "      <td>2</td>\n",
              "      <td>975</td>\n",
              "      <td>0</td>\n",
              "      <td>0</td>\n",
              "      <td>0</td>\n",
              "      <td>0</td>\n",
              "      <td>1</td>\n",
              "      <td>0</td>\n",
              "      <td>0</td>\n",
              "      <td>0</td>\n",
              "      <td>0</td>\n",
              "      <td>0</td>\n",
              "      <td>0</td>\n",
              "      <td>0</td>\n",
              "      <td>0</td>\n",
              "      <td>0</td>\n",
              "      <td>0</td>\n",
              "      <td>1</td>\n",
              "      <td>0</td>\n",
              "      <td>0</td>\n",
              "      <td>0</td>\n",
              "      <td>0</td>\n",
              "      <td>0</td>\n",
              "      <td>0</td>\n",
              "      <td>0</td>\n",
              "      <td>1</td>\n",
              "      <td>0</td>\n",
              "      <td>0</td>\n",
              "      <td>0</td>\n",
              "      <td>0</td>\n",
              "      <td>...</td>\n",
              "      <td>0</td>\n",
              "      <td>0</td>\n",
              "      <td>0</td>\n",
              "      <td>0</td>\n",
              "      <td>0</td>\n",
              "      <td>0</td>\n",
              "      <td>0</td>\n",
              "      <td>0</td>\n",
              "      <td>0</td>\n",
              "      <td>0</td>\n",
              "      <td>0</td>\n",
              "      <td>0</td>\n",
              "      <td>0</td>\n",
              "      <td>0</td>\n",
              "      <td>0</td>\n",
              "      <td>0</td>\n",
              "      <td>0</td>\n",
              "      <td>0</td>\n",
              "      <td>0</td>\n",
              "      <td>1</td>\n",
              "      <td>0</td>\n",
              "      <td>0</td>\n",
              "      <td>0</td>\n",
              "      <td>0</td>\n",
              "      <td>0</td>\n",
              "      <td>0</td>\n",
              "      <td>1</td>\n",
              "      <td>0</td>\n",
              "      <td>0</td>\n",
              "      <td>0</td>\n",
              "      <td>0</td>\n",
              "      <td>1</td>\n",
              "      <td>0</td>\n",
              "      <td>0</td>\n",
              "      <td>1</td>\n",
              "      <td>0</td>\n",
              "      <td>0</td>\n",
              "      <td>0</td>\n",
              "      <td>0</td>\n",
              "      <td>0</td>\n",
              "    </tr>\n",
              "    <tr>\n",
              "      <th>4</th>\n",
              "      <td>0.420906</td>\n",
              "      <td>0.966124</td>\n",
              "      <td>0.0</td>\n",
              "      <td>3</td>\n",
              "      <td>34</td>\n",
              "      <td>2</td>\n",
              "      <td>3</td>\n",
              "      <td>2</td>\n",
              "      <td>4</td>\n",
              "      <td>2</td>\n",
              "      <td>1</td>\n",
              "      <td>270</td>\n",
              "      <td>0</td>\n",
              "      <td>0</td>\n",
              "      <td>0</td>\n",
              "      <td>0</td>\n",
              "      <td>1</td>\n",
              "      <td>0</td>\n",
              "      <td>0</td>\n",
              "      <td>0</td>\n",
              "      <td>0</td>\n",
              "      <td>0</td>\n",
              "      <td>0</td>\n",
              "      <td>0</td>\n",
              "      <td>0</td>\n",
              "      <td>0</td>\n",
              "      <td>1</td>\n",
              "      <td>0</td>\n",
              "      <td>0</td>\n",
              "      <td>0</td>\n",
              "      <td>0</td>\n",
              "      <td>0</td>\n",
              "      <td>0</td>\n",
              "      <td>0</td>\n",
              "      <td>0</td>\n",
              "      <td>1</td>\n",
              "      <td>0</td>\n",
              "      <td>0</td>\n",
              "      <td>0</td>\n",
              "      <td>0</td>\n",
              "      <td>...</td>\n",
              "      <td>0</td>\n",
              "      <td>0</td>\n",
              "      <td>0</td>\n",
              "      <td>0</td>\n",
              "      <td>0</td>\n",
              "      <td>0</td>\n",
              "      <td>0</td>\n",
              "      <td>0</td>\n",
              "      <td>0</td>\n",
              "      <td>0</td>\n",
              "      <td>0</td>\n",
              "      <td>0</td>\n",
              "      <td>0</td>\n",
              "      <td>0</td>\n",
              "      <td>0</td>\n",
              "      <td>1</td>\n",
              "      <td>0</td>\n",
              "      <td>0</td>\n",
              "      <td>0</td>\n",
              "      <td>0</td>\n",
              "      <td>0</td>\n",
              "      <td>0</td>\n",
              "      <td>0</td>\n",
              "      <td>0</td>\n",
              "      <td>0</td>\n",
              "      <td>0</td>\n",
              "      <td>0</td>\n",
              "      <td>0</td>\n",
              "      <td>1</td>\n",
              "      <td>0</td>\n",
              "      <td>1</td>\n",
              "      <td>0</td>\n",
              "      <td>0</td>\n",
              "      <td>0</td>\n",
              "      <td>1</td>\n",
              "      <td>0</td>\n",
              "      <td>0</td>\n",
              "      <td>0</td>\n",
              "      <td>0</td>\n",
              "      <td>0</td>\n",
              "    </tr>\n",
              "  </tbody>\n",
              "</table>\n",
              "<p>5 rows × 89 columns</p>\n",
              "</div>"
            ],
            "text/plain": [
              "      LDA_0     LDA_1  ...  waterpoint_type_improved spring  waterpoint_type_other\n",
              "0  0.384948  0.854298  ...                                0                      0\n",
              "1  0.676260  0.647431  ...                                0                      0\n",
              "2  0.873908  1.109918  ...                                0                      0\n",
              "3 -0.835115 -0.672458  ...                                0                      0\n",
              "4  0.420906  0.966124  ...                                0                      0\n",
              "\n",
              "[5 rows x 89 columns]"
            ]
          },
          "metadata": {
            "tags": []
          },
          "execution_count": 525
        }
      ]
    },
    {
      "cell_type": "markdown",
      "metadata": {
        "id": "pLPXyWqxmtGp"
      },
      "source": [
        "3) Declaration of ML frameworks (e.g. SVM with Gaussian kernel) to be used with a prior\n",
        "hypothesis of which method is likely to work better (it does not matter if your initial\n",
        "hypothesis turns out to be wrong) due to insights from the previous steps. Declare some\n",
        "resources on the net that you read to find out which ML framework is better suited for\n",
        "which type of data."
      ]
    },
    {
      "cell_type": "markdown",
      "metadata": {
        "id": "HsJAmlqhnG10"
      },
      "source": [
        "L1-regularization with Logistic regression"
      ]
    },
    {
      "cell_type": "code",
      "metadata": {
        "colab": {
          "base_uri": "https://localhost:8080/"
        },
        "id": "zig9g2yXmv3k",
        "outputId": "c8b25112-49ec-4a88-c267-7da035621b68"
      },
      "source": [
        "from sklearn.linear_model import LogisticRegression\n",
        "from sklearn.feature_selection import SelectFromModel\n",
        "\n",
        "X, y = OH_train_df[OH_train_df.columns.drop(\"label\")], OH_train_df['label']\n",
        "\n",
        "# Set the regularization parameter C=1\n",
        "\n",
        "logistic = LogisticRegression(solver=\"saga\",C=1, penalty=\"l1\", random_state=7).fit(X, y)\n",
        "model = SelectFromModel(logistic, prefit=True)\n",
        "\n",
        "X_new = model.transform(X)\n",
        "X_new"
      ],
      "execution_count": null,
      "outputs": [
        {
          "output_type": "stream",
          "text": [
            "/usr/local/lib/python3.7/dist-packages/sklearn/linear_model/_sag.py:330: ConvergenceWarning: The max_iter was reached which means the coef_ did not converge\n",
            "  \"the coef_ did not converge\", ConvergenceWarning)\n"
          ],
          "name": "stderr"
        },
        {
          "output_type": "execute_result",
          "data": {
            "text/plain": [
              "array([[ 0.3849476 ,  0.85429819,  3.        , ...,  0.        ,\n",
              "         0.        ,  0.        ],\n",
              "       [ 0.67625965,  0.64743113, 11.        , ...,  0.        ,\n",
              "         0.        ,  0.        ],\n",
              "       [ 0.87390766,  1.10991784,  2.        , ...,  0.        ,\n",
              "         0.        ,  0.        ],\n",
              "       ...,\n",
              "       [ 0.08421526,  0.31386663, 10.        , ...,  0.        ,\n",
              "         0.        ,  0.        ],\n",
              "       [ 0.3569731 ,  0.97002338,  3.        , ...,  0.        ,\n",
              "         0.        ,  0.        ],\n",
              "       [-0.61683564, -0.68267108, 14.        , ...,  1.        ,\n",
              "         0.        ,  0.        ]])"
            ]
          },
          "metadata": {
            "tags": []
          },
          "execution_count": 526
        }
      ]
    },
    {
      "cell_type": "code",
      "metadata": {
        "id": "-GycrZmCndet"
      },
      "source": [
        "# Get back the kept features as a DataFrame with dropped columns as all 0s\n",
        "\n",
        "selected_features = pd.DataFrame(model.inverse_transform(X_new), \n",
        "                                 index=X.index,\n",
        "                                 columns=X.columns)\n",
        "\n",
        "# Dropped columns have values of all 0s, keep other columns \n",
        "selected_columns = selected_features.columns[selected_features.var() != 0]"
      ],
      "execution_count": null,
      "outputs": []
    },
    {
      "cell_type": "code",
      "metadata": {
        "colab": {
          "base_uri": "https://localhost:8080/"
        },
        "id": "eGgGsa_1nikq",
        "outputId": "0c9ca8ce-e92a-45e4-95c1-1caa7438657f"
      },
      "source": [
        "len(selected_columns)"
      ],
      "execution_count": null,
      "outputs": [
        {
          "output_type": "execute_result",
          "data": {
            "text/plain": [
              "79"
            ]
          },
          "metadata": {
            "tags": []
          },
          "execution_count": 528
        }
      ]
    },
    {
      "cell_type": "code",
      "metadata": {
        "colab": {
          "base_uri": "https://localhost:8080/"
        },
        "id": "pShGY1IKnp3-",
        "outputId": "a9990d75-dd55-4d0c-e38c-661921720523"
      },
      "source": [
        "selected_columns"
      ],
      "execution_count": null,
      "outputs": [
        {
          "output_type": "execute_result",
          "data": {
            "text/plain": [
              "Index(['LDA_0', 'LDA_1', 'region_code', 'population', 'quality_group_code',\n",
              "       'quantity_group_code', 'payment_code', 'public_meeting_code',\n",
              "       'permit_code', 'days_since_recorded', 'funder_danida', 'funder_gov',\n",
              "       'funder_hesawa', 'funder_other', 'funder_rwssp', 'funder_unicef',\n",
              "       'funder_world_bank', 'funder_world_vision', 'basin_Internal',\n",
              "       'basin_Lake Nyasa', 'basin_Lake Rukwa', 'basin_Lake Tanganyika',\n",
              "       'basin_Lake Victoria', 'basin_Pangani', 'basin_Rufiji',\n",
              "       'basin_Ruvuma / Southern Coast', 'basin_Wami / Ruvu',\n",
              "       'scheme_management_company', 'scheme_management_other',\n",
              "       'scheme_management_parastatal', 'scheme_management_pri_optr',\n",
              "       'scheme_management_swc', 'scheme_management_vwc',\n",
              "       'scheme_management_wtr_auth', 'scheme_management_wtr_brd',\n",
              "       'scheme_management_wua', 'scheme_management_wug',\n",
              "       'construction_year_00s', 'construction_year_10s',\n",
              "       'construction_year_60s', 'construction_year_70s',\n",
              "       'construction_year_80s', 'construction_year_90s',\n",
              "       'construction_year_unknown', 'extraction_type_afridev',\n",
              "       'extraction_type_gravity', 'extraction_type_india_mark_ii',\n",
              "       'extraction_type_ksb', 'extraction_type_mono',\n",
              "       'extraction_type_nira/tanira', 'extraction_type_other',\n",
              "       'extraction_type_submersible', 'extraction_type_swn_80',\n",
              "       'management_company', 'management_other', 'management_other - school',\n",
              "       'management_parastatal', 'management_private operator',\n",
              "       'management_unknown', 'management_vwc', 'management_water authority',\n",
              "       'management_water board', 'management_wua', 'management_wug',\n",
              "       'source_dam', 'source_hand dtw', 'source_lake', 'source_machine dbh',\n",
              "       'source_rainwater harvesting', 'source_river', 'source_shallow well',\n",
              "       'source_spring', 'source_class_groundwater', 'source_class_surface',\n",
              "       'waterpoint_type_communal standpipe',\n",
              "       'waterpoint_type_communal standpipe multiple',\n",
              "       'waterpoint_type_hand pump', 'waterpoint_type_improved spring',\n",
              "       'waterpoint_type_other'],\n",
              "      dtype='object')"
            ]
          },
          "metadata": {
            "tags": []
          },
          "execution_count": 529
        }
      ]
    },
    {
      "cell_type": "code",
      "metadata": {
        "id": "BSoQmgX6s4Il"
      },
      "source": [
        "train_df_selected_features = OH_train_df[selected_columns].join(y)"
      ],
      "execution_count": null,
      "outputs": []
    },
    {
      "cell_type": "code",
      "metadata": {
        "id": "N24RCnAUs9nS"
      },
      "source": [
        "test_df_selected_features = OH_test_df[selected_columns]"
      ],
      "execution_count": null,
      "outputs": []
    },
    {
      "cell_type": "code",
      "metadata": {
        "colab": {
          "base_uri": "https://localhost:8080/"
        },
        "id": "TW8AQaphsENw",
        "outputId": "63ce9a5c-db57-47bb-9802-0cb4acb23ed0"
      },
      "source": [
        "train_df_selected_features.shape"
      ],
      "execution_count": null,
      "outputs": [
        {
          "output_type": "execute_result",
          "data": {
            "text/plain": [
              "(44550, 80)"
            ]
          },
          "metadata": {
            "tags": []
          },
          "execution_count": 532
        }
      ]
    },
    {
      "cell_type": "code",
      "metadata": {
        "id": "ck2xVyJRoetZ"
      },
      "source": [
        "train_df_selected_features.to_csv(\"train_df_final.csv\", index=False)\n",
        "test_df_selected_features.to_csv(\"test_df_final.csv\", index=False)"
      ],
      "execution_count": null,
      "outputs": []
    },
    {
      "cell_type": "markdown",
      "metadata": {
        "id": "yTNzh2_HtbpV"
      },
      "source": [
        "4) Diligent hyperparameter tuning for at least three frameworks."
      ]
    },
    {
      "cell_type": "code",
      "metadata": {
        "id": "LFtQPm7FtbOb"
      },
      "source": [
        "#Importing required labraries for model selection\n",
        "\n",
        "from sklearn.model_selection import train_test_split\n",
        "from sklearn.preprocessing import StandardScaler as ss\n",
        "from sklearn.model_selection import GridSearchCV\n",
        "from sklearn.model_selection import RandomizedSearchCV\n",
        "\n",
        "#Trees    \n",
        "from sklearn.tree import DecisionTreeClassifier\n",
        "\n",
        "#Ensemble\n",
        "from sklearn.ensemble import RandomForestClassifier\n",
        "import xgboost\n",
        "from xgboost import XGBClassifier\n",
        "\n",
        "#SVM\n",
        "from sklearn.svm import SVC\n",
        "from sklearn.svm import LinearSVC\n",
        "from sklearn.svm import NuSVC\n",
        "\n",
        "# metrics\n",
        "from sklearn.metrics import accuracy_score, confusion_matrix\n",
        "\n",
        "# PCA\n",
        "from sklearn import decomposition\n"
      ],
      "execution_count": null,
      "outputs": []
    },
    {
      "cell_type": "code",
      "metadata": {
        "id": "u8dnHhaAvJP7"
      },
      "source": [
        "train_df_final = pd.read_csv(\"/content/train_df_final.csv\")\n",
        "X_test_final = pd.read_csv(\"/content/test_df_final.csv\")"
      ],
      "execution_count": null,
      "outputs": []
    },
    {
      "cell_type": "code",
      "metadata": {
        "colab": {
          "base_uri": "https://localhost:8080/"
        },
        "id": "m5r77U1bvXMK",
        "outputId": "ab508e45-99df-471b-ca69-2394b2720043"
      },
      "source": [
        "X_test_final.shape"
      ],
      "execution_count": null,
      "outputs": [
        {
          "output_type": "execute_result",
          "data": {
            "text/plain": [
              "(14850, 79)"
            ]
          },
          "metadata": {
            "tags": []
          },
          "execution_count": 536
        }
      ]
    },
    {
      "cell_type": "code",
      "metadata": {
        "colab": {
          "base_uri": "https://localhost:8080/"
        },
        "id": "GEcJ3b34vYA8",
        "outputId": "9ad4ce8d-78af-4ddd-db62-b9c7808c39a5"
      },
      "source": [
        "train_df_final.shape"
      ],
      "execution_count": null,
      "outputs": [
        {
          "output_type": "execute_result",
          "data": {
            "text/plain": [
              "(44550, 80)"
            ]
          },
          "metadata": {
            "tags": []
          },
          "execution_count": 537
        }
      ]
    },
    {
      "cell_type": "markdown",
      "metadata": {
        "id": "vV3djalevgYc"
      },
      "source": [
        "Train/Test splitting"
      ]
    },
    {
      "cell_type": "code",
      "metadata": {
        "id": "tsMmzdGdvcqT"
      },
      "source": [
        "X = train_df_final.drop(\"label\",axis=1)\n",
        "y = train_df_final[\"label\"]"
      ],
      "execution_count": null,
      "outputs": []
    },
    {
      "cell_type": "code",
      "metadata": {
        "id": "_FHQgMK-vtSC"
      },
      "source": [
        "# Create training and test sets\n",
        "X_train, X_valid, y_train, y_valid = train_test_split(X, y, test_size = 0.2, stratify=y, random_state=42)"
      ],
      "execution_count": null,
      "outputs": []
    },
    {
      "cell_type": "code",
      "metadata": {
        "colab": {
          "base_uri": "https://localhost:8080/"
        },
        "id": "gDDcb7htvwJD",
        "outputId": "2ebf6ea7-4f4b-4bda-bcf7-7e7d24ada0b2"
      },
      "source": [
        "X.isnull().values.any()"
      ],
      "execution_count": null,
      "outputs": [
        {
          "output_type": "execute_result",
          "data": {
            "text/plain": [
              "False"
            ]
          },
          "metadata": {
            "tags": []
          },
          "execution_count": 540
        }
      ]
    },
    {
      "cell_type": "markdown",
      "metadata": {
        "id": "zypVEhg-v4G7"
      },
      "source": [
        "Standard Scaling:-   \n",
        "The idea behind StandardScaler is that it will transform your data such that its distribution will have a mean value 0 and standard deviation of 1."
      ]
    },
    {
      "cell_type": "code",
      "metadata": {
        "id": "vUu8jowJwAiq"
      },
      "source": [
        "sc = ss()\n",
        "X_train = sc.fit_transform(X_train)\n",
        "X_valid = sc.transform(X_valid)\n",
        "X_test = sc.transform(X_test_final)"
      ],
      "execution_count": null,
      "outputs": []
    },
    {
      "cell_type": "markdown",
      "metadata": {
        "id": "CqWEKm7ywHq-"
      },
      "source": [
        "Model selection"
      ]
    },
    {
      "cell_type": "code",
      "metadata": {
        "colab": {
          "base_uri": "https://localhost:8080/"
        },
        "id": "gOZS8f6QwHP4",
        "outputId": "56ccfe35-ec3a-4b85-f5c1-7c16e1f64123"
      },
      "source": [
        "# Decision Tree\n",
        "\n",
        "decision_tree = DecisionTreeClassifier()\n",
        "decision_tree.fit(X_train, y_train)\n",
        "y_pred = decision_tree.predict(X_valid)\n",
        "\n",
        "acc_decision_tree = round(accuracy_score(y_valid,y_pred) * 100, 2)\n",
        "acc_decision_tree"
      ],
      "execution_count": null,
      "outputs": [
        {
          "output_type": "execute_result",
          "data": {
            "text/plain": [
              "72.4"
            ]
          },
          "metadata": {
            "tags": []
          },
          "execution_count": 542
        }
      ]
    },
    {
      "cell_type": "code",
      "metadata": {
        "colab": {
          "base_uri": "https://localhost:8080/"
        },
        "id": "zgogdrwKwXQ5",
        "outputId": "d513eb50-2ae1-4d0d-ed99-e7b19ed39410"
      },
      "source": [
        "# Random Forest\n",
        "\n",
        "rfc = RandomForestClassifier(criterion='entropy', n_estimators = 1000,min_samples_split=8,random_state=42,verbose=5)\n",
        "rfc.fit(X_train, y_train)\n",
        "\n",
        "y_pred = rfc.predict(X_valid)\n",
        "\n",
        "acc_rfc = round(accuracy_score(y_valid,y_pred) * 100, 2)\n",
        "acc_rfc"
      ],
      "execution_count": null,
      "outputs": [
        {
          "output_type": "stream",
          "text": [
            "[Parallel(n_jobs=1)]: Using backend SequentialBackend with 1 concurrent workers.\n",
            "[Parallel(n_jobs=1)]: Done   1 out of   1 | elapsed:    0.1s remaining:    0.0s\n",
            "[Parallel(n_jobs=1)]: Done   2 out of   2 | elapsed:    0.1s remaining:    0.0s\n"
          ],
          "name": "stderr"
        },
        {
          "output_type": "stream",
          "text": [
            "building tree 1 of 1000\n",
            "building tree 2 of 1000\n",
            "building tree 3 of 1000\n"
          ],
          "name": "stdout"
        },
        {
          "output_type": "stream",
          "text": [
            "[Parallel(n_jobs=1)]: Done   3 out of   3 | elapsed:    0.2s remaining:    0.0s\n",
            "[Parallel(n_jobs=1)]: Done   4 out of   4 | elapsed:    0.3s remaining:    0.0s\n"
          ],
          "name": "stderr"
        },
        {
          "output_type": "stream",
          "text": [
            "building tree 4 of 1000\n",
            "building tree 5 of 1000\n",
            "building tree 6 of 1000\n",
            "building tree 7 of 1000\n",
            "building tree 8 of 1000\n",
            "building tree 9 of 1000\n",
            "building tree 10 of 1000\n",
            "building tree 11 of 1000\n",
            "building tree 12 of 1000\n",
            "building tree 13 of 1000\n",
            "building tree 14 of 1000\n",
            "building tree 15 of 1000\n",
            "building tree 16 of 1000\n",
            "building tree 17 of 1000\n",
            "building tree 18 of 1000\n",
            "building tree 19 of 1000\n",
            "building tree 20 of 1000\n",
            "building tree 21 of 1000\n",
            "building tree 22 of 1000\n",
            "building tree 23 of 1000\n",
            "building tree 24 of 1000\n",
            "building tree 25 of 1000\n",
            "building tree 26 of 1000\n",
            "building tree 27 of 1000\n",
            "building tree 28 of 1000\n",
            "building tree 29 of 1000\n",
            "building tree 30 of 1000\n",
            "building tree 31 of 1000\n",
            "building tree 32 of 1000\n",
            "building tree 33 of 1000\n",
            "building tree 34 of 1000\n",
            "building tree 35 of 1000\n",
            "building tree 36 of 1000\n",
            "building tree 37 of 1000\n",
            "building tree 38 of 1000\n",
            "building tree 39 of 1000\n",
            "building tree 40 of 1000\n",
            "building tree 41 of 1000\n",
            "building tree 42 of 1000\n",
            "building tree 43 of 1000\n",
            "building tree 44 of 1000\n",
            "building tree 45 of 1000\n",
            "building tree 46 of 1000\n",
            "building tree 47 of 1000\n",
            "building tree 48 of 1000\n",
            "building tree 49 of 1000\n",
            "building tree 50 of 1000\n",
            "building tree 51 of 1000\n",
            "building tree 52 of 1000\n",
            "building tree 53 of 1000\n",
            "building tree 54 of 1000\n",
            "building tree 55 of 1000\n",
            "building tree 56 of 1000\n",
            "building tree 57 of 1000\n",
            "building tree 58 of 1000\n",
            "building tree 59 of 1000\n",
            "building tree 60 of 1000\n",
            "building tree 61 of 1000\n",
            "building tree 62 of 1000\n",
            "building tree 63 of 1000\n",
            "building tree 64 of 1000\n",
            "building tree 65 of 1000\n",
            "building tree 66 of 1000\n",
            "building tree 67 of 1000\n",
            "building tree 68 of 1000\n",
            "building tree 69 of 1000\n",
            "building tree 70 of 1000\n",
            "building tree 71 of 1000\n",
            "building tree 72 of 1000\n",
            "building tree 73 of 1000\n",
            "building tree 74 of 1000\n",
            "building tree 75 of 1000\n",
            "building tree 76 of 1000\n",
            "building tree 77 of 1000\n",
            "building tree 78 of 1000\n",
            "building tree 79 of 1000\n",
            "building tree 80 of 1000\n",
            "building tree 81 of 1000\n",
            "building tree 82 of 1000\n",
            "building tree 83 of 1000\n",
            "building tree 84 of 1000\n",
            "building tree 85 of 1000\n",
            "building tree 86 of 1000\n",
            "building tree 87 of 1000\n",
            "building tree 88 of 1000\n",
            "building tree 89 of 1000\n",
            "building tree 90 of 1000\n",
            "building tree 91 of 1000\n",
            "building tree 92 of 1000\n",
            "building tree 93 of 1000\n",
            "building tree 94 of 1000\n",
            "building tree 95 of 1000\n",
            "building tree 96 of 1000\n",
            "building tree 97 of 1000\n",
            "building tree 98 of 1000\n",
            "building tree 99 of 1000\n",
            "building tree 100 of 1000\n",
            "building tree 101 of 1000\n",
            "building tree 102 of 1000\n",
            "building tree 103 of 1000\n",
            "building tree 104 of 1000\n",
            "building tree 105 of 1000\n",
            "building tree 106 of 1000\n",
            "building tree 107 of 1000\n",
            "building tree 108 of 1000\n",
            "building tree 109 of 1000\n",
            "building tree 110 of 1000\n",
            "building tree 111 of 1000\n",
            "building tree 112 of 1000\n",
            "building tree 113 of 1000\n",
            "building tree 114 of 1000\n",
            "building tree 115 of 1000\n",
            "building tree 116 of 1000\n",
            "building tree 117 of 1000\n",
            "building tree 118 of 1000\n",
            "building tree 119 of 1000\n",
            "building tree 120 of 1000\n",
            "building tree 121 of 1000\n",
            "building tree 122 of 1000\n",
            "building tree 123 of 1000\n",
            "building tree 124 of 1000\n",
            "building tree 125 of 1000\n",
            "building tree 126 of 1000\n",
            "building tree 127 of 1000\n",
            "building tree 128 of 1000\n",
            "building tree 129 of 1000\n",
            "building tree 130 of 1000\n",
            "building tree 131 of 1000\n",
            "building tree 132 of 1000\n",
            "building tree 133 of 1000\n",
            "building tree 134 of 1000\n",
            "building tree 135 of 1000\n",
            "building tree 136 of 1000\n",
            "building tree 137 of 1000\n",
            "building tree 138 of 1000\n",
            "building tree 139 of 1000\n",
            "building tree 140 of 1000\n",
            "building tree 141 of 1000\n",
            "building tree 142 of 1000\n",
            "building tree 143 of 1000\n",
            "building tree 144 of 1000\n",
            "building tree 145 of 1000\n",
            "building tree 146 of 1000\n",
            "building tree 147 of 1000\n",
            "building tree 148 of 1000\n",
            "building tree 149 of 1000\n",
            "building tree 150 of 1000\n",
            "building tree 151 of 1000\n",
            "building tree 152 of 1000\n",
            "building tree 153 of 1000\n",
            "building tree 154 of 1000\n",
            "building tree 155 of 1000\n",
            "building tree 156 of 1000\n",
            "building tree 157 of 1000\n",
            "building tree 158 of 1000\n",
            "building tree 159 of 1000\n",
            "building tree 160 of 1000\n",
            "building tree 161 of 1000\n",
            "building tree 162 of 1000\n",
            "building tree 163 of 1000\n",
            "building tree 164 of 1000\n",
            "building tree 165 of 1000\n",
            "building tree 166 of 1000\n",
            "building tree 167 of 1000\n",
            "building tree 168 of 1000\n",
            "building tree 169 of 1000\n",
            "building tree 170 of 1000\n",
            "building tree 171 of 1000\n",
            "building tree 172 of 1000\n",
            "building tree 173 of 1000\n",
            "building tree 174 of 1000\n",
            "building tree 175 of 1000\n",
            "building tree 176 of 1000\n",
            "building tree 177 of 1000\n",
            "building tree 178 of 1000\n",
            "building tree 179 of 1000\n",
            "building tree 180 of 1000\n",
            "building tree 181 of 1000\n",
            "building tree 182 of 1000\n",
            "building tree 183 of 1000\n",
            "building tree 184 of 1000\n",
            "building tree 185 of 1000\n",
            "building tree 186 of 1000\n",
            "building tree 187 of 1000\n",
            "building tree 188 of 1000\n",
            "building tree 189 of 1000\n",
            "building tree 190 of 1000\n",
            "building tree 191 of 1000\n",
            "building tree 192 of 1000\n",
            "building tree 193 of 1000\n",
            "building tree 194 of 1000\n",
            "building tree 195 of 1000\n",
            "building tree 196 of 1000\n",
            "building tree 197 of 1000\n",
            "building tree 198 of 1000\n",
            "building tree 199 of 1000\n",
            "building tree 200 of 1000\n",
            "building tree 201 of 1000\n",
            "building tree 202 of 1000\n",
            "building tree 203 of 1000\n",
            "building tree 204 of 1000\n",
            "building tree 205 of 1000\n",
            "building tree 206 of 1000\n",
            "building tree 207 of 1000\n",
            "building tree 208 of 1000\n",
            "building tree 209 of 1000\n",
            "building tree 210 of 1000\n",
            "building tree 211 of 1000\n",
            "building tree 212 of 1000\n",
            "building tree 213 of 1000\n",
            "building tree 214 of 1000\n",
            "building tree 215 of 1000\n",
            "building tree 216 of 1000\n",
            "building tree 217 of 1000\n",
            "building tree 218 of 1000\n",
            "building tree 219 of 1000\n",
            "building tree 220 of 1000\n",
            "building tree 221 of 1000\n",
            "building tree 222 of 1000\n",
            "building tree 223 of 1000\n",
            "building tree 224 of 1000\n",
            "building tree 225 of 1000\n",
            "building tree 226 of 1000\n",
            "building tree 227 of 1000\n",
            "building tree 228 of 1000\n",
            "building tree 229 of 1000\n",
            "building tree 230 of 1000\n",
            "building tree 231 of 1000\n",
            "building tree 232 of 1000\n",
            "building tree 233 of 1000\n",
            "building tree 234 of 1000\n",
            "building tree 235 of 1000\n",
            "building tree 236 of 1000\n",
            "building tree 237 of 1000\n",
            "building tree 238 of 1000\n",
            "building tree 239 of 1000\n",
            "building tree 240 of 1000\n",
            "building tree 241 of 1000\n",
            "building tree 242 of 1000\n",
            "building tree 243 of 1000\n",
            "building tree 244 of 1000\n",
            "building tree 245 of 1000\n",
            "building tree 246 of 1000\n",
            "building tree 247 of 1000\n",
            "building tree 248 of 1000\n",
            "building tree 249 of 1000\n",
            "building tree 250 of 1000\n",
            "building tree 251 of 1000\n",
            "building tree 252 of 1000\n",
            "building tree 253 of 1000\n",
            "building tree 254 of 1000\n",
            "building tree 255 of 1000\n",
            "building tree 256 of 1000\n",
            "building tree 257 of 1000\n",
            "building tree 258 of 1000\n",
            "building tree 259 of 1000\n",
            "building tree 260 of 1000\n",
            "building tree 261 of 1000\n",
            "building tree 262 of 1000\n",
            "building tree 263 of 1000\n",
            "building tree 264 of 1000\n",
            "building tree 265 of 1000\n",
            "building tree 266 of 1000\n",
            "building tree 267 of 1000\n",
            "building tree 268 of 1000\n",
            "building tree 269 of 1000\n",
            "building tree 270 of 1000\n",
            "building tree 271 of 1000\n",
            "building tree 272 of 1000\n",
            "building tree 273 of 1000\n",
            "building tree 274 of 1000\n",
            "building tree 275 of 1000\n",
            "building tree 276 of 1000\n",
            "building tree 277 of 1000\n",
            "building tree 278 of 1000\n",
            "building tree 279 of 1000\n",
            "building tree 280 of 1000\n",
            "building tree 281 of 1000\n",
            "building tree 282 of 1000\n",
            "building tree 283 of 1000\n",
            "building tree 284 of 1000\n",
            "building tree 285 of 1000\n",
            "building tree 286 of 1000\n",
            "building tree 287 of 1000\n",
            "building tree 288 of 1000\n",
            "building tree 289 of 1000\n",
            "building tree 290 of 1000\n",
            "building tree 291 of 1000\n",
            "building tree 292 of 1000\n",
            "building tree 293 of 1000\n",
            "building tree 294 of 1000\n",
            "building tree 295 of 1000\n",
            "building tree 296 of 1000\n",
            "building tree 297 of 1000\n",
            "building tree 298 of 1000\n",
            "building tree 299 of 1000\n",
            "building tree 300 of 1000\n",
            "building tree 301 of 1000\n",
            "building tree 302 of 1000\n",
            "building tree 303 of 1000\n",
            "building tree 304 of 1000\n",
            "building tree 305 of 1000\n",
            "building tree 306 of 1000\n",
            "building tree 307 of 1000\n",
            "building tree 308 of 1000\n",
            "building tree 309 of 1000\n",
            "building tree 310 of 1000\n",
            "building tree 311 of 1000\n",
            "building tree 312 of 1000\n",
            "building tree 313 of 1000\n",
            "building tree 314 of 1000\n",
            "building tree 315 of 1000\n",
            "building tree 316 of 1000\n",
            "building tree 317 of 1000\n",
            "building tree 318 of 1000\n",
            "building tree 319 of 1000\n",
            "building tree 320 of 1000\n",
            "building tree 321 of 1000\n",
            "building tree 322 of 1000\n",
            "building tree 323 of 1000\n",
            "building tree 324 of 1000\n",
            "building tree 325 of 1000\n",
            "building tree 326 of 1000\n",
            "building tree 327 of 1000\n",
            "building tree 328 of 1000\n",
            "building tree 329 of 1000\n",
            "building tree 330 of 1000\n",
            "building tree 331 of 1000\n",
            "building tree 332 of 1000\n",
            "building tree 333 of 1000\n",
            "building tree 334 of 1000\n",
            "building tree 335 of 1000\n",
            "building tree 336 of 1000\n",
            "building tree 337 of 1000\n",
            "building tree 338 of 1000\n",
            "building tree 339 of 1000\n",
            "building tree 340 of 1000\n",
            "building tree 341 of 1000\n",
            "building tree 342 of 1000\n",
            "building tree 343 of 1000\n",
            "building tree 344 of 1000\n",
            "building tree 345 of 1000\n",
            "building tree 346 of 1000\n",
            "building tree 347 of 1000\n",
            "building tree 348 of 1000\n",
            "building tree 349 of 1000\n",
            "building tree 350 of 1000\n",
            "building tree 351 of 1000\n",
            "building tree 352 of 1000\n",
            "building tree 353 of 1000\n",
            "building tree 354 of 1000\n",
            "building tree 355 of 1000\n",
            "building tree 356 of 1000\n",
            "building tree 357 of 1000\n",
            "building tree 358 of 1000\n",
            "building tree 359 of 1000\n",
            "building tree 360 of 1000\n",
            "building tree 361 of 1000\n",
            "building tree 362 of 1000\n",
            "building tree 363 of 1000\n",
            "building tree 364 of 1000\n",
            "building tree 365 of 1000\n",
            "building tree 366 of 1000\n",
            "building tree 367 of 1000\n",
            "building tree 368 of 1000\n",
            "building tree 369 of 1000\n",
            "building tree 370 of 1000\n",
            "building tree 371 of 1000\n",
            "building tree 372 of 1000\n",
            "building tree 373 of 1000\n",
            "building tree 374 of 1000\n",
            "building tree 375 of 1000\n",
            "building tree 376 of 1000\n",
            "building tree 377 of 1000\n",
            "building tree 378 of 1000\n",
            "building tree 379 of 1000\n",
            "building tree 380 of 1000\n",
            "building tree 381 of 1000\n",
            "building tree 382 of 1000\n",
            "building tree 383 of 1000\n",
            "building tree 384 of 1000\n",
            "building tree 385 of 1000\n",
            "building tree 386 of 1000\n",
            "building tree 387 of 1000\n",
            "building tree 388 of 1000\n",
            "building tree 389 of 1000\n",
            "building tree 390 of 1000\n",
            "building tree 391 of 1000\n",
            "building tree 392 of 1000\n",
            "building tree 393 of 1000\n",
            "building tree 394 of 1000\n",
            "building tree 395 of 1000\n",
            "building tree 396 of 1000\n",
            "building tree 397 of 1000\n",
            "building tree 398 of 1000\n",
            "building tree 399 of 1000\n",
            "building tree 400 of 1000\n",
            "building tree 401 of 1000\n",
            "building tree 402 of 1000\n",
            "building tree 403 of 1000\n",
            "building tree 404 of 1000\n",
            "building tree 405 of 1000\n",
            "building tree 406 of 1000\n",
            "building tree 407 of 1000\n",
            "building tree 408 of 1000\n",
            "building tree 409 of 1000\n",
            "building tree 410 of 1000\n",
            "building tree 411 of 1000\n",
            "building tree 412 of 1000\n",
            "building tree 413 of 1000\n",
            "building tree 414 of 1000\n",
            "building tree 415 of 1000\n",
            "building tree 416 of 1000\n",
            "building tree 417 of 1000\n",
            "building tree 418 of 1000\n",
            "building tree 419 of 1000\n",
            "building tree 420 of 1000\n",
            "building tree 421 of 1000\n",
            "building tree 422 of 1000\n",
            "building tree 423 of 1000\n",
            "building tree 424 of 1000\n",
            "building tree 425 of 1000\n",
            "building tree 426 of 1000\n",
            "building tree 427 of 1000\n",
            "building tree 428 of 1000\n",
            "building tree 429 of 1000\n",
            "building tree 430 of 1000\n",
            "building tree 431 of 1000\n",
            "building tree 432 of 1000\n",
            "building tree 433 of 1000\n",
            "building tree 434 of 1000\n",
            "building tree 435 of 1000\n",
            "building tree 436 of 1000\n",
            "building tree 437 of 1000\n",
            "building tree 438 of 1000\n",
            "building tree 439 of 1000\n",
            "building tree 440 of 1000\n",
            "building tree 441 of 1000\n",
            "building tree 442 of 1000\n",
            "building tree 443 of 1000\n",
            "building tree 444 of 1000\n",
            "building tree 445 of 1000\n",
            "building tree 446 of 1000\n",
            "building tree 447 of 1000\n",
            "building tree 448 of 1000\n",
            "building tree 449 of 1000\n",
            "building tree 450 of 1000\n",
            "building tree 451 of 1000\n",
            "building tree 452 of 1000\n",
            "building tree 453 of 1000\n",
            "building tree 454 of 1000\n",
            "building tree 455 of 1000\n",
            "building tree 456 of 1000\n",
            "building tree 457 of 1000\n",
            "building tree 458 of 1000\n",
            "building tree 459 of 1000\n",
            "building tree 460 of 1000\n",
            "building tree 461 of 1000\n",
            "building tree 462 of 1000\n",
            "building tree 463 of 1000\n",
            "building tree 464 of 1000\n",
            "building tree 465 of 1000\n",
            "building tree 466 of 1000\n",
            "building tree 467 of 1000\n",
            "building tree 468 of 1000\n",
            "building tree 469 of 1000\n",
            "building tree 470 of 1000\n",
            "building tree 471 of 1000\n",
            "building tree 472 of 1000\n",
            "building tree 473 of 1000\n",
            "building tree 474 of 1000\n",
            "building tree 475 of 1000\n",
            "building tree 476 of 1000\n",
            "building tree 477 of 1000\n",
            "building tree 478 of 1000\n",
            "building tree 479 of 1000\n",
            "building tree 480 of 1000\n",
            "building tree 481 of 1000\n",
            "building tree 482 of 1000\n",
            "building tree 483 of 1000\n",
            "building tree 484 of 1000\n",
            "building tree 485 of 1000\n",
            "building tree 486 of 1000\n",
            "building tree 487 of 1000\n",
            "building tree 488 of 1000\n",
            "building tree 489 of 1000\n",
            "building tree 490 of 1000\n",
            "building tree 491 of 1000\n",
            "building tree 492 of 1000\n",
            "building tree 493 of 1000\n",
            "building tree 494 of 1000\n",
            "building tree 495 of 1000\n",
            "building tree 496 of 1000\n",
            "building tree 497 of 1000\n",
            "building tree 498 of 1000\n",
            "building tree 499 of 1000\n",
            "building tree 500 of 1000\n",
            "building tree 501 of 1000\n",
            "building tree 502 of 1000\n",
            "building tree 503 of 1000\n",
            "building tree 504 of 1000\n",
            "building tree 505 of 1000\n",
            "building tree 506 of 1000\n",
            "building tree 507 of 1000\n",
            "building tree 508 of 1000\n",
            "building tree 509 of 1000\n",
            "building tree 510 of 1000\n",
            "building tree 511 of 1000\n",
            "building tree 512 of 1000\n",
            "building tree 513 of 1000\n",
            "building tree 514 of 1000\n",
            "building tree 515 of 1000\n",
            "building tree 516 of 1000\n",
            "building tree 517 of 1000\n",
            "building tree 518 of 1000\n",
            "building tree 519 of 1000\n",
            "building tree 520 of 1000\n",
            "building tree 521 of 1000\n",
            "building tree 522 of 1000\n",
            "building tree 523 of 1000\n",
            "building tree 524 of 1000\n",
            "building tree 525 of 1000\n",
            "building tree 526 of 1000\n",
            "building tree 527 of 1000\n",
            "building tree 528 of 1000\n",
            "building tree 529 of 1000\n",
            "building tree 530 of 1000\n",
            "building tree 531 of 1000\n",
            "building tree 532 of 1000\n",
            "building tree 533 of 1000\n",
            "building tree 534 of 1000\n",
            "building tree 535 of 1000\n",
            "building tree 536 of 1000\n",
            "building tree 537 of 1000\n",
            "building tree 538 of 1000\n",
            "building tree 539 of 1000\n",
            "building tree 540 of 1000\n",
            "building tree 541 of 1000\n",
            "building tree 542 of 1000\n",
            "building tree 543 of 1000\n",
            "building tree 544 of 1000\n",
            "building tree 545 of 1000\n",
            "building tree 546 of 1000\n",
            "building tree 547 of 1000\n",
            "building tree 548 of 1000\n",
            "building tree 549 of 1000\n",
            "building tree 550 of 1000\n",
            "building tree 551 of 1000\n",
            "building tree 552 of 1000\n",
            "building tree 553 of 1000\n",
            "building tree 554 of 1000\n",
            "building tree 555 of 1000\n",
            "building tree 556 of 1000\n",
            "building tree 557 of 1000\n",
            "building tree 558 of 1000\n",
            "building tree 559 of 1000\n",
            "building tree 560 of 1000\n",
            "building tree 561 of 1000\n",
            "building tree 562 of 1000\n",
            "building tree 563 of 1000\n",
            "building tree 564 of 1000\n",
            "building tree 565 of 1000\n",
            "building tree 566 of 1000\n",
            "building tree 567 of 1000\n",
            "building tree 568 of 1000\n",
            "building tree 569 of 1000\n",
            "building tree 570 of 1000\n",
            "building tree 571 of 1000\n",
            "building tree 572 of 1000\n",
            "building tree 573 of 1000\n",
            "building tree 574 of 1000\n",
            "building tree 575 of 1000\n",
            "building tree 576 of 1000\n",
            "building tree 577 of 1000\n",
            "building tree 578 of 1000\n",
            "building tree 579 of 1000\n",
            "building tree 580 of 1000\n",
            "building tree 581 of 1000\n",
            "building tree 582 of 1000\n",
            "building tree 583 of 1000\n",
            "building tree 584 of 1000\n",
            "building tree 585 of 1000\n",
            "building tree 586 of 1000\n",
            "building tree 587 of 1000\n",
            "building tree 588 of 1000\n",
            "building tree 589 of 1000\n",
            "building tree 590 of 1000\n",
            "building tree 591 of 1000\n",
            "building tree 592 of 1000\n",
            "building tree 593 of 1000\n",
            "building tree 594 of 1000\n",
            "building tree 595 of 1000\n",
            "building tree 596 of 1000\n",
            "building tree 597 of 1000\n",
            "building tree 598 of 1000\n",
            "building tree 599 of 1000\n",
            "building tree 600 of 1000\n",
            "building tree 601 of 1000\n",
            "building tree 602 of 1000\n",
            "building tree 603 of 1000\n",
            "building tree 604 of 1000\n",
            "building tree 605 of 1000\n",
            "building tree 606 of 1000\n",
            "building tree 607 of 1000\n",
            "building tree 608 of 1000\n",
            "building tree 609 of 1000\n",
            "building tree 610 of 1000\n",
            "building tree 611 of 1000\n",
            "building tree 612 of 1000\n",
            "building tree 613 of 1000\n",
            "building tree 614 of 1000\n",
            "building tree 615 of 1000\n",
            "building tree 616 of 1000\n",
            "building tree 617 of 1000\n",
            "building tree 618 of 1000\n",
            "building tree 619 of 1000\n",
            "building tree 620 of 1000\n",
            "building tree 621 of 1000\n",
            "building tree 622 of 1000\n",
            "building tree 623 of 1000\n",
            "building tree 624 of 1000\n",
            "building tree 625 of 1000\n",
            "building tree 626 of 1000\n",
            "building tree 627 of 1000\n",
            "building tree 628 of 1000\n",
            "building tree 629 of 1000\n",
            "building tree 630 of 1000\n",
            "building tree 631 of 1000\n",
            "building tree 632 of 1000\n",
            "building tree 633 of 1000\n",
            "building tree 634 of 1000\n",
            "building tree 635 of 1000\n",
            "building tree 636 of 1000\n",
            "building tree 637 of 1000\n",
            "building tree 638 of 1000\n",
            "building tree 639 of 1000\n",
            "building tree 640 of 1000\n",
            "building tree 641 of 1000\n",
            "building tree 642 of 1000\n",
            "building tree 643 of 1000\n",
            "building tree 644 of 1000\n",
            "building tree 645 of 1000\n",
            "building tree 646 of 1000\n",
            "building tree 647 of 1000\n",
            "building tree 648 of 1000\n",
            "building tree 649 of 1000\n",
            "building tree 650 of 1000\n",
            "building tree 651 of 1000\n",
            "building tree 652 of 1000\n",
            "building tree 653 of 1000\n",
            "building tree 654 of 1000\n",
            "building tree 655 of 1000\n",
            "building tree 656 of 1000\n",
            "building tree 657 of 1000\n",
            "building tree 658 of 1000\n",
            "building tree 659 of 1000\n",
            "building tree 660 of 1000\n",
            "building tree 661 of 1000\n",
            "building tree 662 of 1000\n",
            "building tree 663 of 1000\n",
            "building tree 664 of 1000\n",
            "building tree 665 of 1000\n",
            "building tree 666 of 1000\n",
            "building tree 667 of 1000\n",
            "building tree 668 of 1000\n",
            "building tree 669 of 1000\n",
            "building tree 670 of 1000\n",
            "building tree 671 of 1000\n",
            "building tree 672 of 1000\n",
            "building tree 673 of 1000\n",
            "building tree 674 of 1000\n",
            "building tree 675 of 1000\n",
            "building tree 676 of 1000\n",
            "building tree 677 of 1000\n",
            "building tree 678 of 1000\n",
            "building tree 679 of 1000\n",
            "building tree 680 of 1000\n",
            "building tree 681 of 1000\n",
            "building tree 682 of 1000\n",
            "building tree 683 of 1000\n",
            "building tree 684 of 1000\n",
            "building tree 685 of 1000\n",
            "building tree 686 of 1000\n",
            "building tree 687 of 1000\n",
            "building tree 688 of 1000\n",
            "building tree 689 of 1000\n",
            "building tree 690 of 1000\n",
            "building tree 691 of 1000\n",
            "building tree 692 of 1000\n",
            "building tree 693 of 1000\n",
            "building tree 694 of 1000\n",
            "building tree 695 of 1000\n",
            "building tree 696 of 1000\n",
            "building tree 697 of 1000\n",
            "building tree 698 of 1000\n",
            "building tree 699 of 1000\n",
            "building tree 700 of 1000\n",
            "building tree 701 of 1000\n",
            "building tree 702 of 1000\n",
            "building tree 703 of 1000\n",
            "building tree 704 of 1000\n",
            "building tree 705 of 1000\n",
            "building tree 706 of 1000\n",
            "building tree 707 of 1000\n",
            "building tree 708 of 1000\n",
            "building tree 709 of 1000\n",
            "building tree 710 of 1000\n",
            "building tree 711 of 1000\n",
            "building tree 712 of 1000\n",
            "building tree 713 of 1000\n",
            "building tree 714 of 1000\n",
            "building tree 715 of 1000\n",
            "building tree 716 of 1000\n",
            "building tree 717 of 1000\n",
            "building tree 718 of 1000\n",
            "building tree 719 of 1000\n",
            "building tree 720 of 1000\n",
            "building tree 721 of 1000\n",
            "building tree 722 of 1000\n",
            "building tree 723 of 1000\n",
            "building tree 724 of 1000\n",
            "building tree 725 of 1000\n",
            "building tree 726 of 1000\n",
            "building tree 727 of 1000\n",
            "building tree 728 of 1000\n",
            "building tree 729 of 1000\n",
            "building tree 730 of 1000\n",
            "building tree 731 of 1000\n",
            "building tree 732 of 1000\n",
            "building tree 733 of 1000\n",
            "building tree 734 of 1000\n",
            "building tree 735 of 1000\n",
            "building tree 736 of 1000\n",
            "building tree 737 of 1000\n",
            "building tree 738 of 1000\n",
            "building tree 739 of 1000\n",
            "building tree 740 of 1000\n",
            "building tree 741 of 1000\n",
            "building tree 742 of 1000\n",
            "building tree 743 of 1000\n",
            "building tree 744 of 1000\n",
            "building tree 745 of 1000\n",
            "building tree 746 of 1000\n",
            "building tree 747 of 1000\n",
            "building tree 748 of 1000\n",
            "building tree 749 of 1000\n",
            "building tree 750 of 1000\n",
            "building tree 751 of 1000\n",
            "building tree 752 of 1000\n",
            "building tree 753 of 1000\n",
            "building tree 754 of 1000\n",
            "building tree 755 of 1000\n",
            "building tree 756 of 1000\n",
            "building tree 757 of 1000\n",
            "building tree 758 of 1000\n",
            "building tree 759 of 1000\n",
            "building tree 760 of 1000\n",
            "building tree 761 of 1000\n",
            "building tree 762 of 1000\n",
            "building tree 763 of 1000\n",
            "building tree 764 of 1000\n",
            "building tree 765 of 1000\n",
            "building tree 766 of 1000\n",
            "building tree 767 of 1000\n",
            "building tree 768 of 1000\n",
            "building tree 769 of 1000\n",
            "building tree 770 of 1000\n",
            "building tree 771 of 1000\n",
            "building tree 772 of 1000\n",
            "building tree 773 of 1000\n",
            "building tree 774 of 1000\n",
            "building tree 775 of 1000\n",
            "building tree 776 of 1000\n",
            "building tree 777 of 1000\n",
            "building tree 778 of 1000\n",
            "building tree 779 of 1000\n",
            "building tree 780 of 1000\n",
            "building tree 781 of 1000\n",
            "building tree 782 of 1000\n",
            "building tree 783 of 1000\n",
            "building tree 784 of 1000\n",
            "building tree 785 of 1000\n",
            "building tree 786 of 1000\n",
            "building tree 787 of 1000\n",
            "building tree 788 of 1000\n",
            "building tree 789 of 1000\n",
            "building tree 790 of 1000\n",
            "building tree 791 of 1000\n",
            "building tree 792 of 1000\n",
            "building tree 793 of 1000\n",
            "building tree 794 of 1000\n",
            "building tree 795 of 1000\n",
            "building tree 796 of 1000\n",
            "building tree 797 of 1000\n",
            "building tree 798 of 1000\n",
            "building tree 799 of 1000\n",
            "building tree 800 of 1000\n",
            "building tree 801 of 1000\n",
            "building tree 802 of 1000\n",
            "building tree 803 of 1000\n",
            "building tree 804 of 1000\n",
            "building tree 805 of 1000\n",
            "building tree 806 of 1000\n",
            "building tree 807 of 1000\n",
            "building tree 808 of 1000\n",
            "building tree 809 of 1000\n",
            "building tree 810 of 1000\n",
            "building tree 811 of 1000\n",
            "building tree 812 of 1000\n",
            "building tree 813 of 1000\n",
            "building tree 814 of 1000\n",
            "building tree 815 of 1000\n",
            "building tree 816 of 1000\n",
            "building tree 817 of 1000\n",
            "building tree 818 of 1000\n",
            "building tree 819 of 1000\n",
            "building tree 820 of 1000\n",
            "building tree 821 of 1000\n",
            "building tree 822 of 1000\n",
            "building tree 823 of 1000\n",
            "building tree 824 of 1000\n",
            "building tree 825 of 1000\n",
            "building tree 826 of 1000\n",
            "building tree 827 of 1000\n",
            "building tree 828 of 1000\n",
            "building tree 829 of 1000\n",
            "building tree 830 of 1000\n",
            "building tree 831 of 1000\n",
            "building tree 832 of 1000\n",
            "building tree 833 of 1000\n",
            "building tree 834 of 1000\n",
            "building tree 835 of 1000\n",
            "building tree 836 of 1000\n",
            "building tree 837 of 1000\n",
            "building tree 838 of 1000\n",
            "building tree 839 of 1000\n",
            "building tree 840 of 1000\n",
            "building tree 841 of 1000\n",
            "building tree 842 of 1000\n",
            "building tree 843 of 1000\n",
            "building tree 844 of 1000\n",
            "building tree 845 of 1000\n",
            "building tree 846 of 1000\n",
            "building tree 847 of 1000\n",
            "building tree 848 of 1000\n",
            "building tree 849 of 1000\n",
            "building tree 850 of 1000\n",
            "building tree 851 of 1000\n",
            "building tree 852 of 1000\n",
            "building tree 853 of 1000\n",
            "building tree 854 of 1000\n",
            "building tree 855 of 1000\n",
            "building tree 856 of 1000\n",
            "building tree 857 of 1000\n",
            "building tree 858 of 1000\n",
            "building tree 859 of 1000\n",
            "building tree 860 of 1000\n",
            "building tree 861 of 1000\n",
            "building tree 862 of 1000\n",
            "building tree 863 of 1000\n",
            "building tree 864 of 1000\n",
            "building tree 865 of 1000\n",
            "building tree 866 of 1000\n",
            "building tree 867 of 1000\n",
            "building tree 868 of 1000\n",
            "building tree 869 of 1000\n",
            "building tree 870 of 1000\n",
            "building tree 871 of 1000\n",
            "building tree 872 of 1000\n",
            "building tree 873 of 1000\n",
            "building tree 874 of 1000\n",
            "building tree 875 of 1000\n",
            "building tree 876 of 1000\n",
            "building tree 877 of 1000\n",
            "building tree 878 of 1000\n",
            "building tree 879 of 1000\n",
            "building tree 880 of 1000\n",
            "building tree 881 of 1000\n",
            "building tree 882 of 1000\n",
            "building tree 883 of 1000\n",
            "building tree 884 of 1000\n",
            "building tree 885 of 1000\n",
            "building tree 886 of 1000\n",
            "building tree 887 of 1000\n",
            "building tree 888 of 1000\n",
            "building tree 889 of 1000\n",
            "building tree 890 of 1000\n",
            "building tree 891 of 1000\n",
            "building tree 892 of 1000\n",
            "building tree 893 of 1000\n",
            "building tree 894 of 1000\n",
            "building tree 895 of 1000\n",
            "building tree 896 of 1000\n",
            "building tree 897 of 1000\n",
            "building tree 898 of 1000\n",
            "building tree 899 of 1000\n",
            "building tree 900 of 1000\n",
            "building tree 901 of 1000\n",
            "building tree 902 of 1000\n",
            "building tree 903 of 1000\n",
            "building tree 904 of 1000\n",
            "building tree 905 of 1000\n",
            "building tree 906 of 1000\n",
            "building tree 907 of 1000\n",
            "building tree 908 of 1000\n",
            "building tree 909 of 1000\n",
            "building tree 910 of 1000\n",
            "building tree 911 of 1000\n",
            "building tree 912 of 1000\n",
            "building tree 913 of 1000\n",
            "building tree 914 of 1000\n",
            "building tree 915 of 1000\n",
            "building tree 916 of 1000\n",
            "building tree 917 of 1000\n",
            "building tree 918 of 1000\n",
            "building tree 919 of 1000\n",
            "building tree 920 of 1000\n",
            "building tree 921 of 1000\n",
            "building tree 922 of 1000\n",
            "building tree 923 of 1000\n",
            "building tree 924 of 1000\n",
            "building tree 925 of 1000\n",
            "building tree 926 of 1000\n",
            "building tree 927 of 1000\n",
            "building tree 928 of 1000\n",
            "building tree 929 of 1000\n",
            "building tree 930 of 1000\n",
            "building tree 931 of 1000\n",
            "building tree 932 of 1000\n",
            "building tree 933 of 1000\n",
            "building tree 934 of 1000\n",
            "building tree 935 of 1000\n",
            "building tree 936 of 1000\n",
            "building tree 937 of 1000\n",
            "building tree 938 of 1000\n",
            "building tree 939 of 1000\n",
            "building tree 940 of 1000\n",
            "building tree 941 of 1000\n",
            "building tree 942 of 1000\n",
            "building tree 943 of 1000\n",
            "building tree 944 of 1000\n",
            "building tree 945 of 1000\n",
            "building tree 946 of 1000\n",
            "building tree 947 of 1000\n",
            "building tree 948 of 1000\n",
            "building tree 949 of 1000\n",
            "building tree 950 of 1000\n",
            "building tree 951 of 1000\n",
            "building tree 952 of 1000\n",
            "building tree 953 of 1000\n",
            "building tree 954 of 1000\n",
            "building tree 955 of 1000\n",
            "building tree 956 of 1000\n",
            "building tree 957 of 1000\n",
            "building tree 958 of 1000\n",
            "building tree 959 of 1000\n",
            "building tree 960 of 1000\n",
            "building tree 961 of 1000\n",
            "building tree 962 of 1000\n",
            "building tree 963 of 1000\n",
            "building tree 964 of 1000\n",
            "building tree 965 of 1000\n",
            "building tree 966 of 1000\n",
            "building tree 967 of 1000\n",
            "building tree 968 of 1000\n",
            "building tree 969 of 1000\n",
            "building tree 970 of 1000\n",
            "building tree 971 of 1000\n",
            "building tree 972 of 1000\n",
            "building tree 973 of 1000\n",
            "building tree 974 of 1000\n",
            "building tree 975 of 1000\n",
            "building tree 976 of 1000\n",
            "building tree 977 of 1000\n",
            "building tree 978 of 1000\n",
            "building tree 979 of 1000\n",
            "building tree 980 of 1000\n",
            "building tree 981 of 1000\n",
            "building tree 982 of 1000\n",
            "building tree 983 of 1000\n",
            "building tree 984 of 1000\n",
            "building tree 985 of 1000\n",
            "building tree 986 of 1000\n",
            "building tree 987 of 1000\n",
            "building tree 988 of 1000\n",
            "building tree 989 of 1000\n",
            "building tree 990 of 1000\n",
            "building tree 991 of 1000\n",
            "building tree 992 of 1000\n",
            "building tree 993 of 1000\n",
            "building tree 994 of 1000\n",
            "building tree 995 of 1000\n",
            "building tree 996 of 1000\n",
            "building tree 997 of 1000\n",
            "building tree 998 of 1000\n",
            "building tree 999 of 1000\n",
            "building tree 1000 of 1000\n"
          ],
          "name": "stdout"
        },
        {
          "output_type": "stream",
          "text": [
            "[Parallel(n_jobs=1)]: Done 1000 out of 1000 | elapsed:  1.3min finished\n",
            "[Parallel(n_jobs=1)]: Using backend SequentialBackend with 1 concurrent workers.\n",
            "[Parallel(n_jobs=1)]: Done   1 out of   1 | elapsed:    0.0s remaining:    0.0s\n",
            "[Parallel(n_jobs=1)]: Done   2 out of   2 | elapsed:    0.0s remaining:    0.0s\n",
            "[Parallel(n_jobs=1)]: Done   3 out of   3 | elapsed:    0.0s remaining:    0.0s\n",
            "[Parallel(n_jobs=1)]: Done   4 out of   4 | elapsed:    0.0s remaining:    0.0s\n",
            "[Parallel(n_jobs=1)]: Done 1000 out of 1000 | elapsed:    2.8s finished\n"
          ],
          "name": "stderr"
        },
        {
          "output_type": "execute_result",
          "data": {
            "text/plain": [
              "78.59"
            ]
          },
          "metadata": {
            "tags": []
          },
          "execution_count": 543
        }
      ]
    },
    {
      "cell_type": "code",
      "metadata": {
        "colab": {
          "base_uri": "https://localhost:8080/"
        },
        "id": "N1lLlLLuwjU0",
        "outputId": "711c8b63-d81b-4b07-eb8c-63d81ba1d840"
      },
      "source": [
        "# XGBoost\n",
        "\n",
        "xgb = XGBClassifier(n_estimators=1000, learning_rate=0.05, n_jobs=5)\n",
        "xgb.fit(X_train, y_train, \n",
        "             early_stopping_rounds=5, \n",
        "             eval_set=[(X_valid, y_valid)], \n",
        "             verbose=False)\n",
        "\n",
        "y_pred = xgb.predict(X_valid)\n",
        "acc_xgb = round(accuracy_score(y_valid,y_pred) * 100, 2)\n",
        "acc_xgb"
      ],
      "execution_count": null,
      "outputs": [
        {
          "output_type": "execute_result",
          "data": {
            "text/plain": [
              "68.26"
            ]
          },
          "metadata": {
            "tags": []
          },
          "execution_count": 544
        }
      ]
    },
    {
      "cell_type": "code",
      "metadata": {
        "colab": {
          "base_uri": "https://localhost:8080/"
        },
        "id": "lGmgg3U44HD9",
        "outputId": "9e810da8-63ff-49b8-aa0f-8084a8a78c6a"
      },
      "source": [
        "# Linear SVC\n",
        "\n",
        "linear_SVC = LinearSVC()\n",
        "linear_SVC.fit(X_train,y_train)\n",
        "linear_SVC.predict(X_valid)\n",
        "\n",
        "acc_linear_SVC = round(accuracy_score(y_valid,y_pred) * 100, 2)\n",
        "acc_linear_SVC"
      ],
      "execution_count": null,
      "outputs": [
        {
          "output_type": "stream",
          "text": [
            "/usr/local/lib/python3.7/dist-packages/sklearn/svm/_base.py:947: ConvergenceWarning: Liblinear failed to converge, increase the number of iterations.\n",
            "  \"the number of iterations.\", ConvergenceWarning)\n"
          ],
          "name": "stderr"
        },
        {
          "output_type": "execute_result",
          "data": {
            "text/plain": [
              "68.26"
            ]
          },
          "metadata": {
            "tags": []
          },
          "execution_count": 545
        }
      ]
    },
    {
      "cell_type": "markdown",
      "metadata": {
        "id": "yEabe0XkxIc7"
      },
      "source": [
        "Compare model results"
      ]
    },
    {
      "cell_type": "code",
      "metadata": {
        "id": "vpruuF0XxNBy"
      },
      "source": [
        "models = pd.DataFrame({\n",
        "    'Model': ['Decision Tree','Random Forest','Linear SVC', \n",
        "              \"XGBoost\"],\n",
        "    'Score': [acc_decision_tree,acc_rfc, acc_linear_SVC, \n",
        "              acc_xgb]})\n",
        "sorted_by_score = models.sort_values(by='Score', ascending=False)\n"
      ],
      "execution_count": null,
      "outputs": []
    },
    {
      "cell_type": "code",
      "metadata": {
        "colab": {
          "base_uri": "https://localhost:8080/",
          "height": 327
        },
        "id": "qwqwTtz3zRJo",
        "outputId": "d4d52ee3-7b1c-45ea-e784-46659b9a158a"
      },
      "source": [
        "#barplot using https://seaborn.pydata.org/generated/seaborn.barplot.html\n",
        "sns.barplot(x='Score', y = 'Model', data = sorted_by_score, color = 'g')\n",
        "\n",
        "#prettify using pyplot: https://matplotlib.org/api/pyplot_api.html\n",
        "plt.title('Machine Learning Algorithm Accuracy Score \\n')\n",
        "plt.xlabel('Accuracy Score on validation data (%)')\n",
        "plt.ylabel('Model')"
      ],
      "execution_count": null,
      "outputs": [
        {
          "output_type": "execute_result",
          "data": {
            "text/plain": [
              "Text(0, 0.5, 'Model')"
            ]
          },
          "metadata": {
            "tags": []
          },
          "execution_count": 547
        },
        {
          "output_type": "display_data",
          "data": {
            "image/png": "[encoded data removed]",
            "text/plain": [
              "<Figure size 432x288 with 1 Axes>"
            ]
          },
          "metadata": {
            "tags": [],
            "needs_background": "light"
          }
        }
      ]
    },
    {
      "cell_type": "markdown",
      "metadata": {
        "id": "9iWt3-AjIV-u"
      },
      "source": [
        "Among the 4 models we have best accuracy for Random Forest"
      ]
    },
    {
      "cell_type": "markdown",
      "metadata": {
        "id": "2YLRtx4qz34U"
      },
      "source": [
        "5) Determination of the relative order of importance of variables, and perhaps a second\n",
        "round of feature selection."
      ]
    },
    {
      "cell_type": "markdown",
      "metadata": {
        "id": "LSThshfc5Cz1"
      },
      "source": [
        "Feature importance with random forest"
      ]
    },
    {
      "cell_type": "code",
      "metadata": {
        "colab": {
          "base_uri": "https://localhost:8080/"
        },
        "id": "3RX1VLR45Rfl",
        "outputId": "db92a0eb-bf51-494d-fd5f-ceb2779b8598"
      },
      "source": [
        "from sklearn.ensemble import RandomForestClassifier\n",
        "\n",
        "rf = RandomForestClassifier(criterion='gini',min_samples_split=8, n_estimators=1000,\n",
        "                           random_state = 7)\n",
        "rf.fit(X, y)"
      ],
      "execution_count": null,
      "outputs": [
        {
          "output_type": "execute_result",
          "data": {
            "text/plain": [
              "RandomForestClassifier(bootstrap=True, ccp_alpha=0.0, class_weight=None,\n",
              "                       criterion='gini', max_depth=None, max_features='auto',\n",
              "                       max_leaf_nodes=None, max_samples=None,\n",
              "                       min_impurity_decrease=0.0, min_impurity_split=None,\n",
              "                       min_samples_leaf=1, min_samples_split=8,\n",
              "                       min_weight_fraction_leaf=0.0, n_estimators=1000,\n",
              "                       n_jobs=None, oob_score=False, random_state=7, verbose=0,\n",
              "                       warm_start=False)"
            ]
          },
          "metadata": {
            "tags": []
          },
          "execution_count": 548
        }
      ]
    },
    {
      "cell_type": "code",
      "metadata": {
        "id": "5Yq59Wiu5aOG"
      },
      "source": [
        "# helper function for creating a feature importance dataframe\n",
        "\n",
        "def imp_df(column_names, importances):\n",
        "    df = pd.DataFrame({'feature': column_names,\n",
        "                       'feature_importance': importances}) \\\n",
        "           .sort_values('feature_importance', ascending = False) \\\n",
        "           .reset_index(drop = True)\n",
        "    return df\n",
        "\n",
        "# plotting a feature importance dataframe (horizontal barchart)\n",
        "\n",
        "def var_imp_plot(imp_df, title):\n",
        "    imp_df.columns = ['feature', 'feature_importance']\n",
        "    sns.barplot(x = 'feature_importance', y = 'feature', data = imp_df, orient = 'h', color = 'royalblue') \\\n",
        "       .set_title(title, fontsize = 20)"
      ],
      "execution_count": null,
      "outputs": []
    },
    {
      "cell_type": "code",
      "metadata": {
        "id": "dCxNUBOq5hXj"
      },
      "source": [
        "base_imp = imp_df(X.columns, rf.feature_importances_)\n",
        "top_30_imp = base_imp[0:30]\n",
        "top_30_features = top_30_imp.feature"
      ],
      "execution_count": null,
      "outputs": []
    },
    {
      "cell_type": "code",
      "metadata": {
        "id": "qPVBLsga5nQ7"
      },
      "source": [
        "pylab.rcParams[\"figure.figsize\"] = (50,50)"
      ],
      "execution_count": null,
      "outputs": []
    },
    {
      "cell_type": "code",
      "metadata": {
        "colab": {
          "base_uri": "https://localhost:8080/",
          "height": 946
        },
        "id": "ClgPhWIs5sF-",
        "outputId": "b0f70546-49cb-46ac-b6fe-aa893354db21"
      },
      "source": [
        "var_imp_plot(base_imp, 'Default feature importance (scikit-learn)')\n"
      ],
      "execution_count": null,
      "outputs": [
        {
          "output_type": "display_data",
          "data": {
            "image/png": "[encoded data removed]",
            "text/plain": [
              "<Figure size 3600x3600 with 1 Axes>"
            ]
          },
          "metadata": {
            "tags": [],
            "needs_background": "light"
          }
        }
      ]
    },
    {
      "cell_type": "code",
      "metadata": {
        "id": "357y34AN5_fh"
      },
      "source": [
        "train_df_final_top_imp = OH_train_df[top_30_features].join(y)\n",
        "test_df_final_top_imp = OH_test_df[top_30_features]"
      ],
      "execution_count": null,
      "outputs": []
    },
    {
      "cell_type": "code",
      "metadata": {
        "colab": {
          "base_uri": "https://localhost:8080/"
        },
        "id": "wgXfPFme6K7l",
        "outputId": "5addca01-ec7c-4cae-acaf-9b52ce8863e2"
      },
      "source": [
        "train_df_final_top_imp.shape"
      ],
      "execution_count": null,
      "outputs": [
        {
          "output_type": "execute_result",
          "data": {
            "text/plain": [
              "(44550, 31)"
            ]
          },
          "metadata": {
            "tags": []
          },
          "execution_count": 554
        }
      ]
    },
    {
      "cell_type": "markdown",
      "metadata": {
        "id": "XE3iSv1u6vm2"
      },
      "source": [
        "7) Submit the final labels (you should not touch the test data before this step) as a CSV file\n",
        "with a single column and no header."
      ]
    },
    {
      "cell_type": "code",
      "metadata": {
        "id": "L7JfRRJd9CcE"
      },
      "source": [
        "submission_df = pd.DataFrame()"
      ],
      "execution_count": null,
      "outputs": []
    },
    {
      "cell_type": "code",
      "metadata": {
        "colab": {
          "base_uri": "https://localhost:8080/"
        },
        "id": "zE0ysXNJ9qiE",
        "outputId": "57eb3d29-dbb0-4d7a-8696-3429c3b8ffae"
      },
      "source": [
        "X_test = sc.transform(X_test_final)\n",
        "submission_df['status_group']=rfc.predict(X_test)"
      ],
      "execution_count": null,
      "outputs": [
        {
          "output_type": "stream",
          "text": [
            "[Parallel(n_jobs=1)]: Using backend SequentialBackend with 1 concurrent workers.\n",
            "[Parallel(n_jobs=1)]: Done   1 out of   1 | elapsed:    0.0s remaining:    0.0s\n",
            "[Parallel(n_jobs=1)]: Done   2 out of   2 | elapsed:    0.0s remaining:    0.0s\n",
            "[Parallel(n_jobs=1)]: Done   3 out of   3 | elapsed:    0.0s remaining:    0.0s\n",
            "[Parallel(n_jobs=1)]: Done   4 out of   4 | elapsed:    0.0s remaining:    0.0s\n",
            "[Parallel(n_jobs=1)]: Done 1000 out of 1000 | elapsed:    4.6s finished\n"
          ],
          "name": "stderr"
        }
      ]
    },
    {
      "cell_type": "code",
      "metadata": {
        "id": "HxNUGJdp9v6z"
      },
      "source": [
        "vals_to_replace = {2:'functional', 1:'functional needs repair', 0:'non functional'}\n",
        "\n",
        "submission_df.status_group = submission_df.status_group.replace(vals_to_replace)"
      ],
      "execution_count": null,
      "outputs": []
    },
    {
      "cell_type": "code",
      "metadata": {
        "id": "Jrhyf88i9zYK"
      },
      "source": [
        "submission_df.to_csv(\"submission_TatianaSwrt_rfc_noretrain_80.csv\",sep=',', index=False)"
      ],
      "execution_count": null,
      "outputs": []
    },
    {
      "cell_type": "code",
      "metadata": {
        "id": "7c6CevSS_Bq1"
      },
      "source": [
        "data = pd.read_csv('/content/submission_TatianaSwrt_rfc_noretrain_80.csv')"
      ],
      "execution_count": null,
      "outputs": []
    },
    {
      "cell_type": "code",
      "metadata": {
        "colab": {
          "base_uri": "https://localhost:8080/",
          "height": 197
        },
        "id": "iCgRZu5g_PKk",
        "outputId": "6f7ce321-c230-45a5-b02a-73bc777a3fe4"
      },
      "source": [
        "data.head()"
      ],
      "execution_count": null,
      "outputs": [
        {
          "output_type": "execute_result",
          "data": {
            "text/html": [
              "<div>\n",
              "<style scoped>\n",
              "    .dataframe tbody tr th:only-of-type {\n",
              "        vertical-align: middle;\n",
              "    }\n",
              "\n",
              "    .dataframe tbody tr th {\n",
              "        vertical-align: top;\n",
              "    }\n",
              "\n",
              "    .dataframe thead th {\n",
              "        text-align: right;\n",
              "    }\n",
              "</style>\n",
              "<table border=\"1\" class=\"dataframe\">\n",
              "  <thead>\n",
              "    <tr style=\"text-align: right;\">\n",
              "      <th></th>\n",
              "      <th>status_group</th>\n",
              "    </tr>\n",
              "  </thead>\n",
              "  <tbody>\n",
              "    <tr>\n",
              "      <th>0</th>\n",
              "      <td>functional</td>\n",
              "    </tr>\n",
              "    <tr>\n",
              "      <th>1</th>\n",
              "      <td>non functional</td>\n",
              "    </tr>\n",
              "    <tr>\n",
              "      <th>2</th>\n",
              "      <td>functional</td>\n",
              "    </tr>\n",
              "    <tr>\n",
              "      <th>3</th>\n",
              "      <td>non functional</td>\n",
              "    </tr>\n",
              "    <tr>\n",
              "      <th>4</th>\n",
              "      <td>functional</td>\n",
              "    </tr>\n",
              "  </tbody>\n",
              "</table>\n",
              "</div>"
            ],
            "text/plain": [
              "     status_group\n",
              "0      functional\n",
              "1  non functional\n",
              "2      functional\n",
              "3  non functional\n",
              "4      functional"
            ]
          },
          "metadata": {
            "tags": []
          },
          "execution_count": 560
        }
      ]
    },
    {
      "cell_type": "code",
      "metadata": {
        "colab": {
          "base_uri": "https://localhost:8080/"
        },
        "id": "p7Colrzb_T1q",
        "outputId": "7cc05027-e736-4eef-b9f0-425abcb46812"
      },
      "source": [
        "data.shape"
      ],
      "execution_count": null,
      "outputs": [
        {
          "output_type": "execute_result",
          "data": {
            "text/plain": [
              "(14850, 1)"
            ]
          },
          "metadata": {
            "tags": []
          },
          "execution_count": 561
        }
      ]
    },
    {
      "cell_type": "markdown",
      "metadata": {
        "id": "2sm1MPNN_f2O"
      },
      "source": [
        "8. Make the notebook easy and insightful to read and declare inspiration sources."
      ]
    },
    {
      "cell_type": "markdown",
      "metadata": {
        "id": "7NIoeH5sAVgT"
      },
      "source": [
        "References:-"
      ]
    },
    {
      "cell_type": "markdown",
      "metadata": {
        "id": "Cx1Hwtx0_h5i"
      },
      "source": [
        "https://www.kaggle.com"
      ]
    }
  ]
}